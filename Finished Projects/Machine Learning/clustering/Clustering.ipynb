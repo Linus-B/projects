{
 "cells": [
  {
   "cell_type": "code",
   "execution_count": 1,
   "id": "37119a2b-b48c-4c5b-8e4b-dde76ae4a5f0",
   "metadata": {},
   "outputs": [
    {
     "name": "stdout",
     "output_type": "stream",
     "text": [
      "'data.frame':\t30000 obs. of  40 variables:\n",
      " $ gradyear    : int  2006 2006 2006 2006 2006 2006 2006 2006 2006 2006 ...\n",
      " $ gender      : Factor w/ 2 levels \"F\",\"M\": 2 1 2 1 NA 1 1 2 1 1 ...\n",
      " $ age         : num  19 18.8 18.3 18.9 19 ...\n",
      " $ friends     : int  7 0 69 0 10 142 72 17 52 39 ...\n",
      " $ basketball  : int  0 0 0 0 0 0 0 0 0 0 ...\n",
      " $ football    : int  0 1 1 0 0 0 0 0 0 0 ...\n",
      " $ soccer      : int  0 0 0 0 0 0 0 0 0 0 ...\n",
      " $ softball    : int  0 0 0 0 0 0 0 1 0 0 ...\n",
      " $ volleyball  : int  0 0 0 0 0 0 0 0 0 0 ...\n",
      " $ swimming    : int  0 0 0 0 0 0 0 0 0 0 ...\n",
      " $ cheerleading: int  0 0 0 0 0 0 0 0 0 0 ...\n",
      " $ baseball    : int  0 0 0 0 0 0 0 0 0 0 ...\n",
      " $ tennis      : int  0 0 0 0 0 0 0 0 0 0 ...\n",
      " $ sports      : int  0 0 0 0 0 0 0 0 0 0 ...\n",
      " $ cute        : int  0 1 0 1 0 0 0 0 0 1 ...\n",
      " $ sex         : int  0 0 0 0 1 1 0 2 0 0 ...\n",
      " $ sexy        : int  0 0 0 0 0 0 0 1 0 0 ...\n",
      " $ hot         : int  0 0 0 0 0 0 0 0 0 1 ...\n",
      " $ kissed      : int  0 0 0 0 5 0 0 0 0 0 ...\n",
      " $ dance       : int  1 0 0 0 1 0 0 0 0 0 ...\n",
      " $ band        : int  0 0 2 0 1 0 1 0 0 0 ...\n",
      " $ marching    : int  0 0 0 0 0 1 1 0 0 0 ...\n",
      " $ music       : int  0 2 1 0 3 2 0 1 0 1 ...\n",
      " $ rock        : int  0 2 0 1 0 0 0 1 0 1 ...\n",
      " $ god         : int  0 1 0 0 1 0 0 0 0 6 ...\n",
      " $ church      : int  0 0 0 0 0 0 0 0 0 0 ...\n",
      " $ jesus       : int  0 0 0 0 0 0 0 0 0 2 ...\n",
      " $ bible       : int  0 0 0 0 0 0 0 0 0 0 ...\n",
      " $ hair        : int  0 6 0 0 1 0 0 0 0 1 ...\n",
      " $ dress       : int  0 4 0 0 0 1 0 0 0 0 ...\n",
      " $ blonde      : int  0 0 0 0 0 0 0 0 0 0 ...\n",
      " $ mall        : int  0 1 0 0 0 0 2 0 0 0 ...\n",
      " $ shopping    : int  0 0 0 0 2 1 0 0 0 1 ...\n",
      " $ clothes     : int  0 0 0 0 0 0 0 0 0 0 ...\n",
      " $ hollister   : int  0 0 0 0 0 0 2 0 0 0 ...\n",
      " $ abercrombie : int  0 0 0 0 0 0 0 0 0 0 ...\n",
      " $ die         : int  0 0 0 0 0 0 0 0 0 0 ...\n",
      " $ death       : int  0 0 1 0 0 0 0 0 0 0 ...\n",
      " $ drunk       : int  0 0 0 0 1 1 0 0 0 0 ...\n",
      " $ drugs       : int  0 0 0 0 1 0 0 0 0 0 ...\n"
     ]
    }
   ],
   "source": [
    "# Load the dataset\n",
    "teens <- read.csv(\"snsdata.csv\", stringsAsFactors = TRUE)\n",
    "\n",
    "# Display the structure of the dataset\n",
    "str(teens)"
   ]
  },
  {
   "cell_type": "code",
   "execution_count": 2,
   "id": "d82dae3b-29a2-49bf-8884-5f41e15c71ac",
   "metadata": {},
   "outputs": [
    {
     "data": {
      "text/plain": [
       "   Min. 1st Qu.  Median    Mean 3rd Qu.    Max.    NA's \n",
       "  13.03   16.30   17.27   17.25   18.22   20.00    5523 "
      ]
     },
     "metadata": {},
     "output_type": "display_data"
    }
   ],
   "source": [
    "# Replace ages below 13 and above 20 by NA\n",
    "teens$age <- ifelse(teens$age >= 13 & teens$age < 20, teens$age, NA)\n",
    "\n",
    "# Check the result\n",
    "summary(teens$age)"
   ]
  },
  {
   "cell_type": "code",
   "execution_count": 3,
   "id": "849e6ec4-1b19-43a7-b9dd-60242cfcc684",
   "metadata": {},
   "outputs": [
    {
     "data": {
      "text/plain": [
       "\n",
       "    0     1 \n",
       "27276  2724 "
      ]
     },
     "metadata": {},
     "output_type": "display_data"
    },
    {
     "data": {
      "text/plain": [
       "\n",
       "    0     1 \n",
       " 7946 22054 "
      ]
     },
     "metadata": {},
     "output_type": "display_data"
    }
   ],
   "source": [
    "# Create a separate category for the missing value\n",
    "teens$no_gender <- ifelse(is.na(teens$gender), 1, 0)\n",
    "\n",
    "# Check for correctness (display counts of possible NAs)\n",
    "table(teens$no_gender, useNA = \"ifany\")\n",
    "\n",
    "# Create a category for females; the second clause is needed so NAs get assigned into the \"0\" class\n",
    "teens$female <- ifelse(teens$gender == \"F\" & !is.na(teens$gender), 1, 0)\n",
    "\n",
    "# Check for correctness (display counts of possible NAs)\n",
    "table(teens$female, useNA = \"ifany\")"
   ]
  },
  {
   "cell_type": "code",
   "execution_count": 4,
   "id": "45faf0d1-c452-49a8-95be-7d118c06b474",
   "metadata": {},
   "outputs": [
    {
     "data": {
      "text/html": [
       "&lt;NA&gt;"
      ],
      "text/latex": [
       "<NA>"
      ],
      "text/markdown": [
       "&lt;NA&gt;"
      ],
      "text/plain": [
       "[1] NA"
      ]
     },
     "metadata": {},
     "output_type": "display_data"
    },
    {
     "data": {
      "text/html": [
       "17.2524289332843"
      ],
      "text/latex": [
       "17.2524289332843"
      ],
      "text/markdown": [
       "17.2524289332843"
      ],
      "text/plain": [
       "[1] 17.25243"
      ]
     },
     "metadata": {},
     "output_type": "display_data"
    }
   ],
   "source": [
    "# Try to compute the mean age of all students\n",
    "mean(teens$age)\n",
    "\n",
    "# Compute the mean age removing the missing values\n",
    "mean(teens$age, na.rm = TRUE)"
   ]
  },
  {
   "cell_type": "code",
   "execution_count": 5,
   "id": "af2ab794-30d3-4093-b972-ca5a1d4f9d96",
   "metadata": {},
   "outputs": [
    {
     "data": {
      "text/plain": [
       "ave_age\n",
       "15.8195733445096 16.7677007371007 17.7061723749799 18.6558579508727 \n",
       "            7500             7500             7500             7500 "
      ]
     },
     "metadata": {},
     "output_type": "display_data"
    }
   ],
   "source": [
    "# Apply the function \"mean(..., na.rm = TRUE)\" to the \"age\" feature over the levels of \"gradyear\"\n",
    "ave_age <- ave(teens$age, teens$gradyear, FUN = function(x) mean(x, na.rm = TRUE))\n",
    "\n",
    "# Check the distribution: we have 7500 values for each average age\n",
    "table(ave_age)"
   ]
  },
  {
   "cell_type": "code",
   "execution_count": 6,
   "id": "88e967cd-a41e-41ba-a581-123977aa248f",
   "metadata": {},
   "outputs": [
    {
     "data": {
      "text/plain": [
       "   Min. 1st Qu.  Median    Mean 3rd Qu.    Max. \n",
       "  13.03   16.28   17.24   17.24   18.21   20.00 "
      ]
     },
     "metadata": {},
     "output_type": "display_data"
    }
   ],
   "source": [
    "# If there is a missing value, use \"ave_age\"; otherwise use the original age\n",
    "teens$age <- ifelse(is.na(teens$age), ave_age, teens$age)\n",
    "\n",
    "# Check the result: there should be no missing values\n",
    "summary(teens$age)"
   ]
  },
  {
   "cell_type": "code",
   "execution_count": 7,
   "id": "409cf309-fbae-4fba-9bcd-38ee10fc6c3b",
   "metadata": {},
   "outputs": [],
   "source": [
    "# Create data frame with the \"interest\" features\n",
    "interests <- teens[5:40]\n",
    "\n",
    "# Can check with summary: uncomment the command to see\n",
    "#summary(interests)"
   ]
  },
  {
   "cell_type": "code",
   "execution_count": 8,
   "id": "9d6fb1fc-a306-433b-a9ed-42b9af9de8f1",
   "metadata": {},
   "outputs": [
    {
     "data": {
      "text/plain": [
       "   Min. 1st Qu.  Median    Mean 3rd Qu.    Max. \n",
       " 0.0000  0.0000  0.0000  0.2673  0.0000 24.0000 "
      ]
     },
     "metadata": {},
     "output_type": "display_data"
    },
    {
     "data": {
      "text/plain": [
       "   Min. 1st Qu.  Median    Mean 3rd Qu.    Max. \n",
       "-0.3322 -0.3322 -0.3322  0.0000 -0.3322 29.4923 "
      ]
     },
     "metadata": {},
     "output_type": "display_data"
    }
   ],
   "source": [
    "# Standardize \"interests\" using \"scale\" (makes mean = 0 and standard deviation = 1)\n",
    "interests_z <- as.data.frame(lapply(interests, scale))\n",
    "\n",
    "# Check the first feature\n",
    "summary(interests$basketball)\n",
    "summary(interests_z$basketball)"
   ]
  },
  {
   "cell_type": "code",
   "execution_count": 9,
   "id": "843c96a9-6e57-4091-9646-101a4c3deb61",
   "metadata": {},
   "outputs": [
    {
     "name": "stdout",
     "output_type": "stream",
     "text": [
      "List of 9\n",
      " $ cluster     : int [1:30000] 5 3 5 5 1 5 3 5 5 3 ...\n",
      " $ centers     : num [1:5, 1:36] 0.36216 -0.09443 0.00398 1.37233 -0.18682 ...\n",
      "  ..- attr(*, \"dimnames\")=List of 2\n",
      "  .. ..$ : chr [1:5] \"1\" \"2\" \"3\" \"4\" ...\n",
      "  .. ..$ : chr [1:36] \"basketball\" \"football\" \"soccer\" \"softball\" ...\n",
      " $ totss       : num 1079964\n",
      " $ withinss    : num [1:5] 184943 36141 298540 161486 265012\n",
      " $ tot.withinss: num 946123\n",
      " $ betweenss   : num 133841\n",
      " $ size        : int [1:5] 1038 601 4066 2696 21599\n",
      " $ iter        : int 7\n",
      " $ ifault      : int 0\n",
      " - attr(*, \"class\")= chr \"kmeans\"\n"
     ]
    }
   ],
   "source": [
    "# Load the library\n",
    "library(stats)\n",
    "\n",
    "# Set a seed\n",
    "set.seed(2345)\n",
    "\n",
    "# Train the model\n",
    "teen_clusters <- kmeans(interests_z, centers = 5)\n",
    "\n",
    "# Display the structure of the output\n",
    "str(teen_clusters)"
   ]
  },
  {
   "cell_type": "code",
   "execution_count": 10,
   "id": "addaa6aa-60c5-41f9-a02f-1925aad355d8",
   "metadata": {},
   "outputs": [
    {
     "data": {
      "text/html": [
       "<style>\n",
       ".list-inline {list-style: none; margin:0; padding: 0}\n",
       ".list-inline>li {display: inline-block}\n",
       ".list-inline>li:not(:last-child)::after {content: \"\\00b7\"; padding: 0 .5ex}\n",
       "</style>\n",
       "<ol class=list-inline><li>1038</li><li>601</li><li>4066</li><li>2696</li><li>21599</li></ol>\n"
      ],
      "text/latex": [
       "\\begin{enumerate*}\n",
       "\\item 1038\n",
       "\\item 601\n",
       "\\item 4066\n",
       "\\item 2696\n",
       "\\item 21599\n",
       "\\end{enumerate*}\n"
      ],
      "text/markdown": [
       "1. 1038\n",
       "2. 601\n",
       "3. 4066\n",
       "4. 2696\n",
       "5. 21599\n",
       "\n",
       "\n"
      ],
      "text/plain": [
       "[1]  1038   601  4066  2696 21599"
      ]
     },
     "metadata": {},
     "output_type": "display_data"
    }
   ],
   "source": [
    "# Display the cluster sizes\n",
    "teen_clusters$size"
   ]
  },
  {
   "cell_type": "code",
   "execution_count": 11,
   "id": "f558192a-2263-4325-aca2-ad03497e119d",
   "metadata": {},
   "outputs": [
    {
     "data": {
      "text/html": [
       "<table class=\"dataframe\">\n",
       "<caption>A matrix: 36 × 5 of type dbl</caption>\n",
       "<thead>\n",
       "\t<tr><th></th><th scope=col>1</th><th scope=col>2</th><th scope=col>3</th><th scope=col>4</th><th scope=col>5</th></tr>\n",
       "</thead>\n",
       "<tbody>\n",
       "\t<tr><th scope=row>basketball</th><td> 0.36216073</td><td>-0.094426312</td><td> 0.003980104</td><td> 1.372334818</td><td>-0.18682209</td></tr>\n",
       "\t<tr><th scope=row>football</th><td> 0.37985213</td><td> 0.066917685</td><td> 0.095240622</td><td> 1.195703430</td><td>-0.18729427</td></tr>\n",
       "\t<tr><th scope=row>soccer</th><td> 0.13734997</td><td>-0.099560092</td><td> 0.053421088</td><td> 0.556210971</td><td>-0.08331351</td></tr>\n",
       "\t<tr><th scope=row>softball</th><td> 0.12721074</td><td>-0.037972504</td><td>-0.049686403</td><td> 1.130452734</td><td>-0.13680721</td></tr>\n",
       "\t<tr><th scope=row>volleyball</th><td> 0.09247518</td><td>-0.072862022</td><td>-0.014596479</td><td> 1.071772105</td><td>-0.13344819</td></tr>\n",
       "\t<tr><th scope=row>swimming</th><td> 0.26180286</td><td> 0.045784007</td><td> 0.329449341</td><td> 0.085132100</td><td>-0.08650052</td></tr>\n",
       "\t<tr><th scope=row>cheerleading</th><td> 0.21599455</td><td>-0.107037005</td><td> 0.514245096</td><td> 0.040036702</td><td>-0.10920564</td></tr>\n",
       "\t<tr><th scope=row>baseball</th><td> 0.25312305</td><td>-0.111829408</td><td>-0.049336281</td><td> 1.092797366</td><td>-0.13616893</td></tr>\n",
       "\t<tr><th scope=row>tennis</th><td> 0.11991682</td><td> 0.040273354</td><td> 0.067033860</td><td> 0.138871838</td><td>-0.03683671</td></tr>\n",
       "\t<tr><th scope=row>sports</th><td> 0.77040675</td><td>-0.106386126</td><td>-0.054350928</td><td> 1.083160966</td><td>-0.15903307</td></tr>\n",
       "\t<tr><th scope=row>cute</th><td> 0.47526503</td><td>-0.027044898</td><td> 0.796948359</td><td>-0.005291962</td><td>-0.17145220</td></tr>\n",
       "\t<tr><th scope=row>sex</th><td> 2.04394566</td><td>-0.042725567</td><td>-0.003156716</td><td>-0.033193640</td><td>-0.09230114</td></tr>\n",
       "\t<tr><th scope=row>sexy</th><td> 0.54795660</td><td>-0.027913348</td><td> 0.266741598</td><td> 0.003036966</td><td>-0.07614992</td></tr>\n",
       "\t<tr><th scope=row>hot</th><td> 0.31484539</td><td>-0.035027022</td><td> 0.623263396</td><td> 0.009046774</td><td>-0.13261435</td></tr>\n",
       "\t<tr><th scope=row>kissed</th><td> 3.02610259</td><td>-0.045810674</td><td>-0.012849644</td><td>-0.087554177</td><td>-0.13080557</td></tr>\n",
       "\t<tr><th scope=row>dance</th><td> 0.45550128</td><td> 0.050772118</td><td> 0.650572336</td><td>-0.001993853</td><td>-0.14552415</td></tr>\n",
       "\t<tr><th scope=row>band</th><td> 0.39009330</td><td> 4.097234380</td><td>-0.033012567</td><td>-0.073177576</td><td>-0.11740538</td></tr>\n",
       "\t<tr><th scope=row>marching</th><td>-0.01054630</td><td> 5.219610537</td><td>-0.113148627</td><td>-0.103950864</td><td>-0.11045535</td></tr>\n",
       "\t<tr><th scope=row>music</th><td> 1.21014015</td><td> 0.516243655</td><td> 0.245274954</td><td> 0.071023226</td><td>-0.12755935</td></tr>\n",
       "\t<tr><th scope=row>rock</th><td> 1.20149975</td><td> 0.186528647</td><td> 0.116627399</td><td> 0.156515454</td><td>-0.10442303</td></tr>\n",
       "\t<tr><th scope=row>god</th><td> 0.41743650</td><td> 0.097060270</td><td> 0.328677380</td><td> 0.049029181</td><td>-0.09075500</td></tr>\n",
       "\t<tr><th scope=row>church</th><td> 0.16218036</td><td> 0.067534696</td><td> 0.519572912</td><td> 0.132060198</td><td>-0.12396636</td></tr>\n",
       "\t<tr><th scope=row>jesus</th><td> 0.12698409</td><td> 0.053339661</td><td> 0.261427836</td><td> 0.017769863</td><td>-0.05901846</td></tr>\n",
       "\t<tr><th scope=row>bible</th><td> 0.07464400</td><td> 0.058367079</td><td> 0.239468552</td><td> 0.017192196</td><td>-0.05243708</td></tr>\n",
       "\t<tr><th scope=row>hair</th><td> 2.59053048</td><td>-0.051468375</td><td> 0.355900247</td><td> 0.017148196</td><td>-0.19220150</td></tr>\n",
       "\t<tr><th scope=row>dress</th><td> 0.53120816</td><td> 0.049272403</td><td> 0.583782688</td><td>-0.065335805</td><td>-0.12864123</td></tr>\n",
       "\t<tr><th scope=row>blonde</th><td> 0.36322464</td><td>-0.012386287</td><td> 0.033015263</td><td> 0.036909384</td><td>-0.02793327</td></tr>\n",
       "\t<tr><th scope=row>mall</th><td> 0.62289629</td><td>-0.087713363</td><td> 0.808620531</td><td>-0.004723697</td><td>-0.17912712</td></tr>\n",
       "\t<tr><th scope=row>shopping</th><td> 0.27607550</td><td>-0.037102731</td><td> 1.070731153</td><td> 0.034978749</td><td>-0.21816580</td></tr>\n",
       "\t<tr><th scope=row>clothes</th><td> 1.24512160</td><td>-0.004395251</td><td> 0.616207360</td><td> 0.016201064</td><td>-0.17773841</td></tr>\n",
       "\t<tr><th scope=row>hollister</th><td> 0.31525537</td><td>-0.167885990</td><td> 0.859516033</td><td>-0.083815460</td><td>-0.16182051</td></tr>\n",
       "\t<tr><th scope=row>abercrombie</th><td> 0.41315597</td><td>-0.141365205</td><td> 0.793505955</td><td>-0.086170798</td><td>-0.15454300</td></tr>\n",
       "\t<tr><th scope=row>die</th><td> 1.71216098</td><td> 0.008941101</td><td> 0.062399295</td><td>-0.067312427</td><td>-0.08587610</td></tr>\n",
       "\t<tr><th scope=row>death</th><td> 0.94713629</td><td> 0.054647587</td><td> 0.126422220</td><td>-0.016111625</td><td>-0.06882571</td></tr>\n",
       "\t<tr><th scope=row>drunk</th><td> 1.83371069</td><td>-0.086995559</td><td> 0.035941621</td><td>-0.068917628</td><td>-0.08386703</td></tr>\n",
       "\t<tr><th scope=row>drugs</th><td> 2.73878856</td><td>-0.064145881</td><td>-0.058881409</td><td>-0.087950592</td><td>-0.10777278</td></tr>\n",
       "</tbody>\n",
       "</table>\n"
      ],
      "text/latex": [
       "A matrix: 36 × 5 of type dbl\n",
       "\\begin{tabular}{r|lllll}\n",
       "  & 1 & 2 & 3 & 4 & 5\\\\\n",
       "\\hline\n",
       "\tbasketball &  0.36216073 & -0.094426312 &  0.003980104 &  1.372334818 & -0.18682209\\\\\n",
       "\tfootball &  0.37985213 &  0.066917685 &  0.095240622 &  1.195703430 & -0.18729427\\\\\n",
       "\tsoccer &  0.13734997 & -0.099560092 &  0.053421088 &  0.556210971 & -0.08331351\\\\\n",
       "\tsoftball &  0.12721074 & -0.037972504 & -0.049686403 &  1.130452734 & -0.13680721\\\\\n",
       "\tvolleyball &  0.09247518 & -0.072862022 & -0.014596479 &  1.071772105 & -0.13344819\\\\\n",
       "\tswimming &  0.26180286 &  0.045784007 &  0.329449341 &  0.085132100 & -0.08650052\\\\\n",
       "\tcheerleading &  0.21599455 & -0.107037005 &  0.514245096 &  0.040036702 & -0.10920564\\\\\n",
       "\tbaseball &  0.25312305 & -0.111829408 & -0.049336281 &  1.092797366 & -0.13616893\\\\\n",
       "\ttennis &  0.11991682 &  0.040273354 &  0.067033860 &  0.138871838 & -0.03683671\\\\\n",
       "\tsports &  0.77040675 & -0.106386126 & -0.054350928 &  1.083160966 & -0.15903307\\\\\n",
       "\tcute &  0.47526503 & -0.027044898 &  0.796948359 & -0.005291962 & -0.17145220\\\\\n",
       "\tsex &  2.04394566 & -0.042725567 & -0.003156716 & -0.033193640 & -0.09230114\\\\\n",
       "\tsexy &  0.54795660 & -0.027913348 &  0.266741598 &  0.003036966 & -0.07614992\\\\\n",
       "\thot &  0.31484539 & -0.035027022 &  0.623263396 &  0.009046774 & -0.13261435\\\\\n",
       "\tkissed &  3.02610259 & -0.045810674 & -0.012849644 & -0.087554177 & -0.13080557\\\\\n",
       "\tdance &  0.45550128 &  0.050772118 &  0.650572336 & -0.001993853 & -0.14552415\\\\\n",
       "\tband &  0.39009330 &  4.097234380 & -0.033012567 & -0.073177576 & -0.11740538\\\\\n",
       "\tmarching & -0.01054630 &  5.219610537 & -0.113148627 & -0.103950864 & -0.11045535\\\\\n",
       "\tmusic &  1.21014015 &  0.516243655 &  0.245274954 &  0.071023226 & -0.12755935\\\\\n",
       "\trock &  1.20149975 &  0.186528647 &  0.116627399 &  0.156515454 & -0.10442303\\\\\n",
       "\tgod &  0.41743650 &  0.097060270 &  0.328677380 &  0.049029181 & -0.09075500\\\\\n",
       "\tchurch &  0.16218036 &  0.067534696 &  0.519572912 &  0.132060198 & -0.12396636\\\\\n",
       "\tjesus &  0.12698409 &  0.053339661 &  0.261427836 &  0.017769863 & -0.05901846\\\\\n",
       "\tbible &  0.07464400 &  0.058367079 &  0.239468552 &  0.017192196 & -0.05243708\\\\\n",
       "\thair &  2.59053048 & -0.051468375 &  0.355900247 &  0.017148196 & -0.19220150\\\\\n",
       "\tdress &  0.53120816 &  0.049272403 &  0.583782688 & -0.065335805 & -0.12864123\\\\\n",
       "\tblonde &  0.36322464 & -0.012386287 &  0.033015263 &  0.036909384 & -0.02793327\\\\\n",
       "\tmall &  0.62289629 & -0.087713363 &  0.808620531 & -0.004723697 & -0.17912712\\\\\n",
       "\tshopping &  0.27607550 & -0.037102731 &  1.070731153 &  0.034978749 & -0.21816580\\\\\n",
       "\tclothes &  1.24512160 & -0.004395251 &  0.616207360 &  0.016201064 & -0.17773841\\\\\n",
       "\thollister &  0.31525537 & -0.167885990 &  0.859516033 & -0.083815460 & -0.16182051\\\\\n",
       "\tabercrombie &  0.41315597 & -0.141365205 &  0.793505955 & -0.086170798 & -0.15454300\\\\\n",
       "\tdie &  1.71216098 &  0.008941101 &  0.062399295 & -0.067312427 & -0.08587610\\\\\n",
       "\tdeath &  0.94713629 &  0.054647587 &  0.126422220 & -0.016111625 & -0.06882571\\\\\n",
       "\tdrunk &  1.83371069 & -0.086995559 &  0.035941621 & -0.068917628 & -0.08386703\\\\\n",
       "\tdrugs &  2.73878856 & -0.064145881 & -0.058881409 & -0.087950592 & -0.10777278\\\\\n",
       "\\end{tabular}\n"
      ],
      "text/markdown": [
       "\n",
       "A matrix: 36 × 5 of type dbl\n",
       "\n",
       "| <!--/--> | 1 | 2 | 3 | 4 | 5 |\n",
       "|---|---|---|---|---|---|\n",
       "| basketball |  0.36216073 | -0.094426312 |  0.003980104 |  1.372334818 | -0.18682209 |\n",
       "| football |  0.37985213 |  0.066917685 |  0.095240622 |  1.195703430 | -0.18729427 |\n",
       "| soccer |  0.13734997 | -0.099560092 |  0.053421088 |  0.556210971 | -0.08331351 |\n",
       "| softball |  0.12721074 | -0.037972504 | -0.049686403 |  1.130452734 | -0.13680721 |\n",
       "| volleyball |  0.09247518 | -0.072862022 | -0.014596479 |  1.071772105 | -0.13344819 |\n",
       "| swimming |  0.26180286 |  0.045784007 |  0.329449341 |  0.085132100 | -0.08650052 |\n",
       "| cheerleading |  0.21599455 | -0.107037005 |  0.514245096 |  0.040036702 | -0.10920564 |\n",
       "| baseball |  0.25312305 | -0.111829408 | -0.049336281 |  1.092797366 | -0.13616893 |\n",
       "| tennis |  0.11991682 |  0.040273354 |  0.067033860 |  0.138871838 | -0.03683671 |\n",
       "| sports |  0.77040675 | -0.106386126 | -0.054350928 |  1.083160966 | -0.15903307 |\n",
       "| cute |  0.47526503 | -0.027044898 |  0.796948359 | -0.005291962 | -0.17145220 |\n",
       "| sex |  2.04394566 | -0.042725567 | -0.003156716 | -0.033193640 | -0.09230114 |\n",
       "| sexy |  0.54795660 | -0.027913348 |  0.266741598 |  0.003036966 | -0.07614992 |\n",
       "| hot |  0.31484539 | -0.035027022 |  0.623263396 |  0.009046774 | -0.13261435 |\n",
       "| kissed |  3.02610259 | -0.045810674 | -0.012849644 | -0.087554177 | -0.13080557 |\n",
       "| dance |  0.45550128 |  0.050772118 |  0.650572336 | -0.001993853 | -0.14552415 |\n",
       "| band |  0.39009330 |  4.097234380 | -0.033012567 | -0.073177576 | -0.11740538 |\n",
       "| marching | -0.01054630 |  5.219610537 | -0.113148627 | -0.103950864 | -0.11045535 |\n",
       "| music |  1.21014015 |  0.516243655 |  0.245274954 |  0.071023226 | -0.12755935 |\n",
       "| rock |  1.20149975 |  0.186528647 |  0.116627399 |  0.156515454 | -0.10442303 |\n",
       "| god |  0.41743650 |  0.097060270 |  0.328677380 |  0.049029181 | -0.09075500 |\n",
       "| church |  0.16218036 |  0.067534696 |  0.519572912 |  0.132060198 | -0.12396636 |\n",
       "| jesus |  0.12698409 |  0.053339661 |  0.261427836 |  0.017769863 | -0.05901846 |\n",
       "| bible |  0.07464400 |  0.058367079 |  0.239468552 |  0.017192196 | -0.05243708 |\n",
       "| hair |  2.59053048 | -0.051468375 |  0.355900247 |  0.017148196 | -0.19220150 |\n",
       "| dress |  0.53120816 |  0.049272403 |  0.583782688 | -0.065335805 | -0.12864123 |\n",
       "| blonde |  0.36322464 | -0.012386287 |  0.033015263 |  0.036909384 | -0.02793327 |\n",
       "| mall |  0.62289629 | -0.087713363 |  0.808620531 | -0.004723697 | -0.17912712 |\n",
       "| shopping |  0.27607550 | -0.037102731 |  1.070731153 |  0.034978749 | -0.21816580 |\n",
       "| clothes |  1.24512160 | -0.004395251 |  0.616207360 |  0.016201064 | -0.17773841 |\n",
       "| hollister |  0.31525537 | -0.167885990 |  0.859516033 | -0.083815460 | -0.16182051 |\n",
       "| abercrombie |  0.41315597 | -0.141365205 |  0.793505955 | -0.086170798 | -0.15454300 |\n",
       "| die |  1.71216098 |  0.008941101 |  0.062399295 | -0.067312427 | -0.08587610 |\n",
       "| death |  0.94713629 |  0.054647587 |  0.126422220 | -0.016111625 | -0.06882571 |\n",
       "| drunk |  1.83371069 | -0.086995559 |  0.035941621 | -0.068917628 | -0.08386703 |\n",
       "| drugs |  2.73878856 | -0.064145881 | -0.058881409 | -0.087950592 | -0.10777278 |\n",
       "\n"
      ],
      "text/plain": [
       "             1           2            3            4            5          \n",
       "basketball    0.36216073 -0.094426312  0.003980104  1.372334818 -0.18682209\n",
       "football      0.37985213  0.066917685  0.095240622  1.195703430 -0.18729427\n",
       "soccer        0.13734997 -0.099560092  0.053421088  0.556210971 -0.08331351\n",
       "softball      0.12721074 -0.037972504 -0.049686403  1.130452734 -0.13680721\n",
       "volleyball    0.09247518 -0.072862022 -0.014596479  1.071772105 -0.13344819\n",
       "swimming      0.26180286  0.045784007  0.329449341  0.085132100 -0.08650052\n",
       "cheerleading  0.21599455 -0.107037005  0.514245096  0.040036702 -0.10920564\n",
       "baseball      0.25312305 -0.111829408 -0.049336281  1.092797366 -0.13616893\n",
       "tennis        0.11991682  0.040273354  0.067033860  0.138871838 -0.03683671\n",
       "sports        0.77040675 -0.106386126 -0.054350928  1.083160966 -0.15903307\n",
       "cute          0.47526503 -0.027044898  0.796948359 -0.005291962 -0.17145220\n",
       "sex           2.04394566 -0.042725567 -0.003156716 -0.033193640 -0.09230114\n",
       "sexy          0.54795660 -0.027913348  0.266741598  0.003036966 -0.07614992\n",
       "hot           0.31484539 -0.035027022  0.623263396  0.009046774 -0.13261435\n",
       "kissed        3.02610259 -0.045810674 -0.012849644 -0.087554177 -0.13080557\n",
       "dance         0.45550128  0.050772118  0.650572336 -0.001993853 -0.14552415\n",
       "band          0.39009330  4.097234380 -0.033012567 -0.073177576 -0.11740538\n",
       "marching     -0.01054630  5.219610537 -0.113148627 -0.103950864 -0.11045535\n",
       "music         1.21014015  0.516243655  0.245274954  0.071023226 -0.12755935\n",
       "rock          1.20149975  0.186528647  0.116627399  0.156515454 -0.10442303\n",
       "god           0.41743650  0.097060270  0.328677380  0.049029181 -0.09075500\n",
       "church        0.16218036  0.067534696  0.519572912  0.132060198 -0.12396636\n",
       "jesus         0.12698409  0.053339661  0.261427836  0.017769863 -0.05901846\n",
       "bible         0.07464400  0.058367079  0.239468552  0.017192196 -0.05243708\n",
       "hair          2.59053048 -0.051468375  0.355900247  0.017148196 -0.19220150\n",
       "dress         0.53120816  0.049272403  0.583782688 -0.065335805 -0.12864123\n",
       "blonde        0.36322464 -0.012386287  0.033015263  0.036909384 -0.02793327\n",
       "mall          0.62289629 -0.087713363  0.808620531 -0.004723697 -0.17912712\n",
       "shopping      0.27607550 -0.037102731  1.070731153  0.034978749 -0.21816580\n",
       "clothes       1.24512160 -0.004395251  0.616207360  0.016201064 -0.17773841\n",
       "hollister     0.31525537 -0.167885990  0.859516033 -0.083815460 -0.16182051\n",
       "abercrombie   0.41315597 -0.141365205  0.793505955 -0.086170798 -0.15454300\n",
       "die           1.71216098  0.008941101  0.062399295 -0.067312427 -0.08587610\n",
       "death         0.94713629  0.054647587  0.126422220 -0.016111625 -0.06882571\n",
       "drunk         1.83371069 -0.086995559  0.035941621 -0.068917628 -0.08386703\n",
       "drugs         2.73878856 -0.064145881 -0.058881409 -0.087950592 -0.10777278"
      ]
     },
     "metadata": {},
     "output_type": "display_data"
    }
   ],
   "source": [
    "# Display the cluster centers (transposed for better viewability)\n",
    "t(teen_clusters$centers)"
   ]
  },
  {
   "cell_type": "code",
   "execution_count": 12,
   "id": "c434bf49-c753-4f69-8480-9e0e65cba274",
   "metadata": {},
   "outputs": [],
   "source": [
    "# Add a new feature \"cluster\" to \"teens\"\n",
    "teens$cluster <- teen_clusters$cluster"
   ]
  },
  {
   "cell_type": "code",
   "execution_count": 13,
   "id": "83cf1e64-f2ef-4738-b64b-3803d7c5841e",
   "metadata": {},
   "outputs": [
    {
     "data": {
      "text/html": [
       "<table class=\"dataframe\">\n",
       "<caption>A data.frame: 10 × 4</caption>\n",
       "<thead>\n",
       "\t<tr><th></th><th scope=col>cluster</th><th scope=col>gender</th><th scope=col>age</th><th scope=col>friends</th></tr>\n",
       "\t<tr><th></th><th scope=col>&lt;int&gt;</th><th scope=col>&lt;fct&gt;</th><th scope=col>&lt;dbl&gt;</th><th scope=col>&lt;int&gt;</th></tr>\n",
       "</thead>\n",
       "<tbody>\n",
       "\t<tr><th scope=row>1</th><td>5</td><td>M </td><td>18.98200</td><td>  7</td></tr>\n",
       "\t<tr><th scope=row>2</th><td>3</td><td>F </td><td>18.80100</td><td>  0</td></tr>\n",
       "\t<tr><th scope=row>3</th><td>5</td><td>M </td><td>18.33500</td><td> 69</td></tr>\n",
       "\t<tr><th scope=row>4</th><td>5</td><td>F </td><td>18.87500</td><td>  0</td></tr>\n",
       "\t<tr><th scope=row>5</th><td>1</td><td>NA</td><td>18.99500</td><td> 10</td></tr>\n",
       "\t<tr><th scope=row>6</th><td>5</td><td>F </td><td>18.65586</td><td>142</td></tr>\n",
       "\t<tr><th scope=row>7</th><td>3</td><td>F </td><td>18.93000</td><td> 72</td></tr>\n",
       "\t<tr><th scope=row>8</th><td>5</td><td>M </td><td>18.32200</td><td> 17</td></tr>\n",
       "\t<tr><th scope=row>9</th><td>5</td><td>F </td><td>19.05500</td><td> 52</td></tr>\n",
       "\t<tr><th scope=row>10</th><td>3</td><td>F </td><td>18.70800</td><td> 39</td></tr>\n",
       "</tbody>\n",
       "</table>\n"
      ],
      "text/latex": [
       "A data.frame: 10 × 4\n",
       "\\begin{tabular}{r|llll}\n",
       "  & cluster & gender & age & friends\\\\\n",
       "  & <int> & <fct> & <dbl> & <int>\\\\\n",
       "\\hline\n",
       "\t1 & 5 & M  & 18.98200 &   7\\\\\n",
       "\t2 & 3 & F  & 18.80100 &   0\\\\\n",
       "\t3 & 5 & M  & 18.33500 &  69\\\\\n",
       "\t4 & 5 & F  & 18.87500 &   0\\\\\n",
       "\t5 & 1 & NA & 18.99500 &  10\\\\\n",
       "\t6 & 5 & F  & 18.65586 & 142\\\\\n",
       "\t7 & 3 & F  & 18.93000 &  72\\\\\n",
       "\t8 & 5 & M  & 18.32200 &  17\\\\\n",
       "\t9 & 5 & F  & 19.05500 &  52\\\\\n",
       "\t10 & 3 & F  & 18.70800 &  39\\\\\n",
       "\\end{tabular}\n"
      ],
      "text/markdown": [
       "\n",
       "A data.frame: 10 × 4\n",
       "\n",
       "| <!--/--> | cluster &lt;int&gt; | gender &lt;fct&gt; | age &lt;dbl&gt; | friends &lt;int&gt; |\n",
       "|---|---|---|---|---|\n",
       "| 1 | 5 | M  | 18.98200 |   7 |\n",
       "| 2 | 3 | F  | 18.80100 |   0 |\n",
       "| 3 | 5 | M  | 18.33500 |  69 |\n",
       "| 4 | 5 | F  | 18.87500 |   0 |\n",
       "| 5 | 1 | NA | 18.99500 |  10 |\n",
       "| 6 | 5 | F  | 18.65586 | 142 |\n",
       "| 7 | 3 | F  | 18.93000 |  72 |\n",
       "| 8 | 5 | M  | 18.32200 |  17 |\n",
       "| 9 | 5 | F  | 19.05500 |  52 |\n",
       "| 10 | 3 | F  | 18.70800 |  39 |\n",
       "\n"
      ],
      "text/plain": [
       "   cluster gender age      friends\n",
       "1  5       M      18.98200   7    \n",
       "2  3       F      18.80100   0    \n",
       "3  5       M      18.33500  69    \n",
       "4  5       F      18.87500   0    \n",
       "5  1       NA     18.99500  10    \n",
       "6  5       F      18.65586 142    \n",
       "7  3       F      18.93000  72    \n",
       "8  5       M      18.32200  17    \n",
       "9  5       F      19.05500  52    \n",
       "10 3       F      18.70800  39    "
      ]
     },
     "metadata": {},
     "output_type": "display_data"
    }
   ],
   "source": [
    "# Display first 10 individuals' personal information\n",
    "teens[1:10, c(\"cluster\", \"gender\", \"age\", \"friends\")]"
   ]
  },
  {
   "cell_type": "code",
   "execution_count": 14,
   "id": "22267b02-b987-4e4a-910a-c0eff5687069",
   "metadata": {},
   "outputs": [
    {
     "data": {
      "text/html": [
       "<table class=\"dataframe\">\n",
       "<caption>A data.frame: 5 × 2</caption>\n",
       "<thead>\n",
       "\t<tr><th scope=col>cluster</th><th scope=col>age</th></tr>\n",
       "\t<tr><th scope=col>&lt;int&gt;</th><th scope=col>&lt;dbl&gt;</th></tr>\n",
       "</thead>\n",
       "<tbody>\n",
       "\t<tr><td>1</td><td>17.09319</td></tr>\n",
       "\t<tr><td>2</td><td>17.38488</td></tr>\n",
       "\t<tr><td>3</td><td>17.03773</td></tr>\n",
       "\t<tr><td>4</td><td>17.03759</td></tr>\n",
       "\t<tr><td>5</td><td>17.30265</td></tr>\n",
       "</tbody>\n",
       "</table>\n"
      ],
      "text/latex": [
       "A data.frame: 5 × 2\n",
       "\\begin{tabular}{ll}\n",
       " cluster & age\\\\\n",
       " <int> & <dbl>\\\\\n",
       "\\hline\n",
       "\t 1 & 17.09319\\\\\n",
       "\t 2 & 17.38488\\\\\n",
       "\t 3 & 17.03773\\\\\n",
       "\t 4 & 17.03759\\\\\n",
       "\t 5 & 17.30265\\\\\n",
       "\\end{tabular}\n"
      ],
      "text/markdown": [
       "\n",
       "A data.frame: 5 × 2\n",
       "\n",
       "| cluster &lt;int&gt; | age &lt;dbl&gt; |\n",
       "|---|---|\n",
       "| 1 | 17.09319 |\n",
       "| 2 | 17.38488 |\n",
       "| 3 | 17.03773 |\n",
       "| 4 | 17.03759 |\n",
       "| 5 | 17.30265 |\n",
       "\n"
      ],
      "text/plain": [
       "  cluster age     \n",
       "1 1       17.09319\n",
       "2 2       17.38488\n",
       "3 3       17.03773\n",
       "4 4       17.03759\n",
       "5 5       17.30265"
      ]
     },
     "metadata": {},
     "output_type": "display_data"
    }
   ],
   "source": [
    "# Compute means of ages aggregated by \"cluster\"\n",
    "aggregate(data = teens, age ~ cluster, mean)"
   ]
  },
  {
   "cell_type": "code",
   "execution_count": 15,
   "id": "4779209f-5b3f-437a-b0e3-1ba94574fb7f",
   "metadata": {},
   "outputs": [
    {
     "data": {
      "text/plain": [
       "\n",
       "   F    M <NA> \n",
       "73.5 17.4  9.1 "
      ]
     },
     "metadata": {},
     "output_type": "display_data"
    }
   ],
   "source": [
    "# Original proportions of gender\n",
    "round(proportions(table(teens$gender, useNA = \"ifany\")) * 100, 1)"
   ]
  },
  {
   "cell_type": "code",
   "execution_count": 16,
   "id": "01dc612e-fa5c-42e5-85f2-980398a5f5f8",
   "metadata": {},
   "outputs": [
    {
     "data": {
      "text/html": [
       "<table class=\"dataframe\">\n",
       "<caption>A data.frame: 5 × 2</caption>\n",
       "<thead>\n",
       "\t<tr><th scope=col>cluster</th><th scope=col>female</th></tr>\n",
       "\t<tr><th scope=col>&lt;int&gt;</th><th scope=col>&lt;dbl&gt;</th></tr>\n",
       "</thead>\n",
       "<tbody>\n",
       "\t<tr><td>1</td><td>0.8025048</td></tr>\n",
       "\t<tr><td>2</td><td>0.7237937</td></tr>\n",
       "\t<tr><td>3</td><td>0.8866208</td></tr>\n",
       "\t<tr><td>4</td><td>0.6984421</td></tr>\n",
       "\t<tr><td>5</td><td>0.7082735</td></tr>\n",
       "</tbody>\n",
       "</table>\n"
      ],
      "text/latex": [
       "A data.frame: 5 × 2\n",
       "\\begin{tabular}{ll}\n",
       " cluster & female\\\\\n",
       " <int> & <dbl>\\\\\n",
       "\\hline\n",
       "\t 1 & 0.8025048\\\\\n",
       "\t 2 & 0.7237937\\\\\n",
       "\t 3 & 0.8866208\\\\\n",
       "\t 4 & 0.6984421\\\\\n",
       "\t 5 & 0.7082735\\\\\n",
       "\\end{tabular}\n"
      ],
      "text/markdown": [
       "\n",
       "A data.frame: 5 × 2\n",
       "\n",
       "| cluster &lt;int&gt; | female &lt;dbl&gt; |\n",
       "|---|---|\n",
       "| 1 | 0.8025048 |\n",
       "| 2 | 0.7237937 |\n",
       "| 3 | 0.8866208 |\n",
       "| 4 | 0.6984421 |\n",
       "| 5 | 0.7082735 |\n",
       "\n"
      ],
      "text/plain": [
       "  cluster female   \n",
       "1 1       0.8025048\n",
       "2 2       0.7237937\n",
       "3 3       0.8866208\n",
       "4 4       0.6984421\n",
       "5 5       0.7082735"
      ]
     },
     "metadata": {},
     "output_type": "display_data"
    },
    {
     "data": {
      "text/html": [
       "<table class=\"dataframe\">\n",
       "<caption>A data.frame: 5 × 2</caption>\n",
       "<thead>\n",
       "\t<tr><th scope=col>cluster</th><th scope=col>(1 - female - no_gender)</th></tr>\n",
       "\t<tr><th scope=col>&lt;int&gt;</th><th scope=col>&lt;dbl&gt;</th></tr>\n",
       "</thead>\n",
       "<tbody>\n",
       "\t<tr><td>1</td><td>0.13872832</td></tr>\n",
       "\t<tr><td>2</td><td>0.21797005</td></tr>\n",
       "\t<tr><td>3</td><td>0.04254796</td></tr>\n",
       "\t<tr><td>4</td><td>0.25000000</td></tr>\n",
       "\t<tr><td>5</td><td>0.18982360</td></tr>\n",
       "</tbody>\n",
       "</table>\n"
      ],
      "text/latex": [
       "A data.frame: 5 × 2\n",
       "\\begin{tabular}{ll}\n",
       " cluster & (1 - female - no\\_gender)\\\\\n",
       " <int> & <dbl>\\\\\n",
       "\\hline\n",
       "\t 1 & 0.13872832\\\\\n",
       "\t 2 & 0.21797005\\\\\n",
       "\t 3 & 0.04254796\\\\\n",
       "\t 4 & 0.25000000\\\\\n",
       "\t 5 & 0.18982360\\\\\n",
       "\\end{tabular}\n"
      ],
      "text/markdown": [
       "\n",
       "A data.frame: 5 × 2\n",
       "\n",
       "| cluster &lt;int&gt; | (1 - female - no_gender) &lt;dbl&gt; |\n",
       "|---|---|\n",
       "| 1 | 0.13872832 |\n",
       "| 2 | 0.21797005 |\n",
       "| 3 | 0.04254796 |\n",
       "| 4 | 0.25000000 |\n",
       "| 5 | 0.18982360 |\n",
       "\n"
      ],
      "text/plain": [
       "  cluster (1 - female - no_gender)\n",
       "1 1       0.13872832              \n",
       "2 2       0.21797005              \n",
       "3 3       0.04254796              \n",
       "4 4       0.25000000              \n",
       "5 5       0.18982360              "
      ]
     },
     "metadata": {},
     "output_type": "display_data"
    },
    {
     "data": {
      "text/html": [
       "<table class=\"dataframe\">\n",
       "<caption>A data.frame: 5 × 2</caption>\n",
       "<thead>\n",
       "\t<tr><th scope=col>cluster</th><th scope=col>no_gender</th></tr>\n",
       "\t<tr><th scope=col>&lt;int&gt;</th><th scope=col>&lt;dbl&gt;</th></tr>\n",
       "</thead>\n",
       "<tbody>\n",
       "\t<tr><td>1</td><td>0.05876686</td></tr>\n",
       "\t<tr><td>2</td><td>0.05823627</td></tr>\n",
       "\t<tr><td>3</td><td>0.07083128</td></tr>\n",
       "\t<tr><td>4</td><td>0.05155786</td></tr>\n",
       "\t<tr><td>5</td><td>0.10190287</td></tr>\n",
       "</tbody>\n",
       "</table>\n"
      ],
      "text/latex": [
       "A data.frame: 5 × 2\n",
       "\\begin{tabular}{ll}\n",
       " cluster & no\\_gender\\\\\n",
       " <int> & <dbl>\\\\\n",
       "\\hline\n",
       "\t 1 & 0.05876686\\\\\n",
       "\t 2 & 0.05823627\\\\\n",
       "\t 3 & 0.07083128\\\\\n",
       "\t 4 & 0.05155786\\\\\n",
       "\t 5 & 0.10190287\\\\\n",
       "\\end{tabular}\n"
      ],
      "text/markdown": [
       "\n",
       "A data.frame: 5 × 2\n",
       "\n",
       "| cluster &lt;int&gt; | no_gender &lt;dbl&gt; |\n",
       "|---|---|\n",
       "| 1 | 0.05876686 |\n",
       "| 2 | 0.05823627 |\n",
       "| 3 | 0.07083128 |\n",
       "| 4 | 0.05155786 |\n",
       "| 5 | 0.10190287 |\n",
       "\n"
      ],
      "text/plain": [
       "  cluster no_gender \n",
       "1 1       0.05876686\n",
       "2 2       0.05823627\n",
       "3 3       0.07083128\n",
       "4 4       0.05155786\n",
       "5 5       0.10190287"
      ]
     },
     "metadata": {},
     "output_type": "display_data"
    }
   ],
   "source": [
    "# Compute proportions of females, males, and NAs in the clusters\n",
    "aggregate(data = teens, female ~ cluster, mean)\n",
    "aggregate(data = teens, (1-female-no_gender) ~ cluster, mean)\n",
    "aggregate(data = teens, no_gender ~ cluster, mean)"
   ]
  },
  {
   "cell_type": "code",
   "execution_count": 17,
   "id": "fe13f2b8-4a27-4b54-bb67-8b91861a7d31",
   "metadata": {},
   "outputs": [
    {
     "data": {
      "text/html": [
       "<table class=\"dataframe\">\n",
       "<caption>A data.frame: 5 × 2</caption>\n",
       "<thead>\n",
       "\t<tr><th scope=col>cluster</th><th scope=col>friends</th></tr>\n",
       "\t<tr><th scope=col>&lt;int&gt;</th><th scope=col>&lt;dbl&gt;</th></tr>\n",
       "</thead>\n",
       "<tbody>\n",
       "\t<tr><td>1</td><td>30.66570</td></tr>\n",
       "\t<tr><td>2</td><td>32.79368</td></tr>\n",
       "\t<tr><td>3</td><td>38.54575</td></tr>\n",
       "\t<tr><td>4</td><td>35.91728</td></tr>\n",
       "\t<tr><td>5</td><td>27.79221</td></tr>\n",
       "</tbody>\n",
       "</table>\n"
      ],
      "text/latex": [
       "A data.frame: 5 × 2\n",
       "\\begin{tabular}{ll}\n",
       " cluster & friends\\\\\n",
       " <int> & <dbl>\\\\\n",
       "\\hline\n",
       "\t 1 & 30.66570\\\\\n",
       "\t 2 & 32.79368\\\\\n",
       "\t 3 & 38.54575\\\\\n",
       "\t 4 & 35.91728\\\\\n",
       "\t 5 & 27.79221\\\\\n",
       "\\end{tabular}\n"
      ],
      "text/markdown": [
       "\n",
       "A data.frame: 5 × 2\n",
       "\n",
       "| cluster &lt;int&gt; | friends &lt;dbl&gt; |\n",
       "|---|---|\n",
       "| 1 | 30.66570 |\n",
       "| 2 | 32.79368 |\n",
       "| 3 | 38.54575 |\n",
       "| 4 | 35.91728 |\n",
       "| 5 | 27.79221 |\n",
       "\n"
      ],
      "text/plain": [
       "  cluster friends \n",
       "1 1       30.66570\n",
       "2 2       32.79368\n",
       "3 3       38.54575\n",
       "4 4       35.91728\n",
       "5 5       27.79221"
      ]
     },
     "metadata": {},
     "output_type": "display_data"
    }
   ],
   "source": [
    "# Compute means of \"friends\" aggregated by \"cluster\"\n",
    "aggregate(data = teens, friends ~ cluster, mean)"
   ]
  },
  {
   "cell_type": "code",
   "execution_count": null,
   "id": "e62cacb4-8a51-45c8-bd51-8fb6e1df280f",
   "metadata": {},
   "outputs": [],
   "source": []
  }
 ],
 "metadata": {
  "kernelspec": {
   "display_name": "R",
   "language": "R",
   "name": "ir"
  },
  "language_info": {
   "codemirror_mode": "r",
   "file_extension": ".r",
   "mimetype": "text/x-r-source",
   "name": "R",
   "pygments_lexer": "r",
   "version": "4.2.3"
  }
 },
 "nbformat": 4,
 "nbformat_minor": 5
}
