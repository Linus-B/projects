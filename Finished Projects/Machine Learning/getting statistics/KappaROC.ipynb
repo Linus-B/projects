{
 "cells": [
  {
   "cell_type": "code",
   "execution_count": 3,
   "id": "a0e3040b-ffd2-4dbb-a9d1-5f392d3aa04a",
   "metadata": {},
   "outputs": [
    {
     "data": {
      "text/html": [
       "<style>\n",
       ".list-inline {list-style: none; margin:0; padding: 0}\n",
       ".list-inline>li {display: inline-block}\n",
       ".list-inline>li:not(:last-child)::after {content: \"\\00b7\"; padding: 0 .5ex}\n",
       "</style>\n",
       "<ol class=list-inline><li>'sms_classifier'</li><li>'sms_test'</li><li>'sms_test_labels'</li><li>'sms_test_pred'</li></ol>\n"
      ],
      "text/latex": [
       "\\begin{enumerate*}\n",
       "\\item 'sms\\_classifier'\n",
       "\\item 'sms\\_test'\n",
       "\\item 'sms\\_test\\_labels'\n",
       "\\item 'sms\\_test\\_pred'\n",
       "\\end{enumerate*}\n"
      ],
      "text/markdown": [
       "1. 'sms_classifier'\n",
       "2. 'sms_test'\n",
       "3. 'sms_test_labels'\n",
       "4. 'sms_test_pred'\n",
       "\n",
       "\n"
      ],
      "text/plain": [
       "[1] \"sms_classifier\"  \"sms_test\"        \"sms_test_labels\" \"sms_test_pred\"  "
      ]
     },
     "metadata": {},
     "output_type": "display_data"
    }
   ],
   "source": [
    "# Load our previously stored SMS spam classifier and associated data\n",
    "load(\"sms_classifier.RData\")\n",
    "\n",
    "# Check quick what four quantities labeled \"sms_...\" have been loaded\n",
    "ls()"
   ]
  },
  {
   "cell_type": "code",
   "execution_count": 4,
   "id": "b921a020-dc86-40e9-b5c8-3927984f0cc2",
   "metadata": {},
   "outputs": [
    {
     "data": {
      "text/plain": [
       "\n",
       "TRUE \n",
       "1390 "
      ]
     },
     "metadata": {},
     "output_type": "display_data"
    }
   ],
   "source": [
    "# Load the library with Naive Bayes (otherwise \"predict()\" will not work)\n",
    "library(e1071)\n",
    "\n",
    "# Generate the predictions again and check\n",
    "sms_test_pred2 <- predict(sms_classifier, sms_test)\n",
    "\n",
    "# Generate a table with agreement/disagreement of the old and new predictions\n",
    "table(sms_test_pred2 == sms_test_pred)"
   ]
  },
  {
   "cell_type": "code",
   "execution_count": 5,
   "id": "f6a686f2-a726-412d-a8e6-1f862a61ad68",
   "metadata": {},
   "outputs": [
    {
     "data": {
      "text/html": [
       "<table class=\"dataframe\">\n",
       "<caption>A matrix: 10 × 2 of type dbl</caption>\n",
       "<thead>\n",
       "\t<tr><th scope=col>ham</th><th scope=col>spam</th></tr>\n",
       "</thead>\n",
       "<tbody>\n",
       "\t<tr><td>9.999996e-01</td><td>4.001744e-07</td></tr>\n",
       "\t<tr><td>9.999922e-01</td><td>7.818488e-06</td></tr>\n",
       "\t<tr><td>9.998554e-01</td><td>1.446003e-04</td></tr>\n",
       "\t<tr><td>9.999614e-01</td><td>3.859165e-05</td></tr>\n",
       "\t<tr><td>4.312258e-10</td><td>1.000000e+00</td></tr>\n",
       "\t<tr><td>9.998517e-01</td><td>1.482769e-04</td></tr>\n",
       "\t<tr><td>9.970297e-01</td><td>2.970327e-03</td></tr>\n",
       "\t<tr><td>9.999916e-01</td><td>8.379059e-06</td></tr>\n",
       "\t<tr><td>9.999937e-01</td><td>6.284639e-06</td></tr>\n",
       "\t<tr><td>2.276919e-10</td><td>1.000000e+00</td></tr>\n",
       "</tbody>\n",
       "</table>\n"
      ],
      "text/latex": [
       "A matrix: 10 × 2 of type dbl\n",
       "\\begin{tabular}{ll}\n",
       " ham & spam\\\\\n",
       "\\hline\n",
       "\t 9.999996e-01 & 4.001744e-07\\\\\n",
       "\t 9.999922e-01 & 7.818488e-06\\\\\n",
       "\t 9.998554e-01 & 1.446003e-04\\\\\n",
       "\t 9.999614e-01 & 3.859165e-05\\\\\n",
       "\t 4.312258e-10 & 1.000000e+00\\\\\n",
       "\t 9.998517e-01 & 1.482769e-04\\\\\n",
       "\t 9.970297e-01 & 2.970327e-03\\\\\n",
       "\t 9.999916e-01 & 8.379059e-06\\\\\n",
       "\t 9.999937e-01 & 6.284639e-06\\\\\n",
       "\t 2.276919e-10 & 1.000000e+00\\\\\n",
       "\\end{tabular}\n"
      ],
      "text/markdown": [
       "\n",
       "A matrix: 10 × 2 of type dbl\n",
       "\n",
       "| ham | spam |\n",
       "|---|---|\n",
       "| 9.999996e-01 | 4.001744e-07 |\n",
       "| 9.999922e-01 | 7.818488e-06 |\n",
       "| 9.998554e-01 | 1.446003e-04 |\n",
       "| 9.999614e-01 | 3.859165e-05 |\n",
       "| 4.312258e-10 | 1.000000e+00 |\n",
       "| 9.998517e-01 | 1.482769e-04 |\n",
       "| 9.970297e-01 | 2.970327e-03 |\n",
       "| 9.999916e-01 | 8.379059e-06 |\n",
       "| 9.999937e-01 | 6.284639e-06 |\n",
       "| 2.276919e-10 | 1.000000e+00 |\n",
       "\n"
      ],
      "text/plain": [
       "      ham          spam        \n",
       " [1,] 9.999996e-01 4.001744e-07\n",
       " [2,] 9.999922e-01 7.818488e-06\n",
       " [3,] 9.998554e-01 1.446003e-04\n",
       " [4,] 9.999614e-01 3.859165e-05\n",
       " [5,] 4.312258e-10 1.000000e+00\n",
       " [6,] 9.998517e-01 1.482769e-04\n",
       " [7,] 9.970297e-01 2.970327e-03\n",
       " [8,] 9.999916e-01 8.379059e-06\n",
       " [9,] 9.999937e-01 6.284639e-06\n",
       "[10,] 2.276919e-10 1.000000e+00"
      ]
     },
     "metadata": {},
     "output_type": "display_data"
    }
   ],
   "source": [
    "# Generate predicted probabilities\n",
    "sms_test_prob <- predict(sms_classifier, sms_test, type = \"raw\")\n",
    "\n",
    "# Display the first ten results\n",
    "head(sms_test_prob, 10)"
   ]
  },
  {
   "cell_type": "code",
   "execution_count": 6,
   "id": "8cb2d53d-3d8c-4617-b851-918324cedb29",
   "metadata": {},
   "outputs": [
    {
     "data": {
      "text/html": [
       "<table class=\"dataframe\">\n",
       "<caption>A data.frame: 10 × 4</caption>\n",
       "<thead>\n",
       "\t<tr><th></th><th scope=col>actual_type</th><th scope=col>predict_type</th><th scope=col>prob_spam</th><th scope=col>prob_ham</th></tr>\n",
       "\t<tr><th></th><th scope=col>&lt;fct&gt;</th><th scope=col>&lt;fct&gt;</th><th scope=col>&lt;dbl&gt;</th><th scope=col>&lt;dbl&gt;</th></tr>\n",
       "</thead>\n",
       "<tbody>\n",
       "\t<tr><th scope=row>1</th><td>ham </td><td>ham </td><td>0.00000</td><td>1.00000</td></tr>\n",
       "\t<tr><th scope=row>2</th><td>ham </td><td>ham </td><td>0.00001</td><td>0.99999</td></tr>\n",
       "\t<tr><th scope=row>3</th><td>ham </td><td>ham </td><td>0.00014</td><td>0.99986</td></tr>\n",
       "\t<tr><th scope=row>4</th><td>ham </td><td>ham </td><td>0.00004</td><td>0.99996</td></tr>\n",
       "\t<tr><th scope=row>5</th><td>spam</td><td>spam</td><td>1.00000</td><td>0.00000</td></tr>\n",
       "\t<tr><th scope=row>6</th><td>ham </td><td>ham </td><td>0.00015</td><td>0.99985</td></tr>\n",
       "\t<tr><th scope=row>7</th><td>ham </td><td>ham </td><td>0.00297</td><td>0.99703</td></tr>\n",
       "\t<tr><th scope=row>8</th><td>ham </td><td>ham </td><td>0.00001</td><td>0.99999</td></tr>\n",
       "\t<tr><th scope=row>9</th><td>ham </td><td>ham </td><td>0.00001</td><td>0.99999</td></tr>\n",
       "\t<tr><th scope=row>10</th><td>spam</td><td>spam</td><td>1.00000</td><td>0.00000</td></tr>\n",
       "</tbody>\n",
       "</table>\n"
      ],
      "text/latex": [
       "A data.frame: 10 × 4\n",
       "\\begin{tabular}{r|llll}\n",
       "  & actual\\_type & predict\\_type & prob\\_spam & prob\\_ham\\\\\n",
       "  & <fct> & <fct> & <dbl> & <dbl>\\\\\n",
       "\\hline\n",
       "\t1 & ham  & ham  & 0.00000 & 1.00000\\\\\n",
       "\t2 & ham  & ham  & 0.00001 & 0.99999\\\\\n",
       "\t3 & ham  & ham  & 0.00014 & 0.99986\\\\\n",
       "\t4 & ham  & ham  & 0.00004 & 0.99996\\\\\n",
       "\t5 & spam & spam & 1.00000 & 0.00000\\\\\n",
       "\t6 & ham  & ham  & 0.00015 & 0.99985\\\\\n",
       "\t7 & ham  & ham  & 0.00297 & 0.99703\\\\\n",
       "\t8 & ham  & ham  & 0.00001 & 0.99999\\\\\n",
       "\t9 & ham  & ham  & 0.00001 & 0.99999\\\\\n",
       "\t10 & spam & spam & 1.00000 & 0.00000\\\\\n",
       "\\end{tabular}\n"
      ],
      "text/markdown": [
       "\n",
       "A data.frame: 10 × 4\n",
       "\n",
       "| <!--/--> | actual_type &lt;fct&gt; | predict_type &lt;fct&gt; | prob_spam &lt;dbl&gt; | prob_ham &lt;dbl&gt; |\n",
       "|---|---|---|---|---|\n",
       "| 1 | ham  | ham  | 0.00000 | 1.00000 |\n",
       "| 2 | ham  | ham  | 0.00001 | 0.99999 |\n",
       "| 3 | ham  | ham  | 0.00014 | 0.99986 |\n",
       "| 4 | ham  | ham  | 0.00004 | 0.99996 |\n",
       "| 5 | spam | spam | 1.00000 | 0.00000 |\n",
       "| 6 | ham  | ham  | 0.00015 | 0.99985 |\n",
       "| 7 | ham  | ham  | 0.00297 | 0.99703 |\n",
       "| 8 | ham  | ham  | 0.00001 | 0.99999 |\n",
       "| 9 | ham  | ham  | 0.00001 | 0.99999 |\n",
       "| 10 | spam | spam | 1.00000 | 0.00000 |\n",
       "\n"
      ],
      "text/plain": [
       "   actual_type predict_type prob_spam prob_ham\n",
       "1  ham         ham          0.00000   1.00000 \n",
       "2  ham         ham          0.00001   0.99999 \n",
       "3  ham         ham          0.00014   0.99986 \n",
       "4  ham         ham          0.00004   0.99996 \n",
       "5  spam        spam         1.00000   0.00000 \n",
       "6  ham         ham          0.00015   0.99985 \n",
       "7  ham         ham          0.00297   0.99703 \n",
       "8  ham         ham          0.00001   0.99999 \n",
       "9  ham         ham          0.00001   0.99999 \n",
       "10 spam        spam         1.00000   0.00000 "
      ]
     },
     "metadata": {},
     "output_type": "display_data"
    }
   ],
   "source": [
    "# Combine the results into a data frame (enough to save just \"prob_spam\", but we'll save both)\n",
    "sms_results <- data.frame(actual_type = sms_test_labels,\n",
    "                          predict_type = sms_test_pred,\n",
    "                          prob_spam = round(sms_test_prob[ , 2], 5),\n",
    "                          prob_ham = round(sms_test_prob[ , 1], 5)\n",
    "                         )\n",
    "\n",
    "# Display the first ten rows of the data frame\n",
    "head(sms_results, 10)"
   ]
  },
  {
   "cell_type": "code",
   "execution_count": 7,
   "id": "4c1d392b-1efc-432c-8a10-35b6a8613edd",
   "metadata": {},
   "outputs": [
    {
     "data": {
      "text/html": [
       "<table class=\"dataframe\">\n",
       "<caption>A data.frame: 4 × 4</caption>\n",
       "<thead>\n",
       "\t<tr><th></th><th scope=col>actual_type</th><th scope=col>predict_type</th><th scope=col>prob_spam</th><th scope=col>prob_ham</th></tr>\n",
       "\t<tr><th></th><th scope=col>&lt;fct&gt;</th><th scope=col>&lt;fct&gt;</th><th scope=col>&lt;dbl&gt;</th><th scope=col>&lt;dbl&gt;</th></tr>\n",
       "</thead>\n",
       "<tbody>\n",
       "\t<tr><th scope=row>717</th><td>ham </td><td>spam</td><td>0.51257</td><td>0.48743</td></tr>\n",
       "\t<tr><th scope=row>732</th><td>spam</td><td>ham </td><td>0.49833</td><td>0.50167</td></tr>\n",
       "\t<tr><th scope=row>1311</th><td>ham </td><td>spam</td><td>0.54022</td><td>0.45978</td></tr>\n",
       "\t<tr><th scope=row>1324</th><td>spam</td><td>spam</td><td>0.53292</td><td>0.46708</td></tr>\n",
       "</tbody>\n",
       "</table>\n"
      ],
      "text/latex": [
       "A data.frame: 4 × 4\n",
       "\\begin{tabular}{r|llll}\n",
       "  & actual\\_type & predict\\_type & prob\\_spam & prob\\_ham\\\\\n",
       "  & <fct> & <fct> & <dbl> & <dbl>\\\\\n",
       "\\hline\n",
       "\t717 & ham  & spam & 0.51257 & 0.48743\\\\\n",
       "\t732 & spam & ham  & 0.49833 & 0.50167\\\\\n",
       "\t1311 & ham  & spam & 0.54022 & 0.45978\\\\\n",
       "\t1324 & spam & spam & 0.53292 & 0.46708\\\\\n",
       "\\end{tabular}\n"
      ],
      "text/markdown": [
       "\n",
       "A data.frame: 4 × 4\n",
       "\n",
       "| <!--/--> | actual_type &lt;fct&gt; | predict_type &lt;fct&gt; | prob_spam &lt;dbl&gt; | prob_ham &lt;dbl&gt; |\n",
       "|---|---|---|---|---|\n",
       "| 717 | ham  | spam | 0.51257 | 0.48743 |\n",
       "| 732 | spam | ham  | 0.49833 | 0.50167 |\n",
       "| 1311 | ham  | spam | 0.54022 | 0.45978 |\n",
       "| 1324 | spam | spam | 0.53292 | 0.46708 |\n",
       "\n"
      ],
      "text/plain": [
       "     actual_type predict_type prob_spam prob_ham\n",
       "717  ham         spam         0.51257   0.48743 \n",
       "732  spam        ham          0.49833   0.50167 \n",
       "1311 ham         spam         0.54022   0.45978 \n",
       "1324 spam        spam         0.53292   0.46708 "
      ]
     },
     "metadata": {},
     "output_type": "display_data"
    }
   ],
   "source": [
    "# Load the library for the pipe operator\n",
    "library(magrittr)\n",
    "\n",
    "# Generate and display the first 10 results for which 0.4 < P(spam) < 0.6\n",
    "sms_results %>%\n",
    "    subset(prob_spam > 0.40 & prob_spam < 0.60) %>%\n",
    "    head(10)\n",
    "\n",
    "# Alternative command without the pipe\n",
    "#head(subset(sms_results, prob_spam > 0.40 & prob_spam < 0.60), 10)"
   ]
  },
  {
   "cell_type": "code",
   "execution_count": 8,
   "id": "2941e66d-9752-45fe-894b-18436457ea8d",
   "metadata": {},
   "outputs": [
    {
     "data": {
      "text/html": [
       "<table class=\"dataframe\">\n",
       "<caption>A data.frame: 10 × 4</caption>\n",
       "<thead>\n",
       "\t<tr><th></th><th scope=col>actual_type</th><th scope=col>predict_type</th><th scope=col>prob_spam</th><th scope=col>prob_ham</th></tr>\n",
       "\t<tr><th></th><th scope=col>&lt;fct&gt;</th><th scope=col>&lt;fct&gt;</th><th scope=col>&lt;dbl&gt;</th><th scope=col>&lt;dbl&gt;</th></tr>\n",
       "</thead>\n",
       "<tbody>\n",
       "\t<tr><th scope=row>53</th><td>spam</td><td>ham </td><td>0.00064</td><td>0.99936</td></tr>\n",
       "\t<tr><th scope=row>59</th><td>spam</td><td>ham </td><td>0.00354</td><td>0.99646</td></tr>\n",
       "\t<tr><th scope=row>73</th><td>spam</td><td>ham </td><td>0.01299</td><td>0.98701</td></tr>\n",
       "\t<tr><th scope=row>76</th><td>spam</td><td>ham </td><td>0.00622</td><td>0.99378</td></tr>\n",
       "\t<tr><th scope=row>184</th><td>spam</td><td>ham </td><td>0.01583</td><td>0.98417</td></tr>\n",
       "\t<tr><th scope=row>187</th><td>ham </td><td>spam</td><td>0.72218</td><td>0.27782</td></tr>\n",
       "\t<tr><th scope=row>250</th><td>ham </td><td>spam</td><td>0.72218</td><td>0.27782</td></tr>\n",
       "\t<tr><th scope=row>332</th><td>spam</td><td>ham </td><td>0.00001</td><td>0.99999</td></tr>\n",
       "\t<tr><th scope=row>357</th><td>spam</td><td>ham </td><td>0.37108</td><td>0.62892</td></tr>\n",
       "\t<tr><th scope=row>367</th><td>spam</td><td>ham </td><td>0.01764</td><td>0.98236</td></tr>\n",
       "</tbody>\n",
       "</table>\n"
      ],
      "text/latex": [
       "A data.frame: 10 × 4\n",
       "\\begin{tabular}{r|llll}\n",
       "  & actual\\_type & predict\\_type & prob\\_spam & prob\\_ham\\\\\n",
       "  & <fct> & <fct> & <dbl> & <dbl>\\\\\n",
       "\\hline\n",
       "\t53 & spam & ham  & 0.00064 & 0.99936\\\\\n",
       "\t59 & spam & ham  & 0.00354 & 0.99646\\\\\n",
       "\t73 & spam & ham  & 0.01299 & 0.98701\\\\\n",
       "\t76 & spam & ham  & 0.00622 & 0.99378\\\\\n",
       "\t184 & spam & ham  & 0.01583 & 0.98417\\\\\n",
       "\t187 & ham  & spam & 0.72218 & 0.27782\\\\\n",
       "\t250 & ham  & spam & 0.72218 & 0.27782\\\\\n",
       "\t332 & spam & ham  & 0.00001 & 0.99999\\\\\n",
       "\t357 & spam & ham  & 0.37108 & 0.62892\\\\\n",
       "\t367 & spam & ham  & 0.01764 & 0.98236\\\\\n",
       "\\end{tabular}\n"
      ],
      "text/markdown": [
       "\n",
       "A data.frame: 10 × 4\n",
       "\n",
       "| <!--/--> | actual_type &lt;fct&gt; | predict_type &lt;fct&gt; | prob_spam &lt;dbl&gt; | prob_ham &lt;dbl&gt; |\n",
       "|---|---|---|---|---|\n",
       "| 53 | spam | ham  | 0.00064 | 0.99936 |\n",
       "| 59 | spam | ham  | 0.00354 | 0.99646 |\n",
       "| 73 | spam | ham  | 0.01299 | 0.98701 |\n",
       "| 76 | spam | ham  | 0.00622 | 0.99378 |\n",
       "| 184 | spam | ham  | 0.01583 | 0.98417 |\n",
       "| 187 | ham  | spam | 0.72218 | 0.27782 |\n",
       "| 250 | ham  | spam | 0.72218 | 0.27782 |\n",
       "| 332 | spam | ham  | 0.00001 | 0.99999 |\n",
       "| 357 | spam | ham  | 0.37108 | 0.62892 |\n",
       "| 367 | spam | ham  | 0.01764 | 0.98236 |\n",
       "\n"
      ],
      "text/plain": [
       "    actual_type predict_type prob_spam prob_ham\n",
       "53  spam        ham          0.00064   0.99936 \n",
       "59  spam        ham          0.00354   0.99646 \n",
       "73  spam        ham          0.01299   0.98701 \n",
       "76  spam        ham          0.00622   0.99378 \n",
       "184 spam        ham          0.01583   0.98417 \n",
       "187 ham         spam         0.72218   0.27782 \n",
       "250 ham         spam         0.72218   0.27782 \n",
       "332 spam        ham          0.00001   0.99999 \n",
       "357 spam        ham          0.37108   0.62892 \n",
       "367 spam        ham          0.01764   0.98236 "
      ]
     },
     "metadata": {},
     "output_type": "display_data"
    }
   ],
   "source": [
    "# Display the first 10 results where actual label and prediction disagree\n",
    "sms_results %>%\n",
    "    subset(actual_type != predict_type) %>%\n",
    "    head(10)\n",
    "\n",
    "# Alternative command without the pipe\n",
    "#head(subset(sms_results, actual_type != predict_type), 10)"
   ]
  },
  {
   "cell_type": "code",
   "execution_count": 9,
   "id": "45127a6f-aae7-4038-92cc-034b539421f3",
   "metadata": {},
   "outputs": [
    {
     "data": {
      "text/plain": [
       "      Predicted\n",
       "Actual  ham spam\n",
       "  ham  1201    6\n",
       "  spam   30  153"
      ]
     },
     "metadata": {},
     "output_type": "display_data"
    },
    {
     "name": "stdout",
     "output_type": "stream",
     "text": [
      "\n",
      " \n",
      "   Cell Contents\n",
      "|-------------------------|\n",
      "|                       N |\n",
      "|         N / Table Total |\n",
      "|-------------------------|\n",
      "\n",
      " \n",
      "Total Observations in Table:  1390 \n",
      "\n",
      " \n",
      "             | Predicted \n",
      "      Actual |       ham |      spam | Row Total | \n",
      "-------------|-----------|-----------|-----------|\n",
      "         ham |      1201 |         6 |      1207 | \n",
      "             |     0.864 |     0.004 |           | \n",
      "-------------|-----------|-----------|-----------|\n",
      "        spam |        30 |       153 |       183 | \n",
      "             |     0.022 |     0.110 |           | \n",
      "-------------|-----------|-----------|-----------|\n",
      "Column Total |      1231 |       159 |      1390 | \n",
      "-------------|-----------|-----------|-----------|\n",
      "\n",
      " \n"
     ]
    }
   ],
   "source": [
    "# Generate the confusion matrix using \"table()\"\n",
    "table(sms_results$actual_type, sms_results$predict_type, dnn = c(\"Actual\", \"Predicted\"))\n",
    "\n",
    "# Load the library (after running \"install.packages(\"gmodels\")\")\n",
    "library(gmodels)\n",
    "\n",
    "# Generate the confusion matrix using \"CrossTable()\"\n",
    "CrossTable(sms_results$actual_type, sms_results$predict_type, dnn = c(\"Actual\", \"Predicted\"), prop.chisq = FALSE, prop.c = FALSE, prop.r = FALSE, prop.t = TRUE)"
   ]
  },
  {
   "cell_type": "code",
   "execution_count": 1,
   "id": "d47e5317-de2d-48e4-848b-11b5fcb78593",
   "metadata": {},
   "outputs": [
    {
     "name": "stderr",
     "output_type": "stream",
     "text": [
      "Loading required package: ggplot2\n",
      "\n",
      "Loading required package: lattice\n",
      "\n"
     ]
    },
    {
     "data": {
      "text/plain": [
       "Confusion Matrix and Statistics\n",
       "\n",
       "          Reference\n",
       "Prediction no yes\n",
       "       no  37   7\n",
       "       yes 30  26\n",
       "                                          \n",
       "               Accuracy : 0.63            \n",
       "                 95% CI : (0.5276, 0.7244)\n",
       "    No Information Rate : 0.67            \n",
       "    P-Value [Acc > NIR] : 0.8310080       \n",
       "                                          \n",
       "                  Kappa : 0.289           \n",
       "                                          \n",
       " Mcnemar's Test P-Value : 0.0002983       \n",
       "                                          \n",
       "            Sensitivity : 0.7879          \n",
       "            Specificity : 0.5522          \n",
       "         Pos Pred Value : 0.4643          \n",
       "         Neg Pred Value : 0.8409          \n",
       "             Prevalence : 0.3300          \n",
       "         Detection Rate : 0.2600          \n",
       "   Detection Prevalence : 0.5600          \n",
       "      Balanced Accuracy : 0.6701          \n",
       "                                          \n",
       "       'Positive' Class : yes             \n",
       "                                          "
      ]
     },
     "metadata": {},
     "output_type": "display_data"
    }
   ],
   "source": [
    "# install.packages(\"caret\")\n",
    "library(caret)\n",
    "\n",
    "# Generate the confusion matrix\n",
    "#confusionMatrix(data = sms_results$predict_type, reference = sms_results$actual_type, positive = \"spam\")\n",
    "confusionMatrix(data = as.factor( c(\"no\",\"no\",\"no\",\"no\",\"no\",\"no\",\"no\",\"no\",\"no\",\"no\",\"no\",\"no\",\"no\",\"no\",\"no\",\"no\",\"no\",\"no\",\"no\",\"no\",\"no\",\"no\",\"no\",\"no\",\"no\",\"no\",\"no\",\"no\",\"no\",\"no\",\"no\",\"no\",\"no\",\"no\",\"no\",\"no\",\"no\",\"no\",\"no\",\"no\",\"no\",\"no\",\"no\",\"no\",\"yes\",\"yes\",\"yes\",\"yes\",\"yes\",\"yes\",\"yes\",\"yes\",\"yes\",\"yes\",\"yes\",\"yes\",\"yes\",\"yes\",\"yes\",\"yes\",\"yes\",\"yes\",\"yes\",\"yes\",\"yes\",\"yes\",\"yes\",\"yes\",\"yes\",\"yes\",\"yes\",\"yes\",\"yes\",\"yes\",\"yes\",\"yes\",\"yes\",\"yes\",\"yes\",\"yes\",\"yes\",\"yes\",\"yes\",\"yes\",\"yes\",\"yes\",\"yes\",\"yes\",\"yes\",\"yes\",\"yes\",\"yes\",\"yes\",\"yes\",\"yes\",\"yes\",\"yes\",\"yes\",\"yes\",\"yes\")), reference = as.factor(c(\"yes\",\"yes\",\"yes\",\"yes\",\"yes\",\"yes\",\"yes\",\"no\",\"no\",\"no\",\"no\",\"no\",\"no\",\"no\",\"no\",\"no\",\"no\",\"no\",\"no\",\"no\",\"no\",\"no\",\"no\",\"no\",\"no\",\"no\",\"no\",\"no\",\"no\",\"no\",\"no\",\"no\",\"no\",\"no\",\"no\",\"no\",\"no\",\"no\",\"no\",\"no\",\"no\",\"no\",\"no\",\"no\",\"no\",\"no\",\"no\",\"no\",\"no\",\"no\",\"no\",\"no\",\"no\",\"no\",\"no\",\"no\",\"no\",\"no\",\"no\",\"no\",\"no\",\"no\",\"no\",\"no\",\"no\",\"no\",\"no\",\"no\",\"no\",\"no\",\"no\",\"no\",\"no\",\"no\",\"yes\",\"yes\",\"yes\",\"yes\",\"yes\",\"yes\",\"yes\",\"yes\",\"yes\",\"yes\",\"yes\",\"yes\",\"yes\",\"yes\",\"yes\",\"yes\",\"yes\",\"yes\",\"yes\",\"yes\",\"yes\",\"yes\",\"yes\",\"yes\",\"yes\",\"yes\")), positive = \"yes\")\n"
   ]
  },
  {
   "cell_type": "markdown",
   "id": "176e6330-317e-444d-9fcc-da85179dbc83",
   "metadata": {},
   "source": [
    "# install.packages(\"vcd\")\n",
    "library(vcd)\n",
    "\n",
    "# Compute the kappa statistic using \"Kappa()\" from \"vcd\"\n",
    "Kappa(table(sms_results$actual_type, sms_results$predict_type))"
   ]
  },
  {
   "cell_type": "code",
   "execution_count": 15,
   "id": "25951d40-6a68-44be-bd8a-be29647edada",
   "metadata": {},
   "outputs": [
    {
     "data": {
      "text/plain": [
       " Cohen's Kappa for 2 Raters (Weights: unweighted)\n",
       "\n",
       " Subjects = 1390 \n",
       "   Raters = 2 \n",
       "    Kappa = 0.88 \n",
       "\n",
       "        z = 32.9 \n",
       "  p-value = 0 "
      ]
     },
     "metadata": {},
     "output_type": "display_data"
    }
   ],
   "source": [
    "# install.packages(\"irr\")\n",
    "library(irr)\n",
    "\n",
    "# Compute the kappa statistic using \"kappa2()\" from \"irr\"\n",
    "kappa2(sms_results[1:2])"
   ]
  },
  {
   "cell_type": "code",
   "execution_count": 18,
   "id": "589b78b9-d538-47b0-97cf-a9ee41d50f6c",
   "metadata": {},
   "outputs": [
    {
     "name": "stderr",
     "output_type": "stream",
     "text": [
      "Setting levels: control = ham, case = spam\n",
      "\n",
      "Setting direction: controls < cases\n",
      "\n"
     ]
    },
    {
     "data": {
      "image/png": "[encoded data removed]",
      "text/plain": [
       "Plot with title “ROC curve for SMS spam filter”"
      ]
     },
     "metadata": {
      "image/png": {
       "height": 420,
       "width": 420
      }
     },
     "output_type": "display_data"
    }
   ],
   "source": [
    "# install.packages(\"pROC\")\n",
    "library(pROC)\n",
    "\n",
    "# Build a \"roc\" object that can be plotted or analyzed in other ways\n",
    "sms_roc <- roc(response = sms_results$actual_type, predictor = sms_results$prob_spam)\n",
    "\n",
    "# Plot the ROC curve\n",
    "plot(sms_roc, main = \"ROC curve for SMS spam filter\", col = \"blue\", lwd = 2, legacy.axes = TRUE)"
   ]
  },
  {
   "cell_type": "code",
   "execution_count": 19,
   "id": "11d2a48a-b0fa-45b9-9d9c-5d859269c971",
   "metadata": {},
   "outputs": [
    {
     "data": {
      "text/html": [
       "0.983975534337494"
      ],
      "text/latex": [
       "0.983975534337494"
      ],
      "text/markdown": [
       "0.983975534337494"
      ],
      "text/plain": [
       "Area under the curve: 0.984"
      ]
     },
     "metadata": {},
     "output_type": "display_data"
    },
    {
     "data": {
      "text/html": [
       "0.983975534337494"
      ],
      "text/latex": [
       "0.983975534337494"
      ],
      "text/markdown": [
       "0.983975534337494"
      ],
      "text/plain": [
       "Area under the curve: 0.984"
      ]
     },
     "metadata": {},
     "output_type": "display_data"
    }
   ],
   "source": [
    "# Display the \"auc\" generated as part of \"sms_roc\"\n",
    "sms_roc$auc\n",
    "\n",
    "# Use the function \"auc\"\n",
    "auc(sms_roc)"
   ]
  },
  {
   "cell_type": "code",
   "execution_count": null,
   "id": "da10ccdc-807e-4493-8ea5-231ee7b6d520",
   "metadata": {},
   "outputs": [],
   "source": []
  }
 ],
 "metadata": {
  "kernelspec": {
   "display_name": "R",
   "language": "R",
   "name": "ir"
  },
  "language_info": {
   "codemirror_mode": "r",
   "file_extension": ".r",
   "mimetype": "text/x-r-source",
   "name": "R",
   "pygments_lexer": "r",
   "version": "4.2.3"
  }
 },
 "nbformat": 4,
 "nbformat_minor": 5
}
