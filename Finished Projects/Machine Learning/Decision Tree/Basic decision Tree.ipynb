{
 "cells": [
  {
   "cell_type": "code",
   "execution_count": 1,
   "id": "685da2a8-1cbb-4e54-8479-bb821f905024",
   "metadata": {},
   "outputs": [
    {
     "name": "stdout",
     "output_type": "stream",
     "text": [
      "'data.frame':\t1000 obs. of  17 variables:\n",
      " $ checking_balance    : Factor w/ 4 levels \"< 0 DM\",\"> 200 DM\",..: 1 3 4 1 1 4 4 3 4 3 ...\n",
      " $ months_loan_duration: int  6 48 12 42 24 36 24 36 12 30 ...\n",
      " $ credit_history      : Factor w/ 5 levels \"critical\",\"good\",..: 1 2 1 2 4 2 2 2 2 1 ...\n",
      " $ purpose             : Factor w/ 6 levels \"business\",\"car\",..: 5 5 4 5 2 4 5 2 5 2 ...\n",
      " $ amount              : int  1169 5951 2096 7882 4870 9055 2835 6948 3059 5234 ...\n",
      " $ savings_balance     : Factor w/ 5 levels \"< 100 DM\",\"> 1000 DM\",..: 5 1 1 1 1 5 4 1 2 1 ...\n",
      " $ employment_duration : Factor w/ 5 levels \"< 1 year\",\"> 7 years\",..: 2 3 4 4 3 3 2 3 4 5 ...\n",
      " $ percent_of_income   : int  4 2 2 2 3 2 3 2 2 4 ...\n",
      " $ years_at_residence  : int  4 2 3 4 4 4 4 2 4 2 ...\n",
      " $ age                 : int  67 22 49 45 53 35 53 35 61 28 ...\n",
      " $ other_credit        : Factor w/ 3 levels \"bank\",\"none\",..: 2 2 2 2 2 2 2 2 2 2 ...\n",
      " $ housing             : Factor w/ 3 levels \"other\",\"own\",..: 2 2 2 1 1 1 2 3 2 2 ...\n",
      " $ existing_loans_count: int  2 1 1 1 2 1 1 1 1 2 ...\n",
      " $ job                 : Factor w/ 4 levels \"management\",\"skilled\",..: 2 2 4 2 2 4 2 1 4 1 ...\n",
      " $ dependents          : int  1 1 2 2 2 2 1 1 1 1 ...\n",
      " $ phone               : Factor w/ 2 levels \"no\",\"yes\": 2 1 1 1 1 2 1 2 1 1 ...\n",
      " $ default             : Factor w/ 2 levels \"no\",\"yes\": 1 2 1 1 2 1 1 1 1 2 ...\n"
     ]
    }
   ],
   "source": [
    "# Download the dataset\n",
    "credit <- read.csv(\"credit.csv\", stringsAsFactors = TRUE)\n",
    "\n",
    "# Display the structure of the dataset\n",
    "str(credit)\n",
    "# Default is the thing we want to predict"
   ]
  },
  {
   "cell_type": "code",
   "execution_count": 2,
   "id": "41aacc58-46b6-4baf-9fad-ca30084ab725",
   "metadata": {},
   "outputs": [
    {
     "name": "stdout",
     "output_type": "stream",
     "text": [
      " int [1:900] 885 464 431 361 968 755 282 556 866 497 ...\n"
     ]
    }
   ],
   "source": [
    "# Set a seed for reproducibility\n",
    "set.seed(2023)\n",
    "\n",
    "# Select 900 values from 1:1000 without replacement\n",
    "train_sample <- sample(1000, 900)\n",
    "\n",
    "# Check the result\n",
    "str(train_sample)"
   ]
  },
  {
   "cell_type": "code",
   "execution_count": 4,
   "id": "30d0c51a-1aaf-4183-be2b-c8e06f92b2bb",
   "metadata": {},
   "outputs": [
    {
     "data": {
      "text/plain": [
       "\n",
       "  no  yes \n",
       "69.9 30.1 "
      ]
     },
     "metadata": {},
     "output_type": "display_data"
    },
    {
     "data": {
      "text/plain": [
       "\n",
       " no yes \n",
       " 71  29 "
      ]
     },
     "metadata": {},
     "output_type": "display_data"
    }
   ],
   "source": [
    "# Select the 900 examples (rows) randomly chosen above for the training set\n",
    "credit_train <- credit[train_sample, ]\n",
    "\n",
    "# Put the remaining 100 examples into the test set\n",
    "credit_test <- credit[-train_sample, ]\n",
    "# Generate proportion tables for default/non-defaults for training and test datasets\n",
    "round(proportions(table(credit_train$default)) * 100, 1)\n",
    "round(proportions(table(credit_test$default)) * 100, 1)"
   ]
  },
  {
   "cell_type": "code",
   "execution_count": 5,
   "id": "ddc1e7f2-3525-4924-98d0-47a82267b393",
   "metadata": {},
   "outputs": [],
   "source": [
    "# install.package(\"C50\")\n",
    "library(C50)\n",
    "\n",
    "# Train the model on training data (remove column 17 -- class labels) and training labels (column 17, \"default\")\n",
    "credit_model <- C5.0(credit_train[-17], credit_train$default)\n",
    "\n",
    "# Alternative way to train the mode using a formula\n",
    "#credit_model <- C5.0(default ~ ., data = credit_train)"
   ]
  },
  {
   "cell_type": "code",
   "execution_count": 6,
   "id": "42240a83-9c3c-4b6f-ad85-6e8d91d51129",
   "metadata": {},
   "outputs": [
    {
     "data": {
      "text/plain": [
       "\n",
       "Call:\n",
       "C5.0.default(x = credit_train[-17], y = credit_train$default)\n",
       "\n",
       "Classification Tree\n",
       "Number of samples: 900 \n",
       "Number of predictors: 16 \n",
       "\n",
       "Tree size: 45 \n",
       "\n",
       "Non-standard options: attempt to group attributes\n"
      ]
     },
     "metadata": {},
     "output_type": "display_data"
    }
   ],
   "source": [
    "# Display model info\n",
    "credit_model"
   ]
  },
  {
   "cell_type": "code",
   "execution_count": 7,
   "id": "86ed9d6c-006e-415c-844c-0cce933c62dd",
   "metadata": {},
   "outputs": [
    {
     "data": {
      "text/plain": [
       "\n",
       "Call:\n",
       "C5.0.default(x = credit_train[-17], y = credit_train$default)\n",
       "\n",
       "\n",
       "C5.0 [Release 2.07 GPL Edition]  \tWed Feb  8 12:40:47 2023\n",
       "-------------------------------\n",
       "\n",
       "Class specified by attribute `outcome'\n",
       "\n",
       "Read 900 cases (17 attributes) from undefined.data\n",
       "\n",
       "Decision tree:\n",
       "\n",
       "checking_balance in {> 200 DM,unknown}: no (414/53)\n",
       "checking_balance in {< 0 DM,1 - 200 DM}:\n",
       ":...months_loan_duration <= 22:\n",
       "    :...credit_history in {perfect,very good}:\n",
       "    :   :...years_at_residence <= 1: no (2)\n",
       "    :   :   years_at_residence > 1:\n",
       "    :   :   :...phone = no: yes (15/1)\n",
       "    :   :       phone = yes:\n",
       "    :   :       :...amount <= 6148: no (3)\n",
       "    :   :           amount > 6148: yes (2)\n",
       "    :   credit_history in {critical,good,poor}:\n",
       "    :   :...purpose in {business,car0,renovations}: no (27/4)\n",
       "    :       purpose = education:\n",
       "    :       :...savings_balance in {< 100 DM,> 1000 DM,100 - 500 DM,\n",
       "    :       :   :                   500 - 1000 DM}: yes (9/1)\n",
       "    :       :   savings_balance = unknown: no (4)\n",
       "    :       purpose = car:\n",
       "    :       :...other_credit = store: no (0)\n",
       "    :       :   other_credit = bank: yes (12/4)\n",
       "    :       :   other_credit = none:\n",
       "    :       :   :...credit_history in {critical,poor}: no (28/4)\n",
       "    :       :       credit_history = good:\n",
       "    :       :       :...savings_balance in {> 1000 DM,100 - 500 DM,\n",
       "    :       :           :                   500 - 1000 DM,\n",
       "    :       :           :                   unknown}: no (19/5)\n",
       "    :       :           savings_balance = < 100 DM:\n",
       "    :       :           :...years_at_residence <= 2: yes (10/1)\n",
       "    :       :               years_at_residence > 2: no (15/5)\n",
       "    :       purpose = furniture/appliances:\n",
       "    :       :...savings_balance = 100 - 500 DM: yes (4)\n",
       "    :           savings_balance in {< 100 DM,> 1000 DM,500 - 1000 DM,unknown}:\n",
       "    :           :...months_loan_duration <= 16: no (84/17)\n",
       "    :               months_loan_duration > 16:\n",
       "    :               :...employment_duration in {< 1 year,> 7 years,\n",
       "    :                   :                       4 - 7 years}: no (20/3)\n",
       "    :                   employment_duration in {1 - 4 years,unemployed}:\n",
       "    :                   :...savings_balance in {500 - 1000 DM,\n",
       "    :                       :                   unknown}: yes (0)\n",
       "    :                       savings_balance = > 1000 DM: no (1)\n",
       "    :                       savings_balance = < 100 DM:\n",
       "    :                       :...checking_balance = < 0 DM: yes (11)\n",
       "    :                           checking_balance = 1 - 200 DM: no (4/1)\n",
       "    months_loan_duration > 22:\n",
       "    :...savings_balance = > 1000 DM: no (3/1)\n",
       "        savings_balance = 500 - 1000 DM:\n",
       "        :...other_credit in {bank,none}: yes (5/1)\n",
       "        :   other_credit = store: no (2)\n",
       "        savings_balance = 100 - 500 DM:\n",
       "        :...credit_history in {good,perfect}: yes (15/3)\n",
       "        :   credit_history in {critical,poor,very good}:\n",
       "        :   :...age <= 37: no (12)\n",
       "        :       age > 37: yes (4/1)\n",
       "        savings_balance = unknown:\n",
       "        :...checking_balance = 1 - 200 DM: no (20/1)\n",
       "        :   checking_balance = < 0 DM:\n",
       "        :   :...existing_loans_count <= 1: yes (11/2)\n",
       "        :       existing_loans_count > 1: no (2)\n",
       "        savings_balance = < 100 DM:\n",
       "        :...months_loan_duration > 47: yes (26/2)\n",
       "            months_loan_duration <= 47:\n",
       "            :...housing = other:\n",
       "                :...percent_of_income <= 2: no (9/1)\n",
       "                :   percent_of_income > 2: yes (11/3)\n",
       "                housing = rent:\n",
       "                :...age <= 46: yes (20/3)\n",
       "                :   age > 46: no (2)\n",
       "                housing = own:\n",
       "                :...age > 52: no (5)\n",
       "                    age <= 52:\n",
       "                    :...phone = yes: yes (30/8)\n",
       "                        phone = no:\n",
       "                        :...purpose in {business,car0,education}: no (5)\n",
       "                            purpose in {car,renovations}: yes (11/2)\n",
       "                            purpose = furniture/appliances: [S1]\n",
       "\n",
       "SubTree [S1]\n",
       "\n",
       "employment_duration = 1 - 4 years: no (6)\n",
       "employment_duration in {4 - 7 years,unemployed}: yes (5)\n",
       "employment_duration = < 1 year:\n",
       ":...years_at_residence <= 2: no (4/1)\n",
       ":   years_at_residence > 2: yes (4)\n",
       "employment_duration = > 7 years:\n",
       ":...checking_balance = < 0 DM: yes (2)\n",
       "    checking_balance = 1 - 200 DM: no (2)\n",
       "\n",
       "\n",
       "Evaluation on training data (900 cases):\n",
       "\n",
       "\t    Decision Tree   \n",
       "\t  ----------------  \n",
       "\t  Size      Errors  \n",
       "\n",
       "\t    43  128(14.2%)   <<\n",
       "\n",
       "\n",
       "\t   (a)   (b)    <-classified as\n",
       "\t  ----  ----\n",
       "\t   597    32    (a): class no\n",
       "\t    96   175    (b): class yes\n",
       "\n",
       "\n",
       "\tAttribute usage:\n",
       "\n",
       "\t100.00%\tchecking_balance\n",
       "\t 54.00%\tmonths_loan_duration\n",
       "\t 44.11%\tsavings_balance\n",
       "\t 33.44%\tcredit_history\n",
       "\t 31.89%\tpurpose\n",
       "\t 12.89%\thousing\n",
       "\t 12.44%\tage\n",
       "\t 10.11%\tother_credit\n",
       "\t  9.89%\tphone\n",
       "\t  6.56%\temployment_duration\n",
       "\t  6.11%\tyears_at_residence\n",
       "\t  2.22%\tpercent_of_income\n",
       "\t  1.44%\texisting_loans_count\n",
       "\t  0.56%\tamount\n",
       "\n",
       "\n",
       "Time: 0.0 secs\n"
      ]
     },
     "metadata": {},
     "output_type": "display_data"
    }
   ],
   "source": [
    "# Display the summary of the decision tree model\n",
    "summary(credit_model)\n"
   ]
  },
  {
   "cell_type": "code",
   "execution_count": 10,
   "id": "f27e7633-2779-4b5b-8ce0-e2b68a51d7b3",
   "metadata": {},
   "outputs": [
    {
     "name": "stdout",
     "output_type": "stream",
     "text": [
      "\n",
      " \n",
      "   Cell Contents\n",
      "|-------------------------|\n",
      "|                       N |\n",
      "|         N / Table Total |\n",
      "|-------------------------|\n",
      "\n",
      " \n",
      "Total Observations in Table:  900 \n",
      "\n",
      " \n",
      "             | Predictions \n",
      "      Actual |        no |       yes | Row Total | \n",
      "-------------|-----------|-----------|-----------|\n",
      "          no |       597 |        32 |       629 | \n",
      "             |     0.663 |     0.036 |           | \n",
      "-------------|-----------|-----------|-----------|\n",
      "         yes |        96 |       175 |       271 | \n",
      "             |     0.107 |     0.194 |           | \n",
      "-------------|-----------|-----------|-----------|\n",
      "Column Total |       693 |       207 |       900 | \n",
      "-------------|-----------|-----------|-----------|\n",
      "\n",
      " \n"
     ]
    }
   ],
   "source": [
    "credit_pred <- predict(credit_model, credit_train)\n",
    "\n",
    "# Load the library with CrossTable()\n",
    "library(gmodels)\n",
    "\n",
    "# Runs it on same data it was trained on\n",
    "# Generate the confusion matrix with the test labels and predictions\n",
    "CrossTable(credit_train$default, credit_pred, dnn = c(\"Actual\", \"Predictions\"), prop.chisq = FALSE, prop.r = FALSE, prop.c = FALSE)"
   ]
  },
  {
   "cell_type": "code",
   "execution_count": 11,
   "id": "1b58f2d7-3f1b-41fd-a0d8-c19354ae361a",
   "metadata": {},
   "outputs": [
    {
     "name": "stdout",
     "output_type": "stream",
     "text": [
      "\n",
      " \n",
      "   Cell Contents\n",
      "|-------------------------|\n",
      "|                       N |\n",
      "|         N / Table Total |\n",
      "|-------------------------|\n",
      "\n",
      " \n",
      "Total Observations in Table:  100 \n",
      "\n",
      " \n",
      "               | Predicted default \n",
      "Actual default |        no |       yes | Row Total | \n",
      "---------------|-----------|-----------|-----------|\n",
      "            no |        65 |         6 |        71 | \n",
      "               |     0.650 |     0.060 |           | \n",
      "---------------|-----------|-----------|-----------|\n",
      "           yes |        19 |        10 |        29 | \n",
      "               |     0.190 |     0.100 |           | \n",
      "---------------|-----------|-----------|-----------|\n",
      "  Column Total |        84 |        16 |       100 | \n",
      "---------------|-----------|-----------|-----------|\n",
      "\n",
      " \n"
     ]
    }
   ],
   "source": [
    "# Apply our C5.0 model to the test dataset now\n",
    "credit_pred <- predict(credit_model, credit_test)\n",
    "\n",
    "# Generate the confusion matrix\n",
    "CrossTable(credit_test$default, credit_pred, dnn = c(\"Actual default\", \"Predicted default\"), prop.chisq = FALSE, prop.c = FALSE, prop.r = FALSE)"
   ]
  },
  {
   "cell_type": "code",
   "execution_count": 12,
   "id": "90e8a0c6-a3eb-47fa-9222-1fd1e27b9dee",
   "metadata": {},
   "outputs": [
    {
     "data": {
      "text/plain": [
       "\n",
       "Call:\n",
       "C5.0.default(x = credit_train[-17], y = credit_train$default, trials = 10)\n",
       "\n",
       "Classification Tree\n",
       "Number of samples: 900 \n",
       "Number of predictors: 16 \n",
       "\n",
       "Number of boosting iterations: 10 \n",
       "Average tree size: 39.6 \n",
       "\n",
       "Non-standard options: attempt to group attributes\n"
      ]
     },
     "metadata": {},
     "output_type": "display_data"
    }
   ],
   "source": [
    "# Build a boosted model consisting of an ensemble of up to 10 trees\n",
    "credit_boost10 <- C5.0(credit_train[-17], credit_train$default, trials = 10)\n",
    "\n",
    "# Examine the model\n",
    "credit_boost10"
   ]
  },
  {
   "cell_type": "code",
   "execution_count": 13,
   "id": "7400843e-861d-46b4-b0e1-587e85ee57af",
   "metadata": {},
   "outputs": [
    {
     "name": "stdout",
     "output_type": "stream",
     "text": [
      "\n",
      " \n",
      "   Cell Contents\n",
      "|-------------------------|\n",
      "|                       N |\n",
      "|         N / Table Total |\n",
      "|-------------------------|\n",
      "\n",
      " \n",
      "Total Observations in Table:  900 \n",
      "\n",
      " \n",
      "               | Predicted default \n",
      "Actual default |        no |       yes | Row Total | \n",
      "---------------|-----------|-----------|-----------|\n",
      "            no |       625 |         4 |       629 | \n",
      "               |     0.694 |     0.004 |           | \n",
      "---------------|-----------|-----------|-----------|\n",
      "           yes |        38 |       233 |       271 | \n",
      "               |     0.042 |     0.259 |           | \n",
      "---------------|-----------|-----------|-----------|\n",
      "  Column Total |       663 |       237 |       900 | \n",
      "---------------|-----------|-----------|-----------|\n",
      "\n",
      " \n"
     ]
    }
   ],
   "source": [
    "# Use the boosted model to generate predictions for the training dataset\n",
    "credit_boost10_train_pred <- predict(credit_boost10, credit_train)\n",
    "\n",
    "# Display the confusion matrix for the training dataset\n",
    "CrossTable(credit_train$default, credit_boost10_train_pred, dnn = c(\"Actual default\", \"Predicted default\"), prop.chisq = FALSE, prop.c = FALSE, prop.r = FALSE)"
   ]
  },
  {
   "cell_type": "code",
   "execution_count": 14,
   "id": "13a91fc7-ee77-4c01-bb17-8b3eecc416d8",
   "metadata": {},
   "outputs": [
    {
     "name": "stdout",
     "output_type": "stream",
     "text": [
      "\n",
      " \n",
      "   Cell Contents\n",
      "|-------------------------|\n",
      "|                       N |\n",
      "|         N / Table Total |\n",
      "|-------------------------|\n",
      "\n",
      " \n",
      "Total Observations in Table:  100 \n",
      "\n",
      " \n",
      "               | Predicted default \n",
      "Actual default |        no |       yes | Row Total | \n",
      "---------------|-----------|-----------|-----------|\n",
      "            no |        60 |        11 |        71 | \n",
      "               |     0.600 |     0.110 |           | \n",
      "---------------|-----------|-----------|-----------|\n",
      "           yes |        17 |        12 |        29 | \n",
      "               |     0.170 |     0.120 |           | \n",
      "---------------|-----------|-----------|-----------|\n",
      "  Column Total |        77 |        23 |       100 | \n",
      "---------------|-----------|-----------|-----------|\n",
      "\n",
      " \n"
     ]
    }
   ],
   "source": [
    "# Use the boosted model to generate predictions for the test dataset\n",
    "credit_boost10_test_pred <- predict(credit_boost10, credit_test)\n",
    "\n",
    "# Display the confusion matrix for the test dataset\n",
    "CrossTable(credit_test$default, credit_boost10_test_pred, dnn = c(\"Actual default\", \"Predicted default\"), prop.chisq = FALSE, prop.c = FALSE, prop.r = FALSE)"
   ]
  },
  {
   "cell_type": "code",
   "execution_count": 15,
   "id": "376ba95f-263c-4f0f-8c09-4d8dc9db8d09",
   "metadata": {},
   "outputs": [
    {
     "data": {
      "text/html": [
       "<dl>\n",
       "\t<dt>$Predicted</dt>\n",
       "\t\t<dd><style>\n",
       ".list-inline {list-style: none; margin:0; padding: 0}\n",
       ".list-inline>li {display: inline-block}\n",
       ".list-inline>li:not(:last-child)::after {content: \"\\00b7\"; padding: 0 .5ex}\n",
       "</style>\n",
       "<ol class=list-inline><li>'no'</li><li>'yes'</li></ol>\n",
       "</dd>\n",
       "\t<dt>$Actual</dt>\n",
       "\t\t<dd><style>\n",
       ".list-inline {list-style: none; margin:0; padding: 0}\n",
       ".list-inline>li {display: inline-block}\n",
       ".list-inline>li:not(:last-child)::after {content: \"\\00b7\"; padding: 0 .5ex}\n",
       "</style>\n",
       "<ol class=list-inline><li>'no'</li><li>'yes'</li></ol>\n",
       "</dd>\n",
       "</dl>\n"
      ],
      "text/latex": [
       "\\begin{description}\n",
       "\\item[\\$Predicted] \\begin{enumerate*}\n",
       "\\item 'no'\n",
       "\\item 'yes'\n",
       "\\end{enumerate*}\n",
       "\n",
       "\\item[\\$Actual] \\begin{enumerate*}\n",
       "\\item 'no'\n",
       "\\item 'yes'\n",
       "\\end{enumerate*}\n",
       "\n",
       "\\end{description}\n"
      ],
      "text/markdown": [
       "$Predicted\n",
       ":   1. 'no'\n",
       "2. 'yes'\n",
       "\n",
       "\n",
       "\n",
       "$Actual\n",
       ":   1. 'no'\n",
       "2. 'yes'\n",
       "\n",
       "\n",
       "\n",
       "\n",
       "\n"
      ],
      "text/plain": [
       "$Predicted\n",
       "[1] \"no\"  \"yes\"\n",
       "\n",
       "$Actual\n",
       "[1] \"no\"  \"yes\"\n"
      ]
     },
     "metadata": {},
     "output_type": "display_data"
    },
    {
     "data": {
      "text/html": [
       "<table class=\"dataframe\">\n",
       "<caption>A matrix: 2 × 2 of type dbl</caption>\n",
       "<thead>\n",
       "\t<tr><th></th><th scope=col>no</th><th scope=col>yes</th></tr>\n",
       "</thead>\n",
       "<tbody>\n",
       "\t<tr><th scope=row>no</th><td>0</td><td>4</td></tr>\n",
       "\t<tr><th scope=row>yes</th><td>1</td><td>0</td></tr>\n",
       "</tbody>\n",
       "</table>\n"
      ],
      "text/latex": [
       "A matrix: 2 × 2 of type dbl\n",
       "\\begin{tabular}{r|ll}\n",
       "  & no & yes\\\\\n",
       "\\hline\n",
       "\tno & 0 & 4\\\\\n",
       "\tyes & 1 & 0\\\\\n",
       "\\end{tabular}\n"
      ],
      "text/markdown": [
       "\n",
       "A matrix: 2 × 2 of type dbl\n",
       "\n",
       "| <!--/--> | no | yes |\n",
       "|---|---|---|\n",
       "| no | 0 | 4 |\n",
       "| yes | 1 | 0 |\n",
       "\n"
      ],
      "text/plain": [
       "         Actual\n",
       "Predicted no yes\n",
       "      no  0  4  \n",
       "      yes 1  0  "
      ]
     },
     "metadata": {},
     "output_type": "display_data"
    }
   ],
   "source": [
    "# Specify the matrix dimensions labels (to make sure the classifier has the right numbers for each class)\n",
    "matrix_dimensions <- list(c(\"no\", \"yes\"), c(\"no\", \"yes\"))\n",
    "\n",
    "# Specify the dimension names (not really needed, but better for checking we put the true classes into columns)\n",
    "names(matrix_dimensions) <- c(\"Predicted\", \"Actual\")\n",
    "\n",
    "# Check for correctness\n",
    "matrix_dimensions\n",
    "\n",
    "# Define the matrix; it is defined by filling column-by-column, so the order needs to be 0, 1, 4, 0\n",
    "error_cost <- matrix(c(0, 1, 4, 0), nrow = 2, dimnames = matrix_dimensions)\n",
    "\n",
    "# Check for correctness\n",
    "error_cost"
   ]
  },
  {
   "cell_type": "code",
   "execution_count": 16,
   "id": "03c15d1a-a6e8-4f86-8f77-388104d6a9c0",
   "metadata": {},
   "outputs": [
    {
     "name": "stdout",
     "output_type": "stream",
     "text": [
      "\n",
      " \n",
      "   Cell Contents\n",
      "|-------------------------|\n",
      "|                       N |\n",
      "|         N / Table Total |\n",
      "|-------------------------|\n",
      "\n",
      " \n",
      "Total Observations in Table:  100 \n",
      "\n",
      " \n",
      "               | Predicted default \n",
      "Actual default |        no |       yes | Row Total | \n",
      "---------------|-----------|-----------|-----------|\n",
      "            no |        28 |        43 |        71 | \n",
      "               |     0.280 |     0.430 |           | \n",
      "---------------|-----------|-----------|-----------|\n",
      "           yes |         6 |        23 |        29 | \n",
      "               |     0.060 |     0.230 |           | \n",
      "---------------|-----------|-----------|-----------|\n",
      "  Column Total |        34 |        66 |       100 | \n",
      "---------------|-----------|-----------|-----------|\n",
      "\n",
      " \n"
     ]
    }
   ],
   "source": [
    "# Train the model with the cost matrix\n",
    "credit_cost <- C5.0(credit_train[-17], credit_train$default, costs = error_cost)\n",
    "\n",
    "# Make predictions with the test dataset\n",
    "credit_cost_pred <- predict(credit_cost, credit_test)\n",
    "\n",
    "# Generate the confusion matrix\n",
    "CrossTable(credit_test$default, credit_cost_pred, dnn = c(\"Actual default\", \"Predicted default\"), prop.chisq = FALSE, prop.c = FALSE, prop.r = FALSE)"
   ]
  },
  {
   "cell_type": "code",
   "execution_count": null,
   "id": "49d42c18-53f6-4445-8345-921932375028",
   "metadata": {},
   "outputs": [],
   "source": []
  }
 ],
 "metadata": {
  "kernelspec": {
   "display_name": "R",
   "language": "R",
   "name": "ir"
  },
  "language_info": {
   "codemirror_mode": "r",
   "file_extension": ".r",
   "mimetype": "text/x-r-source",
   "name": "R",
   "pygments_lexer": "r",
   "version": "4.2.2"
  }
 },
 "nbformat": 4,
 "nbformat_minor": 5
}
