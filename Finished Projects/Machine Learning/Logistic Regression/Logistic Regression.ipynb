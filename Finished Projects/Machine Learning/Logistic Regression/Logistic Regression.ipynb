{
 "cells": [
  {
   "cell_type": "code",
   "execution_count": 15,
   "id": "6af464a1-c955-4500-bc84-27ee1ec875b8",
   "metadata": {},
   "outputs": [
    {
     "name": "stdout",
     "output_type": "stream",
     "text": [
      "'data.frame':\t569 obs. of  31 variables:\n",
      " $ diagnosis        : num  0 0 0 0 0 0 0 1 0 0 ...\n",
      " $ radius_mean      : num  12.3 10.6 11 11.3 15.2 ...\n",
      " $ texture_mean     : num  12.4 18.9 16.8 13.4 13.2 ...\n",
      " $ perimeter_mean   : num  78.8 69.3 70.9 73 97.7 ...\n",
      " $ area_mean        : num  464 346 373 385 712 ...\n",
      " $ smoothness_mean  : num  0.1028 0.0969 0.1077 0.1164 0.0796 ...\n",
      " $ compactness_mean : num  0.0698 0.1147 0.078 0.1136 0.0693 ...\n",
      " $ concavity_mean   : num  0.0399 0.0639 0.0305 0.0464 0.0339 ...\n",
      " $ points_mean      : num  0.037 0.0264 0.0248 0.048 0.0266 ...\n",
      " $ symmetry_mean    : num  0.196 0.192 0.171 0.177 0.172 ...\n",
      " $ dimension_mean   : num  0.0595 0.0649 0.0634 0.0607 0.0554 ...\n",
      " $ radius_se        : num  0.236 0.451 0.197 0.338 0.178 ...\n",
      " $ texture_se       : num  0.666 1.197 1.387 1.343 0.412 ...\n",
      " $ perimeter_se     : num  1.67 3.43 1.34 1.85 1.34 ...\n",
      " $ area_se          : num  17.4 27.1 13.5 26.3 17.7 ...\n",
      " $ smoothness_se    : num  0.00805 0.00747 0.00516 0.01127 0.00501 ...\n",
      " $ compactness_se   : num  0.0118 0.03581 0.00936 0.03498 0.01485 ...\n",
      " $ concavity_se     : num  0.0168 0.0335 0.0106 0.0219 0.0155 ...\n",
      " $ points_se        : num  0.01241 0.01365 0.00748 0.01965 0.00915 ...\n",
      " $ symmetry_se      : num  0.0192 0.035 0.0172 0.0158 0.0165 ...\n",
      " $ dimension_se     : num  0.00225 0.00332 0.0022 0.00344 0.00177 ...\n",
      " $ radius_worst     : num  13.5 11.9 12.4 11.9 16.2 ...\n",
      " $ texture_worst    : num  15.6 22.9 26.4 15.8 15.7 ...\n",
      " $ perimeter_worst  : num  87 78.3 79.9 76.5 104.5 ...\n",
      " $ area_worst       : num  549 425 471 434 819 ...\n",
      " $ smoothness_worst : num  0.139 0.121 0.137 0.137 0.113 ...\n",
      " $ compactness_worst: num  0.127 0.252 0.148 0.182 0.174 ...\n",
      " $ concavity_worst  : num  0.1242 0.1916 0.1067 0.0867 0.1362 ...\n",
      " $ points_worst     : num  0.0939 0.0793 0.0743 0.0861 0.0818 ...\n",
      " $ symmetry_worst   : num  0.283 0.294 0.3 0.21 0.249 ...\n",
      " $ dimension_worst  : num  0.0677 0.0759 0.0788 0.0678 0.0677 ...\n"
     ]
    }
   ],
   "source": [
    "# Load data\n",
    "wbcd <- read.csv(\"wisc_bc_data.csv\", stringsAsFactors = TRUE)\n",
    "# Remove ID\n",
    "wbcd <- wbcd[-1]\n",
    "# Re-code diagnosis (Benign vs Malignant) as a variable containing 0 (for benign) and 1 (for malignant)\n",
    "wbcd$diagnosis <- ifelse(wbcd$diagnosis == \"B\", 0, 1)\n",
    "# Display the structure of the dataset\n",
    "str(wbcd)"
   ]
  },
  {
   "cell_type": "code",
   "execution_count": 16,
   "id": "9aa8e9be-ecc7-4e0c-98be-8820b5339989",
   "metadata": {},
   "outputs": [],
   "source": [
    "# Define the training and testing datasets with labels\n",
    "wbcd_train <- wbcd[1:469, ]\n",
    "wbcd_test <- wbcd[470:569, ]"
   ]
  },
  {
   "cell_type": "code",
   "execution_count": 17,
   "id": "6ef331ed-86a9-4250-891e-85ecdc4fafda",
   "metadata": {},
   "outputs": [
    {
     "data": {
      "text/plain": [
       "\n",
       "   0    1 \n",
       "62.7 37.3 "
      ]
     },
     "metadata": {},
     "output_type": "display_data"
    },
    {
     "data": {
      "text/plain": [
       "\n",
       "   0    1 \n",
       "63.1 36.9 "
      ]
     },
     "metadata": {},
     "output_type": "display_data"
    },
    {
     "data": {
      "text/plain": [
       "\n",
       " 0  1 \n",
       "61 39 "
      ]
     },
     "metadata": {},
     "output_type": "display_data"
    }
   ],
   "source": [
    "# Checking proportions of malignant vs benign in train and test\n",
    "round(proportions(table(wbcd$diagnosis)) * 100, digits = 1)\n",
    "round(proportions(table(wbcd_train$diagnosis)) * 100, digits = 1)\n",
    "round(proportions(table(wbcd_test$diagnosis)) * 100, digits = 1)"
   ]
  },
  {
   "cell_type": "code",
   "execution_count": 18,
   "id": "e9584094-815f-4c10-9e87-6c6a4df068f0",
   "metadata": {},
   "outputs": [
    {
     "name": "stderr",
     "output_type": "stream",
     "text": [
      "Warning message:\n",
      "“glm.fit: fitted probabilities numerically 0 or 1 occurred”\n"
     ]
    },
    {
     "data": {
      "text/plain": [
       "\n",
       "Call:\n",
       "glm(formula = diagnosis ~ ., family = binomial, data = wbcd_train, \n",
       "    maxit = 100)\n",
       "\n",
       "Deviance Residuals: \n",
       "       Min          1Q      Median          3Q         Max  \n",
       "-1.019e-05  -2.110e-08  -2.110e-08   2.110e-08   1.181e-05  \n",
       "\n",
       "Coefficients:\n",
       "                    Estimate Std. Error z value Pr(>|z|)\n",
       "(Intercept)       -7.645e+01  1.167e+07   0.000        1\n",
       "radius_mean       -2.145e+03  9.267e+06   0.000        1\n",
       "texture_mean       2.109e+01  1.925e+05   0.000        1\n",
       "perimeter_mean     1.371e+02  1.190e+06   0.000        1\n",
       "area_mean          1.242e+01  2.101e+04   0.001        1\n",
       "smoothness_mean    1.968e+04  1.053e+08   0.000        1\n",
       "compactness_mean  -1.817e+04  5.307e+07   0.000        1\n",
       "concavity_mean     7.694e+03  4.268e+07   0.000        1\n",
       "points_mean        7.710e+03  6.835e+07   0.000        1\n",
       "symmetry_mean     -7.615e+03  1.576e+07   0.000        1\n",
       "dimension_mean     1.002e+04  2.711e+08   0.000        1\n",
       "radius_se          8.907e+02  1.495e+07   0.000        1\n",
       "texture_se        -1.037e+02  3.415e+06   0.000        1\n",
       "perimeter_se      -2.528e+02  2.477e+06   0.000        1\n",
       "area_se            2.863e+01  1.781e+05   0.000        1\n",
       "smoothness_se     -1.508e+03  8.379e+07   0.000        1\n",
       "compactness_se     3.105e+04  1.348e+08   0.000        1\n",
       "concavity_se      -2.114e+04  6.615e+07   0.000        1\n",
       "points_se          8.585e+04  1.484e+08   0.001        1\n",
       "symmetry_se       -3.234e+04  8.551e+07   0.000        1\n",
       "dimension_se      -3.000e+05  6.250e+08   0.000        1\n",
       "radius_worst       5.145e+02  1.896e+06   0.000        1\n",
       "texture_worst      2.483e+01  2.735e+05   0.000        1\n",
       "perimeter_worst    6.580e-01  3.069e+05   0.000        1\n",
       "area_worst        -3.570e+00  2.349e+04   0.000        1\n",
       "smoothness_worst  -7.467e+03  6.067e+07   0.000        1\n",
       "compactness_worst -2.064e+03  2.580e+07   0.000        1\n",
       "concavity_worst    1.910e+03  9.022e+06   0.000        1\n",
       "points_worst       9.983e+02  2.082e+07   0.000        1\n",
       "symmetry_worst     7.056e+03  1.765e+07   0.000        1\n",
       "dimension_worst    2.599e+04  1.620e+08   0.000        1\n",
       "\n",
       "(Dispersion parameter for binomial family taken to be 1)\n",
       "\n",
       "    Null deviance: 6.1753e+02  on 468  degrees of freedom\n",
       "Residual deviance: 1.1960e-09  on 438  degrees of freedom\n",
       "AIC: 62\n",
       "\n",
       "Number of Fisher Scoring iterations: 34\n"
      ]
     },
     "metadata": {},
     "output_type": "display_data"
    }
   ],
   "source": [
    "# Create the logistic model using all of the training data (and increasing the maximum number of iterations to 100)\n",
    "wbcd_glm <- glm(diagnosis ~ ., data = wbcd_train, family = binomial, maxit = 100)\n",
    "\n",
    "# Summary of the trained model\n",
    "summary(wbcd_glm)"
   ]
  },
  {
   "cell_type": "code",
   "execution_count": 19,
   "id": "45245530-24ff-40c3-b4fa-6b240a7f84d4",
   "metadata": {},
   "outputs": [
    {
     "data": {
      "text/plain": [
       "   Min. 1st Qu.  Median    Mean 3rd Qu.    Max. \n",
       "   0.00    0.00    0.00    0.42    1.00    1.00 "
      ]
     },
     "metadata": {},
     "output_type": "display_data"
    }
   ],
   "source": [
    "# Apply the logistic model wbcd_glm to the test set wbcd_test to predict the probability of malignancy for each example\n",
    "wbcd_glm_prob <- predict(wbcd_glm, wbcd_test, type = \"response\")\n",
    "\n",
    "# Check the quartile summary of the output\n",
    "summary(wbcd_glm_prob)"
   ]
  },
  {
   "cell_type": "code",
   "execution_count": 20,
   "id": "fc7eb573-9981-46fb-a973-7ff748da6958",
   "metadata": {},
   "outputs": [
    {
     "data": {
      "text/plain": [
       "wbcd_glm_pred\n",
       " 0  1 \n",
       "58 42 "
      ]
     },
     "metadata": {},
     "output_type": "display_data"
    }
   ],
   "source": [
    "# If the probability is > 0.5, output 1; otherwise output 0\n",
    "wbcd_glm_pred <- ifelse(wbcd_glm_prob > 0.5, 1, 0)\n",
    "\n",
    "# Check the totals for each class label\n",
    "table(wbcd_glm_pred)"
   ]
  },
  {
   "cell_type": "code",
   "execution_count": 21,
   "id": "763c2a97-c16e-4815-bb4f-361647065d22",
   "metadata": {},
   "outputs": [
    {
     "name": "stdout",
     "output_type": "stream",
     "text": [
      "\n",
      " \n",
      "   Cell Contents\n",
      "|-------------------------|\n",
      "|                       N |\n",
      "|-------------------------|\n",
      "\n",
      " \n",
      "Total Observations in Table:  100 \n",
      "\n",
      " \n",
      "             | Predictions \n",
      "      Actual |         0 |         1 | Row Total | \n",
      "-------------|-----------|-----------|-----------|\n",
      "           0 |        58 |         3 |        61 | \n",
      "-------------|-----------|-----------|-----------|\n",
      "           1 |         0 |        39 |        39 | \n",
      "-------------|-----------|-----------|-----------|\n",
      "Column Total |        58 |        42 |       100 | \n",
      "-------------|-----------|-----------|-----------|\n",
      "\n",
      " \n"
     ]
    }
   ],
   "source": [
    "# Load the library with CrossTable()\n",
    "library(gmodels)\n",
    "\n",
    "# Generate the confusion matrix with the test labels and predictions\n",
    "CrossTable(wbcd_test$diagnosis, wbcd_glm_pred, dnn = c(\"Actual\", \"Predictions\"), prop.chisq = FALSE, prop.r = FALSE, prop.c = FALSE, prop.t = FALSE)"
   ]
  },
  {
   "cell_type": "code",
   "execution_count": 22,
   "id": "fb09057c-fc19-4c0d-bcf5-0e3065229eeb",
   "metadata": {},
   "outputs": [
    {
     "data": {
      "text/plain": [
       "\n",
       "   0    1 \n",
       "62.7 37.3 "
      ]
     },
     "metadata": {},
     "output_type": "display_data"
    },
    {
     "data": {
      "text/plain": [
       "\n",
       " 0  1 \n",
       "62 38 "
      ]
     },
     "metadata": {},
     "output_type": "display_data"
    },
    {
     "data": {
      "text/plain": [
       "\n",
       " 0  1 \n",
       "66 34 "
      ]
     },
     "metadata": {},
     "output_type": "display_data"
    },
    {
     "name": "stderr",
     "output_type": "stream",
     "text": [
      "Warning message:\n",
      "“glm.fit: fitted probabilities numerically 0 or 1 occurred”\n"
     ]
    },
    {
     "data": {
      "text/plain": [
       "\n",
       "Call:\n",
       "glm(formula = diagnosis ~ ., family = binomial, data = wbcd_train, \n",
       "    maxit = 100)\n",
       "\n",
       "Deviance Residuals: \n",
       "   Min      1Q  Median      3Q     Max  \n",
       " -8.49    0.00    0.00    0.00    8.49  \n",
       "\n",
       "Coefficients:\n",
       "                    Estimate Std. Error    z value Pr(>|z|)    \n",
       "(Intercept)       -1.631e+16  1.321e+08 -123406702   <2e-16 ***\n",
       "radius_mean        1.961e+14  5.501e+07    3565103   <2e-16 ***\n",
       "texture_mean       2.941e+13  2.649e+06   11102646   <2e-16 ***\n",
       "perimeter_mean     1.221e+14  8.051e+06   15170855   <2e-16 ***\n",
       "area_mean         -1.148e+13  1.601e+05  -71699059   <2e-16 ***\n",
       "smoothness_mean    4.948e+15  6.222e+08    7952710   <2e-16 ***\n",
       "compactness_mean  -3.086e+16  4.158e+08  -74205779   <2e-16 ***\n",
       "concavity_mean     6.897e+15  3.188e+08   21634239   <2e-16 ***\n",
       "points_mean        1.817e+16  6.034e+08   30112920   <2e-16 ***\n",
       "symmetry_mean     -8.615e+15  2.262e+08  -38091246   <2e-16 ***\n",
       "dimension_mean     4.936e+16  1.735e+09   28446746   <2e-16 ***\n",
       "radius_se          1.568e+15  9.558e+07   16409343   <2e-16 ***\n",
       "texture_se         1.955e+14  1.320e+07   14812896   <2e-16 ***\n",
       "perimeter_se       3.913e+14  1.300e+07   30107050   <2e-16 ***\n",
       "area_se           -1.159e+13  4.829e+05  -23994609   <2e-16 ***\n",
       "smoothness_se      1.164e+17  2.107e+09   55231118   <2e-16 ***\n",
       "compactness_se     1.884e+16  6.744e+08   27939990   <2e-16 ***\n",
       "concavity_se      -1.992e+16  4.061e+08  -49056251   <2e-16 ***\n",
       "points_se         -3.753e+16  1.857e+09  -20207472   <2e-16 ***\n",
       "symmetry_se       -4.039e+16  8.565e+08  -47159542   <2e-16 ***\n",
       "dimension_se       7.044e+15  3.518e+09    2002384   <2e-16 ***\n",
       "radius_worst       5.763e+14  1.885e+07   30576776   <2e-16 ***\n",
       "texture_worst      3.576e+13  2.341e+06   15274174   <2e-16 ***\n",
       "perimeter_worst   -4.370e+13  1.847e+06  -23664136   <2e-16 ***\n",
       "area_worst        -1.061e+12  9.911e+04  -10703315   <2e-16 ***\n",
       "smoothness_worst  -2.763e+15  4.536e+08   -6092305   <2e-16 ***\n",
       "compactness_worst  2.232e+14  1.199e+08    1862001   <2e-16 ***\n",
       "concavity_worst    2.783e+15  8.434e+07   32991844   <2e-16 ***\n",
       "points_worst       1.355e+16  2.985e+08   45384172   <2e-16 ***\n",
       "symmetry_worst     9.195e+15  1.540e+08   59724475   <2e-16 ***\n",
       "dimension_worst   -2.048e+16  7.270e+08  -28174880   <2e-16 ***\n",
       "---\n",
       "Signif. codes:  0 ‘***’ 0.001 ‘**’ 0.01 ‘*’ 0.05 ‘.’ 0.1 ‘ ’ 1\n",
       "\n",
       "(Dispersion parameter for binomial family taken to be 1)\n",
       "\n",
       "    Null deviance: 622.68  on 468  degrees of freedom\n",
       "Residual deviance: 720.87  on 438  degrees of freedom\n",
       "AIC: 782.87\n",
       "\n",
       "Number of Fisher Scoring iterations: 39\n"
      ]
     },
     "metadata": {},
     "output_type": "display_data"
    },
    {
     "data": {
      "text/plain": [
       "wbcd_glm_pred\n",
       " 0  1 \n",
       "66 34 "
      ]
     },
     "metadata": {},
     "output_type": "display_data"
    },
    {
     "name": "stdout",
     "output_type": "stream",
     "text": [
      "\n",
      " \n",
      "   Cell Contents\n",
      "|-------------------------|\n",
      "|                       N |\n",
      "|-------------------------|\n",
      "\n",
      " \n",
      "Total Observations in Table:  100 \n",
      "\n",
      " \n",
      "             | Predictions \n",
      "      Actual |         0 |         1 | Row Total | \n",
      "-------------|-----------|-----------|-----------|\n",
      "           0 |        64 |         2 |        66 | \n",
      "-------------|-----------|-----------|-----------|\n",
      "           1 |         2 |        32 |        34 | \n",
      "-------------|-----------|-----------|-----------|\n",
      "Column Total |        66 |        34 |       100 | \n",
      "-------------|-----------|-----------|-----------|\n",
      "\n",
      " \n"
     ]
    }
   ],
   "source": [
    "# Set a random generator seed for reproducibility of the results\n",
    "set.seed(137)\n",
    "\n",
    "# Generate a random selection of 469 out of 569 indices for the training set\n",
    "train_ID <- sample(569, 469, replace = FALSE)\n",
    "\n",
    "# Define the training and test datasets\n",
    "wbcd_train <- wbcd[train_ID, ]\n",
    "wbcd_test <- wbcd[-train_ID, ]\n",
    "\n",
    "# Recall the proportions of labels in each subset\n",
    "round(proportions(table(wbcd$diagnosis)) * 100, digits = 1)\n",
    "round(proportions(table(wbcd_train$diagnosis)) * 100, digits = 1)\n",
    "round(proportions(table(wbcd_test$diagnosis)) * 100, digits = 1)\n",
    "# Create the logistic model using all of the training data (and increasing the maximum number of iterations to 100)\n",
    "wbcd_glm <- glm(diagnosis ~ ., data = wbcd_train, family = binomial, maxit = 100)\n",
    "\n",
    "# Summary of the trained model\n",
    "summary(wbcd_glm)\n",
    "\n",
    "# Apply the logistic model wbcd_glm to the test set wbcd_test to predict the probability of malignancy for each example\n",
    "wbcd_glm_prob <- predict(wbcd_glm, wbcd_test, type = \"response\")\n",
    "\n",
    "\n",
    "# If the probability is > 0.5, output 1; otherwise output 0\n",
    "wbcd_glm_pred <- ifelse(wbcd_glm_prob > 0.5, 1, 0)\n",
    "\n",
    "# Check the totals for each class label\n",
    "table(wbcd_glm_pred)\n",
    "\n",
    "# Generate the confusion matrix with the test labels and predictions\n",
    "CrossTable(wbcd_test$diagnosis, wbcd_glm_pred, dnn = c(\"Actual\", \"Predictions\"), prop.chisq = FALSE, prop.r = FALSE, prop.c = FALSE, prop.t = FALSE)"
   ]
  },
  {
   "cell_type": "code",
   "execution_count": 23,
   "id": "54d23a54-9ac6-40da-8b6b-55ce1f48975b",
   "metadata": {},
   "outputs": [],
   "source": [
    "library(glmnet)"
   ]
  },
  {
   "cell_type": "code",
   "execution_count": 24,
   "id": "298430cb-58f7-4fdd-bef1-82e7208c0fbe",
   "metadata": {},
   "outputs": [],
   "source": [
    "# Define the training and testing datasets\n",
    "wbcd_train <- wbcd[1:469, ]\n",
    "wbcd_test <- wbcd[470:569, ]\n",
    "\n",
    "# Create model matrices for the training and test datasets\n",
    "wbcd_train_glmnet <- model.matrix(diagnosis ~ ., data = wbcd_train)\n",
    "wbcd_test_glmnet <- model.matrix(diagnosis ~ ., data = wbcd_test)"
   ]
  },
  {
   "cell_type": "code",
   "execution_count": 25,
   "id": "5f846b34-c472-41f2-a770-0ae50098e1d2",
   "metadata": {},
   "outputs": [
    {
     "data": {
      "text/plain": [
       "32 x 1 sparse Matrix of class \"dgCMatrix\"\n",
       "                             s0\n",
       "(Intercept)       -4.359251e+01\n",
       "(Intercept)        .           \n",
       "radius_mean       -2.766511e+02\n",
       "texture_mean       3.245064e+00\n",
       "perimeter_mean     1.571031e+01\n",
       "area_mean          1.693545e+00\n",
       "smoothness_mean    2.749453e+03\n",
       "compactness_mean  -2.669920e+03\n",
       "concavity_mean     1.219823e+03\n",
       "points_mean        1.097879e+03\n",
       "symmetry_mean     -1.187786e+03\n",
       "dimension_mean     1.097166e+03\n",
       "radius_se          2.674124e+02\n",
       "texture_se        -2.067578e+01\n",
       "perimeter_se      -3.949912e+01\n",
       "area_se            3.317821e+00\n",
       "smoothness_se     -9.412580e+01\n",
       "compactness_se     4.676891e+03\n",
       "concavity_se      -3.184862e+03\n",
       "points_se          1.352386e+04\n",
       "symmetry_se       -5.146598e+03\n",
       "dimension_se      -4.604772e+04\n",
       "radius_worst       5.883076e+01\n",
       "texture_worst      4.408668e+00\n",
       "perimeter_worst    7.577855e-01\n",
       "area_worst        -3.601159e-01\n",
       "smoothness_worst  -8.530473e+02\n",
       "compactness_worst -2.746262e+02\n",
       "concavity_worst    2.670327e+02\n",
       "points_worst       2.228636e+02\n",
       "symmetry_worst     1.048421e+03\n",
       "dimension_worst    3.952420e+03"
      ]
     },
     "metadata": {},
     "output_type": "display_data"
    },
    {
     "name": "stdout",
     "output_type": "stream",
     "text": [
      "\n",
      " \n",
      "   Cell Contents\n",
      "|-------------------------|\n",
      "|                       N |\n",
      "|-------------------------|\n",
      "\n",
      " \n",
      "Total Observations in Table:  100 \n",
      "\n",
      " \n",
      "             | Predictions \n",
      "      Actual |         0 |         1 | Row Total | \n",
      "-------------|-----------|-----------|-----------|\n",
      "           0 |        58 |         3 |        61 | \n",
      "-------------|-----------|-----------|-----------|\n",
      "           1 |         0 |        39 |        39 | \n",
      "-------------|-----------|-----------|-----------|\n",
      "Column Total |        58 |        42 |       100 | \n",
      "-------------|-----------|-----------|-----------|\n",
      "\n",
      " \n"
     ]
    }
   ],
   "source": [
    "# Train the logistic model with no regularization\n",
    "model_no_reg <- glmnet(wbcd_train_glmnet, wbcd_train$diagnosis, alpha = 1, family = \"binomial\", lambda = 0)\n",
    "\n",
    "# Display the coefficients of the model for comparison with glm()\n",
    "coef(model_no_reg)\n",
    "\n",
    "# Predict probabilities using the test dataset\n",
    "wbcd_test_prob <- predict(model_no_reg, wbcd_test_glmnet, type = \"response\")\n",
    "\n",
    "# Convert probabilities to class levels 1 or 0\n",
    "wbcd_test_pred <- ifelse(wbcd_test_prob > 0.5, 1, 0)\n",
    "\n",
    "# Generate the confusion matrix with the test labels and predictions\n",
    "CrossTable(wbcd_test$diagnosis, wbcd_test_pred, dnn = c(\"Actual\", \"Predictions\"), prop.chisq = FALSE, prop.r = FALSE, prop.c = FALSE, prop.t = FALSE)"
   ]
  },
  {
   "cell_type": "code",
   "execution_count": 26,
   "id": "a2b8c778-9bd4-433e-a04a-31d11fc550c4",
   "metadata": {},
   "outputs": [
    {
     "data": {
      "text/html": [
       "0.00304460918351945"
      ],
      "text/latex": [
       "0.00304460918351945"
      ],
      "text/markdown": [
       "0.00304460918351945"
      ],
      "text/plain": [
       "[1] 0.003044609"
      ]
     },
     "metadata": {},
     "output_type": "display_data"
    },
    {
     "data": {
      "text/plain": [
       "32 x 1 sparse Matrix of class \"dgCMatrix\"\n",
       "                             s0\n",
       "(Intercept)       -2.859672e+01\n",
       "(Intercept)        .           \n",
       "radius_mean        .           \n",
       "texture_mean       .           \n",
       "perimeter_mean     .           \n",
       "area_mean          .           \n",
       "smoothness_mean    .           \n",
       "compactness_mean   .           \n",
       "concavity_mean     1.144579e+01\n",
       "points_mean        6.465883e+00\n",
       "symmetry_mean      .           \n",
       "dimension_mean     .           \n",
       "radius_se          8.233507e+00\n",
       "texture_se        -2.671486e-01\n",
       "perimeter_se       .           \n",
       "area_se            .           \n",
       "smoothness_se      3.651686e+01\n",
       "compactness_se    -1.045768e+01\n",
       "concavity_se       .           \n",
       "points_se          .           \n",
       "symmetry_se        .           \n",
       "dimension_se      -2.085170e+02\n",
       "radius_worst       6.732115e-01\n",
       "texture_worst      2.255107e-01\n",
       "perimeter_worst    .           \n",
       "area_worst         2.226230e-05\n",
       "smoothness_worst   3.030578e+01\n",
       "compactness_worst  .           \n",
       "concavity_worst    1.574838e-01\n",
       "points_worst       2.556403e+01\n",
       "symmetry_worst     3.296857e+00\n",
       "dimension_worst    .           "
      ]
     },
     "metadata": {},
     "output_type": "display_data"
    },
    {
     "name": "stdout",
     "output_type": "stream",
     "text": [
      "\n",
      " \n",
      "   Cell Contents\n",
      "|-------------------------|\n",
      "|                       N |\n",
      "|-------------------------|\n",
      "\n",
      " \n",
      "Total Observations in Table:  100 \n",
      "\n",
      " \n",
      "             | Predictions \n",
      "      Actual |         0 |         1 | Row Total | \n",
      "-------------|-----------|-----------|-----------|\n",
      "           0 |        58 |         3 |        61 | \n",
      "-------------|-----------|-----------|-----------|\n",
      "           1 |         0 |        39 |        39 | \n",
      "-------------|-----------|-----------|-----------|\n",
      "Column Total |        58 |        42 |       100 | \n",
      "-------------|-----------|-----------|-----------|\n",
      "\n",
      " \n"
     ]
    },
    {
     "data": {
      "image/png": "[encoded data removed]",
      "text/plain": [
       "plot without title"
      ]
     },
     "metadata": {
      "image/png": {
       "height": 420,
       "width": 420
      }
     },
     "output_type": "display_data"
    }
   ],
   "source": [
    "cv.lasso <- cv.glmnet(wbcd_train_glmnet, wbcd_train$diagnosis, alpha = 1, family = \"binomial\", type.measure = \"class\")\n",
    "\n",
    "# Plot the result of cross-validation\n",
    "plot(cv.lasso)\n",
    "\n",
    "# Display the best value of lambda\n",
    "cv.lasso$lambda.min\n",
    "\n",
    "# Train the logistic model with the lasso regularization\n",
    "model_lasso <- glmnet(wbcd_train_glmnet, wbcd_train$diagnosis, alpha = 1, family = \"binomial\", lambda = cv.lasso$lambda.min)\n",
    "\n",
    "# Display the coefficients of the model for comparison with glm() and glmnet(..., lambda = 0)\n",
    "coef(model_lasso)\n",
    "\n",
    "# Predict probabilities using the test dataset\n",
    "wbcd_test_prob <- predict(model_lasso, wbcd_test_glmnet, type = \"response\")\n",
    "\n",
    "# Convert probabilities to class levels 1 or 0\n",
    "wbcd_test_pred <- ifelse(wbcd_test_prob > 0.30, 1, 0)\n",
    "\n",
    "# Generate the confusion matrix with the test labels and predictions\n",
    "CrossTable(wbcd_test$diagnosis, wbcd_test_pred, dnn = c(\"Actual\", \"Predictions\"), prop.chisq = FALSE, prop.r = FALSE, prop.c = FALSE, prop.t = FALSE)"
   ]
  },
  {
   "cell_type": "markdown",
   "id": "e6563648-3f20-4e46-9f24-991b0d2c5b15",
   "metadata": {},
   "source": [
    "**QUESTION 1**"
   ]
  },
  {
   "cell_type": "code",
   "execution_count": 27,
   "id": "38e85f94-7e79-434c-b825-e30fe4b66dfd",
   "metadata": {},
   "outputs": [
    {
     "data": {
      "text/html": [
       "0.0225956018511219"
      ],
      "text/latex": [
       "0.0225956018511219"
      ],
      "text/markdown": [
       "0.0225956018511219"
      ],
      "text/plain": [
       "[1] 0.0225956"
      ]
     },
     "metadata": {},
     "output_type": "display_data"
    },
    {
     "data": {
      "text/plain": [
       "32 x 1 sparse Matrix of class \"dgCMatrix\"\n",
       "                             s0\n",
       "(Intercept)       -1.899096e+01\n",
       "(Intercept)        .           \n",
       "radius_mean        9.890219e-02\n",
       "texture_mean       8.779293e-02\n",
       "perimeter_mean     1.425475e-02\n",
       "area_mean          9.391429e-04\n",
       "smoothness_mean    1.195452e+01\n",
       "compactness_mean   6.766671e-01\n",
       "concavity_mean     4.683310e+00\n",
       "points_mean        1.190230e+01\n",
       "symmetry_mean      1.321852e+00\n",
       "dimension_mean    -2.932191e+01\n",
       "radius_se          1.699945e+00\n",
       "texture_se        -6.106082e-02\n",
       "perimeter_se       1.824425e-01\n",
       "area_se            7.553028e-03\n",
       "smoothness_se      2.400390e+01\n",
       "compactness_se    -1.278985e+01\n",
       "concavity_se      -2.300770e+00\n",
       "points_se          2.337868e+01\n",
       "symmetry_se       -1.567837e+01\n",
       "dimension_se      -9.636318e+01\n",
       "radius_worst       9.831748e-02\n",
       "texture_worst      8.772976e-02\n",
       "perimeter_worst    1.312581e-02\n",
       "area_worst         7.394153e-04\n",
       "smoothness_worst   1.824793e+01\n",
       "compactness_worst  9.249432e-01\n",
       "concavity_worst    1.712387e+00\n",
       "points_worst       7.707772e+00\n",
       "symmetry_worst     5.517014e+00\n",
       "dimension_worst    6.000025e+00"
      ]
     },
     "metadata": {},
     "output_type": "display_data"
    },
    {
     "name": "stdout",
     "output_type": "stream",
     "text": [
      "\n",
      " \n",
      "   Cell Contents\n",
      "|-------------------------|\n",
      "|                       N |\n",
      "|-------------------------|\n",
      "\n",
      " \n",
      "Total Observations in Table:  100 \n",
      "\n",
      " \n",
      "             | Predictions \n",
      "      Actual |         0 |         1 | Row Total | \n",
      "-------------|-----------|-----------|-----------|\n",
      "           0 |        61 |         0 |        61 | \n",
      "-------------|-----------|-----------|-----------|\n",
      "           1 |         0 |        39 |        39 | \n",
      "-------------|-----------|-----------|-----------|\n",
      "Column Total |        61 |        39 |       100 | \n",
      "-------------|-----------|-----------|-----------|\n",
      "\n",
      " \n"
     ]
    },
    {
     "data": {
      "image/png": "[encoded data removed]",
      "text/plain": [
       "plot without title"
      ]
     },
     "metadata": {
      "image/png": {
       "height": 420,
       "width": 420
      }
     },
     "output_type": "display_data"
    }
   ],
   "source": [
    "cv.ridge <- cv.glmnet(wbcd_train_glmnet, wbcd_train$diagnosis, alpha = 0, family = \"binomial\", type.measure = \"class\", lambda = exp(seq(from = -10, to = -1, length.out = 101)))\n",
    "\n",
    "# Plot the result of cross-validation\n",
    "plot(cv.ridge)\n",
    "\n",
    "# Display the best value of lambda\n",
    "cv.ridge$lambda.min\n",
    "\n",
    "# Train the logistic model with the lasso regularization\n",
    "model_ridge <- glmnet(wbcd_train_glmnet, wbcd_train$diagnosis, alpha = 0, family = \"binomial\", lambda = cv.ridge$lambda.min)\n",
    "\n",
    "# Display the coefficients of the model for comparison with glm() and glmnet(..., lambda = 0)\n",
    "coef(model_ridge)\n",
    "\n",
    "# Predict probabilities using the test dataset\n",
    "wbcd_test_prob <- predict(model_ridge, wbcd_test_glmnet, type = \"response\")\n",
    "\n",
    "# Convert probabilities to class levels 1 or 0\n",
    "wbcd_test_pred <- ifelse(wbcd_test_prob > 0.4, 1, 0)\n",
    "\n",
    "# Generate the confusion matrix with the test labels and predictions\n",
    "CrossTable(wbcd_test$diagnosis, wbcd_test_pred, dnn = c(\"Actual\", \"Predictions\"), prop.chisq = FALSE, prop.r = FALSE, prop.c = FALSE, prop.t = FALSE)"
   ]
  },
  {
   "cell_type": "markdown",
   "id": "55bdbf37-aae9-4641-824f-291f0e26dcac",
   "metadata": {},
   "source": [
    "**Q 1A** \n",
    "The best lambda was found to be around 0.00489 for this model\n",
    "When the test data was run with this data, the accuracy was 98/100 = 98%. \n",
    "\n",
    "**Q 1B**\n",
    "Non-regularized gave 3 wrong predictions, and some huge error.\n",
    "Lasso regularization gave 2 wrong predictions, and found a low lambda.\n",
    "Ridge regularization gave 0 wrong predictions, and had a similar lambda to the lasso regularization. \n",
    "\n",
    "**Q 1C**\n",
    "For no regularization: it spans between 10^0 and 10^4, which is a huge difference.\n",
    "Lasso regularization: About 50% of factors are considered irrelevant, and the rest are between 10^-1 and 10^1. Pretty tight. Nice.\n",
    "For Ridge regularization: All factors are considered relevant, but the coefficients span between 10^-04 and 10^1. So many coefficients are essentially useless because of the coefficient. But still is quite nice and tight. "
   ]
  },
  {
   "cell_type": "markdown",
   "id": "e390bb52-0255-4846-91c4-b2742fec1783",
   "metadata": {},
   "source": [
    "**Q 2A**\n",
    "We would want to decrease it to from 0.5 to something lower. By doing that, more of the fringe cases will be predicted as positive. This leans errors towards more false positives instead of false negatives, which in the case of cancerous cells is what we want.\n",
    "\n",
    "**Q 2B**\n",
    "For the lasso, the cutoff is set to 0.3. This kept the accuracy the same (97%), but instead of being all false negatives, there are more false positives. \n",
    "For the Ridge, the cutoff is set to 0.4 This still resulted in 100% accuracy, but leaned the model towards false positives for future data which is what we want."
   ]
  },
  {
   "cell_type": "code",
   "execution_count": 31,
   "id": "0e0775ba-96b8-4903-ab98-7c893a47729b",
   "metadata": {},
   "outputs": [
    {
     "data": {
      "text/plain": [
       "32 x 1 sparse Matrix of class \"dgCMatrix\"\n",
       "                             s0\n",
       "(Intercept)       -4.359251e+01\n",
       "(Intercept)        .           \n",
       "radius_mean       -2.766511e+02\n",
       "texture_mean       3.245064e+00\n",
       "perimeter_mean     1.571031e+01\n",
       "area_mean          1.693545e+00\n",
       "smoothness_mean    2.749453e+03\n",
       "compactness_mean  -2.669920e+03\n",
       "concavity_mean     1.219823e+03\n",
       "points_mean        1.097879e+03\n",
       "symmetry_mean     -1.187786e+03\n",
       "dimension_mean     1.097166e+03\n",
       "radius_se          2.674124e+02\n",
       "texture_se        -2.067578e+01\n",
       "perimeter_se      -3.949912e+01\n",
       "area_se            3.317821e+00\n",
       "smoothness_se     -9.412580e+01\n",
       "compactness_se     4.676891e+03\n",
       "concavity_se      -3.184862e+03\n",
       "points_se          1.352386e+04\n",
       "symmetry_se       -5.146598e+03\n",
       "dimension_se      -4.604772e+04\n",
       "radius_worst       5.883076e+01\n",
       "texture_worst      4.408668e+00\n",
       "perimeter_worst    7.577855e-01\n",
       "area_worst        -3.601159e-01\n",
       "smoothness_worst  -8.530473e+02\n",
       "compactness_worst -2.746262e+02\n",
       "concavity_worst    2.670327e+02\n",
       "points_worst       2.228636e+02\n",
       "symmetry_worst     1.048421e+03\n",
       "dimension_worst    3.952420e+03"
      ]
     },
     "metadata": {},
     "output_type": "display_data"
    },
    {
     "name": "stdout",
     "output_type": "stream",
     "text": [
      "[1] \"For no regularization\"\n",
      "\n",
      " \n",
      "   Cell Contents\n",
      "|-------------------------|\n",
      "|                       N |\n",
      "|-------------------------|\n",
      "\n",
      " \n",
      "Total Observations in Table:  569 \n",
      "\n",
      " \n",
      "             | Predictions \n",
      "      Actual |         0 |         1 | Row Total | \n",
      "-------------|-----------|-----------|-----------|\n",
      "           0 |       357 |         0 |       357 | \n",
      "-------------|-----------|-----------|-----------|\n",
      "           1 |         0 |       212 |       212 | \n",
      "-------------|-----------|-----------|-----------|\n",
      "Column Total |       357 |       212 |       569 | \n",
      "-------------|-----------|-----------|-----------|\n",
      "\n",
      " \n",
      "[1] \"For Lasso\"\n",
      "\n",
      " \n",
      "   Cell Contents\n",
      "|-------------------------|\n",
      "|                       N |\n",
      "|-------------------------|\n",
      "\n",
      " \n",
      "Total Observations in Table:  569 \n",
      "\n",
      " \n",
      "             | Predictions \n",
      "      Actual |         0 |         1 | Row Total | \n",
      "-------------|-----------|-----------|-----------|\n",
      "           0 |       356 |         1 |       357 | \n",
      "-------------|-----------|-----------|-----------|\n",
      "           1 |         5 |       207 |       212 | \n",
      "-------------|-----------|-----------|-----------|\n",
      "Column Total |       361 |       208 |       569 | \n",
      "-------------|-----------|-----------|-----------|\n",
      "\n",
      " \n",
      "[1] \"For Ridge\"\n",
      "\n",
      " \n",
      "   Cell Contents\n",
      "|-------------------------|\n",
      "|                       N |\n",
      "|-------------------------|\n",
      "\n",
      " \n",
      "Total Observations in Table:  569 \n",
      "\n",
      " \n",
      "             | Predictions \n",
      "      Actual |         0 |         1 | Row Total | \n",
      "-------------|-----------|-----------|-----------|\n",
      "           0 |       355 |         2 |       357 | \n",
      "-------------|-----------|-----------|-----------|\n",
      "           1 |         6 |       206 |       212 | \n",
      "-------------|-----------|-----------|-----------|\n",
      "Column Total |       361 |       208 |       569 | \n",
      "-------------|-----------|-----------|-----------|\n",
      "\n",
      " \n"
     ]
    }
   ],
   "source": [
    "set.seed(150)\n",
    "# Converting to correct format\n",
    "wbcd_whole_glmnet <- model.matrix(diagnosis ~ ., data = wbcd)\n",
    "\n",
    "# Regular\n",
    "model_whole_no_reg <- glmnet(wbcd_whole_glmnet, wbcd$diagnosis, alpha = 1, family = \"binomial\", lambda = 0)\n",
    "coef(model_no_reg)\n",
    "# Lasso\n",
    "cv.whole_lasso <- cv.glmnet(wbcd_whole_glmnet, wbcd$diagnosis, alpha = 1, family = \"binomial\", type.measure = \"class\")\n",
    "print(lambda = cv.whole_lasso$lambda.min)\n",
    "model_whole_lasso <- glmnet(wbcd_whole_glmnet, wbcd$diagnosis, alpha = 1, family = \"binomial\", lambda = cv.whole_lasso$lambda.min)\n",
    "\n",
    "# Ridge\n",
    "cv.whole_ridge <- cv.glmnet(wbcd_whole_glmnet, wbcd$diagnosis, alpha = 0, family = \"binomial\", type.measure = \"class\", lambda = exp(seq(from = -10, to = -1, length.out = 101)))\n",
    "print(lambda = cv.whole_ridge$lambda.min)\n",
    "model_whole_ridge <- glmnet(wbcd_whole_glmnet, wbcd$diagnosis, alpha = 0, family = \"binomial\", lambda = cv.whole_ridge$lambda.min)\n",
    "\n",
    "# Making predictions for no regularization\n",
    "wbcd_test_prob_nr <- predict(model_whole_no_reg, wbcd_whole_glmnet, type = \"response\")\n",
    "wbcd_test_pred_nr <- ifelse(wbcd_test_prob_nr > 0.5, 1, 0)\n",
    "# for lasso\n",
    "wbcd_test_prob_l <- predict(model_whole_lasso, wbcd_whole_glmnet, type = \"response\")\n",
    "wbcd_test_pred_l <- ifelse(wbcd_test_prob_l > 0.5, 1, 0)\n",
    "# for ridge\n",
    "wbcd_test_prob_r <- predict(model_whole_ridge, wbcd_whole_glmnet, type = \"response\")\n",
    "wbcd_test_pred_r <- ifelse(wbcd_test_prob_r > 0.5, 1, 0)\n",
    "\n",
    "# Generating Crosstables\n",
    "print(\"For no regularization\")\n",
    "CrossTable(wbcd$diagnosis, wbcd_test_pred_nr, dnn = c(\"Actual\", \"Predictions\"), prop.chisq = FALSE, prop.r = FALSE, prop.c = FALSE, prop.t = FALSE)\n",
    "print(\"For Lasso\")\n",
    "CrossTable(wbcd$diagnosis, wbcd_test_pred_l, dnn = c(\"Actual\", \"Predictions\"), prop.chisq = FALSE, prop.r = FALSE, prop.c = FALSE, prop.t = FALSE)\n",
    "print(\"For Ridge\")\n",
    "CrossTable(wbcd$diagnosis, wbcd_test_pred_r, dnn = c(\"Actual\", \"Predictions\"), prop.chisq = FALSE, prop.r = FALSE, prop.c = FALSE, prop.t = FALSE)\n"
   ]
  },
  {
   "cell_type": "markdown",
   "id": "4145abea-3604-457f-8f38-402e44e28e91",
   "metadata": {},
   "source": [
    "**Q3**\n",
    "Using knn, the highest accuracy we got was 98%. With this modeling, both the lasso and Ridge normalizing resulted in a model with a higher accuracy than that. This model is a better predictor given the data we have. The model with no regularization oddly had 100% accuracy. I think the reason behind this is that each of those data points already exist, so when compared to the data, it is entirelya accurate. This can be avoided if we do the extra credit, but I dont have time this week, so I'm ending it here. "
   ]
  },
  {
   "cell_type": "code",
   "execution_count": null,
   "id": "59fb006b-7422-432e-a6e8-e607cb205b4f",
   "metadata": {},
   "outputs": [],
   "source": []
  }
 ],
 "metadata": {
  "kernelspec": {
   "display_name": "R",
   "language": "R",
   "name": "ir"
  },
  "language_info": {
   "codemirror_mode": "r",
   "file_extension": ".r",
   "mimetype": "text/x-r-source",
   "name": "R",
   "pygments_lexer": "r",
   "version": "4.2.2"
  }
 },
 "nbformat": 4,
 "nbformat_minor": 5
}
