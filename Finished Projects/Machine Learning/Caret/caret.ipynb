{
 "cells": [
  {
   "cell_type": "code",
   "execution_count": 1,
   "id": "f7eacf31-0ac6-48f8-b07e-96e75ea8053b",
   "metadata": {},
   "outputs": [
    {
     "data": {
      "text/plain": [
       "\n",
       "Bagging classification trees with 25 bootstrap replications \n",
       "\n",
       "Call: bagging.data.frame(formula = default ~ ., data = credit, nbagg = 25, \n",
       "    coob = TRUE)\n",
       "\n",
       "Out-of-bag estimate of misclassification error:  0.265 \n"
      ]
     },
     "metadata": {},
     "output_type": "display_data"
    }
   ],
   "source": [
    "# install.packages(\"ipred\")\n",
    "library(ipred)\n",
    "\n",
    "# Load the dataset\n",
    "credit <- read.csv(\"credit.csv\", stringsAsFactors = TRUE)\n",
    "\n",
    "# Set seed for reproducibility\n",
    "set.seed(2023)\n",
    "\n",
    "# Train the model using \"bootstrap aggregating\" (bagging) with 25 trees\n",
    "mybag <- bagging(default ~ ., data = credit, nbagg = 25, coob = TRUE)\n",
    "\n",
    "# Display basic model information\n",
    "mybag"
   ]
  },
  {
   "cell_type": "code",
   "execution_count": 2,
   "id": "19be6ddd-60d4-44d4-bd6f-9c2843cbcf02",
   "metadata": {},
   "outputs": [
    {
     "name": "stderr",
     "output_type": "stream",
     "text": [
      "Loading required package: ggplot2\n",
      "\n",
      "Loading required package: lattice\n",
      "\n"
     ]
    },
    {
     "data": {
      "text/plain": [
       "Confusion Matrix and Statistics\n",
       "\n",
       "          Reference\n",
       "Prediction  no yes\n",
       "       no  700   3\n",
       "       yes   0 297\n",
       "                                          \n",
       "               Accuracy : 0.997           \n",
       "                 95% CI : (0.9913, 0.9994)\n",
       "    No Information Rate : 0.7             \n",
       "    P-Value [Acc > NIR] : <2e-16          \n",
       "                                          \n",
       "                  Kappa : 0.9928          \n",
       "                                          \n",
       " Mcnemar's Test P-Value : 0.2482          \n",
       "                                          \n",
       "            Sensitivity : 0.9900          \n",
       "            Specificity : 1.0000          \n",
       "         Pos Pred Value : 1.0000          \n",
       "         Neg Pred Value : 0.9957          \n",
       "             Prevalence : 0.3000          \n",
       "         Detection Rate : 0.2970          \n",
       "   Detection Prevalence : 0.2970          \n",
       "      Balanced Accuracy : 0.9950          \n",
       "                                          \n",
       "       'Positive' Class : yes             \n",
       "                                          "
      ]
     },
     "metadata": {},
     "output_type": "display_data"
    }
   ],
   "source": [
    "# Generate resubstitution predictions\n",
    "credit_pred <- predict(mybag, credit)\n",
    "\n",
    "# Load \"caret\" for the confusion matrix below\n",
    "library(caret)\n",
    "\n",
    "# Generate the confusion matrix and other info\n",
    "confusionMatrix(data = credit_pred, reference = credit$default, positive = \"yes\")"
   ]
  },
  {
   "cell_type": "code",
   "execution_count": 3,
   "id": "7f5b13b8-2563-4f13-9cbc-8a4f6512c512",
   "metadata": {},
   "outputs": [
    {
     "data": {
      "text/plain": [
       "Bagged CART \n",
       "\n",
       "1000 samples\n",
       "  16 predictor\n",
       "   2 classes: 'no', 'yes' \n",
       "\n",
       "No pre-processing\n",
       "Resampling: Cross-Validated (10 fold) \n",
       "Summary of sample sizes: 900, 900, 900, 900, 900, 900, ... \n",
       "Resampling results:\n",
       "\n",
       "  Accuracy  Kappa    \n",
       "  0.738     0.3270854\n"
      ]
     },
     "metadata": {},
     "output_type": "display_data"
    }
   ],
   "source": [
    "# Load the package\n",
    "#library(caret)\n",
    "\n",
    "# Set seed for reproducibility\n",
    "set.seed(2023)\n",
    "\n",
    "# Set up the control object: 10-fold cross-validation\n",
    "ctrl <- trainControl(method = \"cv\", number = 10)\n",
    "\n",
    "# Train the model (\"accuracy\" is the default metric)\n",
    "m <- train(default ~ ., data = credit, method = \"treebag\", trControl = ctrl, metric = \"Kappa\")\n",
    "\n",
    "# Display basic model information\n",
    "m"
   ]
  },
  {
   "cell_type": "code",
   "execution_count": 4,
   "id": "01e9650d-0a5c-4f20-b1a6-1002655659b5",
   "metadata": {},
   "outputs": [
    {
     "data": {
      "text/plain": [
       "Confusion Matrix and Statistics\n",
       "\n",
       "          Reference\n",
       "Prediction  no yes\n",
       "       no  700   7\n",
       "       yes   0 293\n",
       "                                          \n",
       "               Accuracy : 0.993           \n",
       "                 95% CI : (0.9856, 0.9972)\n",
       "    No Information Rate : 0.7             \n",
       "    P-Value [Acc > NIR] : < 2e-16         \n",
       "                                          \n",
       "                  Kappa : 0.9832          \n",
       "                                          \n",
       " Mcnemar's Test P-Value : 0.02334         \n",
       "                                          \n",
       "            Sensitivity : 0.9767          \n",
       "            Specificity : 1.0000          \n",
       "         Pos Pred Value : 1.0000          \n",
       "         Neg Pred Value : 0.9901          \n",
       "             Prevalence : 0.3000          \n",
       "         Detection Rate : 0.2930          \n",
       "   Detection Prevalence : 0.2930          \n",
       "      Balanced Accuracy : 0.9883          \n",
       "                                          \n",
       "       'Positive' Class : yes             \n",
       "                                          "
      ]
     },
     "metadata": {},
     "output_type": "display_data"
    }
   ],
   "source": [
    "# Generate resubstitution predictions\n",
    "credit_pred <- predict(m, credit)\n",
    "\n",
    "# Generate the confusion matrix and other info\n",
    "confusionMatrix(data = credit_pred, reference = credit$default, positive = \"yes\")"
   ]
  },
  {
   "cell_type": "code",
   "execution_count": 8,
   "id": "09923aa0-97e3-42e4-b986-3f83af8d67ef",
   "metadata": {},
   "outputs": [],
   "source": [
    "# Adaboost won't work because it's not available for my version of R"
   ]
  },
  {
   "cell_type": "code",
   "execution_count": 9,
   "id": "ffb5d1d9-d46f-4e8a-a6f2-71d2f22600cf",
   "metadata": {},
   "outputs": [
    {
     "ename": "ERROR",
     "evalue": "Error: Required packages are missing: fastAdaboost\n",
     "output_type": "error",
     "traceback": [
      "Error: Required packages are missing: fastAdaboost\nTraceback:\n",
      "1. train(default ~ ., data = credit, method = \"adaboost\", trControl = ctrl, \n .     metric = \"Kappa\")",
      "2. train.formula(default ~ ., data = credit, method = \"adaboost\", \n .     trControl = ctrl, metric = \"Kappa\")",
      "3. train(x, y, weights = w, ...)",
      "4. train.default(x, y, weights = w, ...)",
      "5. checkInstall(models$library)",
      "6. stop(\"Required packages are missing: \", pkList, call. = FALSE)"
     ]
    }
   ],
   "source": [
    "# Load the package\n",
    "library(caret)\n",
    "\n",
    "# Set seed for reproducibility\n",
    "set.seed(2023)\n",
    "\n",
    "# Set up the control object: 10-fold cross-validation\n",
    "ctrl <- trainControl(method = \"cv\", number = 10)\n",
    "\n",
    "# Train the model (\"accuracy\" is the default metric)\n",
    "m <- train(default ~ ., data = credit, method = \"adaboost\", trControl = ctrl, metric = \"Kappa\")\n",
    "\n",
    "# Display basic model information\n",
    "m"
   ]
  },
  {
   "cell_type": "code",
   "execution_count": 11,
   "id": "f0064946-a4cf-4a69-a0b5-f4d458c20144",
   "metadata": {},
   "outputs": [
    {
     "data": {
      "text/plain": [
       "\n",
       "Call:\n",
       " randomForest(formula = default ~ ., data = credit) \n",
       "               Type of random forest: classification\n",
       "                     Number of trees: 500\n",
       "No. of variables tried at each split: 4\n",
       "\n",
       "        OOB estimate of  error rate: 23.2%\n",
       "Confusion matrix:\n",
       "     no yes class.error\n",
       "no  636  64  0.09142857\n",
       "yes 168 132  0.56000000"
      ]
     },
     "metadata": {},
     "output_type": "display_data"
    }
   ],
   "source": [
    "# install.packages(\"randomForest\")\n",
    "library(randomForest)\n",
    "\n",
    "# Load the dataset\n",
    "credit <- read.csv(\"credit.csv\", stringsAsFactors = TRUE)\n",
    "\n",
    "# Set seed for reproducibility\n",
    "set.seed(2023)\n",
    "\n",
    "# Train the model using \"random forest\" with 500 trees and sqrt(16) = 4 features in each split\n",
    "m_rf <- randomForest(default ~ ., data = credit)\n",
    "\n",
    "# Display basic model information\n",
    "m_rf"
   ]
  },
  {
   "cell_type": "code",
   "execution_count": 12,
   "id": "82cb3b8a-9b30-47ca-bb6e-d5ea8b208b87",
   "metadata": {},
   "outputs": [
    {
     "data": {
      "text/plain": [
       "Confusion Matrix and Statistics\n",
       "\n",
       "          Reference\n",
       "Prediction  no yes\n",
       "       no  700   0\n",
       "       yes   0 300\n",
       "                                     \n",
       "               Accuracy : 1          \n",
       "                 95% CI : (0.9963, 1)\n",
       "    No Information Rate : 0.7        \n",
       "    P-Value [Acc > NIR] : < 2.2e-16  \n",
       "                                     \n",
       "                  Kappa : 1          \n",
       "                                     \n",
       " Mcnemar's Test P-Value : NA         \n",
       "                                     \n",
       "            Sensitivity : 1.0        \n",
       "            Specificity : 1.0        \n",
       "         Pos Pred Value : 1.0        \n",
       "         Neg Pred Value : 1.0        \n",
       "             Prevalence : 0.3        \n",
       "         Detection Rate : 0.3        \n",
       "   Detection Prevalence : 0.3        \n",
       "      Balanced Accuracy : 1.0        \n",
       "                                     \n",
       "       'Positive' Class : yes        \n",
       "                                     "
      ]
     },
     "metadata": {},
     "output_type": "display_data"
    }
   ],
   "source": [
    "# Generate resubstitution predictions\n",
    "p_rf <- predict(m_rf, credit)\n",
    "\n",
    "# Load \"caret\" for the confusion matrix below\n",
    "library(caret)\n",
    "\n",
    "# Generate the confusion matrix and other info\n",
    "confusionMatrix(data = p_rf, reference = credit$default, positive = \"yes\")"
   ]
  },
  {
   "cell_type": "code",
   "execution_count": 13,
   "id": "e9af6ccf-3edc-4a1d-b97f-eeda3ca656f6",
   "metadata": {},
   "outputs": [
    {
     "data": {
      "text/plain": [
       "Random Forest \n",
       "\n",
       "1000 samples\n",
       "  16 predictor\n",
       "   2 classes: 'no', 'yes' \n",
       "\n",
       "No pre-processing\n",
       "Resampling: Cross-Validated (10 fold) \n",
       "Summary of sample sizes: 900, 900, 900, 900, 900, 900, ... \n",
       "Resampling results across tuning parameters:\n",
       "\n",
       "  mtry  Accuracy  Kappa    \n",
       "   2    0.720     0.1044429\n",
       "   4    0.745     0.2778118\n",
       "   6    0.755     0.3300787\n",
       "   8    0.753     0.3450902\n",
       "  10    0.753     0.3466416\n",
       "  12    0.752     0.3558284\n",
       "  14    0.753     0.3614863\n",
       "  16    0.753     0.3668012\n",
       "\n",
       "Kappa was used to select the optimal model using the largest value.\n",
       "The final value used for the model was mtry = 16."
      ]
     },
     "metadata": {},
     "output_type": "display_data"
    }
   ],
   "source": [
    "# Load the package\n",
    "library(caret)\n",
    "\n",
    "# Set seed for reproducibility\n",
    "set.seed(2023)\n",
    "\n",
    "# Set up a grid of values for \"mtry\"\n",
    "grid <- expand.grid(mtry = c(2, 4, 6, 8, 10, 12, 14, 16))\n",
    "\n",
    "# Set up the control object: 10-fold cross-validation\n",
    "ctrl <- trainControl(method = \"cv\", number = 10)\n",
    "\n",
    "# Train the model (\"accuracy\" is the default metric)\n",
    "m <- train(default ~ ., data = credit, method = \"rf\", trControl = ctrl, metric = \"Kappa\", tuneGrid = grid)\n",
    "\n",
    "# Display basic model information\n",
    "m"
   ]
  },
  {
   "cell_type": "code",
   "execution_count": 14,
   "id": "546ad71f-40bf-428c-81f8-71e1b6c8f1c4",
   "metadata": {},
   "outputs": [
    {
     "data": {
      "text/plain": [
       "Confusion Matrix and Statistics\n",
       "\n",
       "          Reference\n",
       "Prediction  no yes\n",
       "       no  700   0\n",
       "       yes   0 300\n",
       "                                     \n",
       "               Accuracy : 1          \n",
       "                 95% CI : (0.9963, 1)\n",
       "    No Information Rate : 0.7        \n",
       "    P-Value [Acc > NIR] : < 2.2e-16  \n",
       "                                     \n",
       "                  Kappa : 1          \n",
       "                                     \n",
       " Mcnemar's Test P-Value : NA         \n",
       "                                     \n",
       "            Sensitivity : 1.0        \n",
       "            Specificity : 1.0        \n",
       "         Pos Pred Value : 1.0        \n",
       "         Neg Pred Value : 1.0        \n",
       "             Prevalence : 0.3        \n",
       "         Detection Rate : 0.3        \n",
       "   Detection Prevalence : 0.3        \n",
       "      Balanced Accuracy : 1.0        \n",
       "                                     \n",
       "       'Positive' Class : yes        \n",
       "                                     "
      ]
     },
     "metadata": {},
     "output_type": "display_data"
    }
   ],
   "source": [
    "# Generate resubstitution predictions\n",
    "credit_pred <- predict(m, credit)\n",
    "\n",
    "# Generate the confusion matrix and other info\n",
    "confusionMatrix(data = credit_pred, reference = credit$default, positive = \"yes\")"
   ]
  },
  {
   "cell_type": "code",
   "execution_count": 15,
   "id": "d18e767b-19c6-40c3-8e12-642f4e03a137",
   "metadata": {},
   "outputs": [
    {
     "name": "stdout",
     "output_type": "stream",
     "text": [
      "'data.frame':\t1000 obs. of  17 variables:\n",
      " $ checking_balance    : Factor w/ 4 levels \"< 0 DM\",\"> 200 DM\",..: 1 3 4 1 1 4 4 3 4 3 ...\n",
      " $ months_loan_duration: int  6 48 12 42 24 36 24 36 12 30 ...\n",
      " $ credit_history      : Factor w/ 5 levels \"critical\",\"good\",..: 1 2 1 2 4 2 2 2 2 1 ...\n",
      " $ purpose             : Factor w/ 6 levels \"business\",\"car\",..: 5 5 4 5 2 4 5 2 5 2 ...\n",
      " $ amount              : int  1169 5951 2096 7882 4870 9055 2835 6948 3059 5234 ...\n",
      " $ savings_balance     : Factor w/ 5 levels \"< 100 DM\",\"> 1000 DM\",..: 5 1 1 1 1 5 4 1 2 1 ...\n",
      " $ employment_duration : Factor w/ 5 levels \"< 1 year\",\"> 7 years\",..: 2 3 4 4 3 3 2 3 4 5 ...\n",
      " $ percent_of_income   : int  4 2 2 2 3 2 3 2 2 4 ...\n",
      " $ years_at_residence  : int  4 2 3 4 4 4 4 2 4 2 ...\n",
      " $ age                 : int  67 22 49 45 53 35 53 35 61 28 ...\n",
      " $ other_credit        : Factor w/ 3 levels \"bank\",\"none\",..: 2 2 2 2 2 2 2 2 2 2 ...\n",
      " $ housing             : Factor w/ 3 levels \"other\",\"own\",..: 2 2 2 1 1 1 2 3 2 2 ...\n",
      " $ existing_loans_count: int  2 1 1 1 2 1 1 1 1 2 ...\n",
      " $ job                 : Factor w/ 4 levels \"management\",\"skilled\",..: 2 2 4 2 2 4 2 1 4 1 ...\n",
      " $ dependents          : int  1 1 2 2 2 2 1 1 1 1 ...\n",
      " $ phone               : Factor w/ 2 levels \"no\",\"yes\": 2 1 1 1 1 2 1 2 1 1 ...\n",
      " $ default             : Factor w/ 2 levels \"no\",\"yes\": 1 2 1 1 2 1 1 1 1 2 ...\n"
     ]
    }
   ],
   "source": [
    "str(credit)"
   ]
  },
  {
   "cell_type": "code",
   "execution_count": null,
   "id": "cedac1e1-2f58-4633-9461-8bd60ca4765c",
   "metadata": {},
   "outputs": [],
   "source": []
  }
 ],
 "metadata": {
  "kernelspec": {
   "display_name": "R",
   "language": "R",
   "name": "ir"
  },
  "language_info": {
   "codemirror_mode": "r",
   "file_extension": ".r",
   "mimetype": "text/x-r-source",
   "name": "R",
   "pygments_lexer": "r",
   "version": "4.2.3"
  }
 },
 "nbformat": 4,
 "nbformat_minor": 5
}
