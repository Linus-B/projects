{
 "cells": [
  {
   "cell_type": "code",
   "execution_count": 1,
   "id": "eabf911a-b200-4525-a142-f122ce5a774f",
   "metadata": {},
   "outputs": [],
   "source": [
    "wbcd <- read.csv(\"wisc_bc_data.csv\", stringsAsFactors = FALSE)"
   ]
  },
  {
   "cell_type": "code",
   "execution_count": 3,
   "id": "8b62feb7-b221-4451-bf68-839cac4d5001",
   "metadata": {},
   "outputs": [],
   "source": [
    "wbcd <- wbcd[-1]"
   ]
  },
  {
   "cell_type": "code",
   "execution_count": 4,
   "id": "59793082-f4d1-4db2-859c-1b09d27a059c",
   "metadata": {},
   "outputs": [
    {
     "data": {
      "text/html": [
       "<table class=\"dataframe\">\n",
       "<caption>A data.frame: 3 × 31</caption>\n",
       "<thead>\n",
       "\t<tr><th></th><th scope=col>diagnosis</th><th scope=col>radius_mean</th><th scope=col>texture_mean</th><th scope=col>perimeter_mean</th><th scope=col>area_mean</th><th scope=col>smoothness_mean</th><th scope=col>compactness_mean</th><th scope=col>concavity_mean</th><th scope=col>points_mean</th><th scope=col>symmetry_mean</th><th scope=col>⋯</th><th scope=col>radius_worst</th><th scope=col>texture_worst</th><th scope=col>perimeter_worst</th><th scope=col>area_worst</th><th scope=col>smoothness_worst</th><th scope=col>compactness_worst</th><th scope=col>concavity_worst</th><th scope=col>points_worst</th><th scope=col>symmetry_worst</th><th scope=col>dimension_worst</th></tr>\n",
       "\t<tr><th></th><th scope=col>&lt;chr&gt;</th><th scope=col>&lt;dbl&gt;</th><th scope=col>&lt;dbl&gt;</th><th scope=col>&lt;dbl&gt;</th><th scope=col>&lt;dbl&gt;</th><th scope=col>&lt;dbl&gt;</th><th scope=col>&lt;dbl&gt;</th><th scope=col>&lt;dbl&gt;</th><th scope=col>&lt;dbl&gt;</th><th scope=col>&lt;dbl&gt;</th><th scope=col>⋯</th><th scope=col>&lt;dbl&gt;</th><th scope=col>&lt;dbl&gt;</th><th scope=col>&lt;dbl&gt;</th><th scope=col>&lt;dbl&gt;</th><th scope=col>&lt;dbl&gt;</th><th scope=col>&lt;dbl&gt;</th><th scope=col>&lt;dbl&gt;</th><th scope=col>&lt;dbl&gt;</th><th scope=col>&lt;dbl&gt;</th><th scope=col>&lt;dbl&gt;</th></tr>\n",
       "</thead>\n",
       "<tbody>\n",
       "\t<tr><th scope=row>1</th><td>B</td><td>12.32</td><td>12.39</td><td>78.85</td><td>464.1</td><td>0.10280</td><td>0.06981</td><td>0.03987</td><td>0.03700</td><td>0.1959</td><td>⋯</td><td>13.50</td><td>15.64</td><td>86.97</td><td>549.1</td><td>0.1385</td><td>0.1266</td><td>0.1242</td><td>0.09391</td><td>0.2827</td><td>0.06771</td></tr>\n",
       "\t<tr><th scope=row>2</th><td>B</td><td>10.60</td><td>18.95</td><td>69.28</td><td>346.4</td><td>0.09688</td><td>0.11470</td><td>0.06387</td><td>0.02642</td><td>0.1922</td><td>⋯</td><td>11.88</td><td>22.94</td><td>78.28</td><td>424.8</td><td>0.1213</td><td>0.2515</td><td>0.1916</td><td>0.07926</td><td>0.2940</td><td>0.07587</td></tr>\n",
       "\t<tr><th scope=row>3</th><td>B</td><td>11.04</td><td>16.83</td><td>70.92</td><td>373.2</td><td>0.10770</td><td>0.07804</td><td>0.03046</td><td>0.02480</td><td>0.1714</td><td>⋯</td><td>12.41</td><td>26.44</td><td>79.93</td><td>471.4</td><td>0.1369</td><td>0.1482</td><td>0.1067</td><td>0.07431</td><td>0.2998</td><td>0.07881</td></tr>\n",
       "</tbody>\n",
       "</table>\n"
      ],
      "text/latex": [
       "A data.frame: 3 × 31\n",
       "\\begin{tabular}{r|lllllllllllllllllllll}\n",
       "  & diagnosis & radius\\_mean & texture\\_mean & perimeter\\_mean & area\\_mean & smoothness\\_mean & compactness\\_mean & concavity\\_mean & points\\_mean & symmetry\\_mean & ⋯ & radius\\_worst & texture\\_worst & perimeter\\_worst & area\\_worst & smoothness\\_worst & compactness\\_worst & concavity\\_worst & points\\_worst & symmetry\\_worst & dimension\\_worst\\\\\n",
       "  & <chr> & <dbl> & <dbl> & <dbl> & <dbl> & <dbl> & <dbl> & <dbl> & <dbl> & <dbl> & ⋯ & <dbl> & <dbl> & <dbl> & <dbl> & <dbl> & <dbl> & <dbl> & <dbl> & <dbl> & <dbl>\\\\\n",
       "\\hline\n",
       "\t1 & B & 12.32 & 12.39 & 78.85 & 464.1 & 0.10280 & 0.06981 & 0.03987 & 0.03700 & 0.1959 & ⋯ & 13.50 & 15.64 & 86.97 & 549.1 & 0.1385 & 0.1266 & 0.1242 & 0.09391 & 0.2827 & 0.06771\\\\\n",
       "\t2 & B & 10.60 & 18.95 & 69.28 & 346.4 & 0.09688 & 0.11470 & 0.06387 & 0.02642 & 0.1922 & ⋯ & 11.88 & 22.94 & 78.28 & 424.8 & 0.1213 & 0.2515 & 0.1916 & 0.07926 & 0.2940 & 0.07587\\\\\n",
       "\t3 & B & 11.04 & 16.83 & 70.92 & 373.2 & 0.10770 & 0.07804 & 0.03046 & 0.02480 & 0.1714 & ⋯ & 12.41 & 26.44 & 79.93 & 471.4 & 0.1369 & 0.1482 & 0.1067 & 0.07431 & 0.2998 & 0.07881\\\\\n",
       "\\end{tabular}\n"
      ],
      "text/markdown": [
       "\n",
       "A data.frame: 3 × 31\n",
       "\n",
       "| <!--/--> | diagnosis &lt;chr&gt; | radius_mean &lt;dbl&gt; | texture_mean &lt;dbl&gt; | perimeter_mean &lt;dbl&gt; | area_mean &lt;dbl&gt; | smoothness_mean &lt;dbl&gt; | compactness_mean &lt;dbl&gt; | concavity_mean &lt;dbl&gt; | points_mean &lt;dbl&gt; | symmetry_mean &lt;dbl&gt; | ⋯ ⋯ | radius_worst &lt;dbl&gt; | texture_worst &lt;dbl&gt; | perimeter_worst &lt;dbl&gt; | area_worst &lt;dbl&gt; | smoothness_worst &lt;dbl&gt; | compactness_worst &lt;dbl&gt; | concavity_worst &lt;dbl&gt; | points_worst &lt;dbl&gt; | symmetry_worst &lt;dbl&gt; | dimension_worst &lt;dbl&gt; |\n",
       "|---|---|---|---|---|---|---|---|---|---|---|---|---|---|---|---|---|---|---|---|---|---|\n",
       "| 1 | B | 12.32 | 12.39 | 78.85 | 464.1 | 0.10280 | 0.06981 | 0.03987 | 0.03700 | 0.1959 | ⋯ | 13.50 | 15.64 | 86.97 | 549.1 | 0.1385 | 0.1266 | 0.1242 | 0.09391 | 0.2827 | 0.06771 |\n",
       "| 2 | B | 10.60 | 18.95 | 69.28 | 346.4 | 0.09688 | 0.11470 | 0.06387 | 0.02642 | 0.1922 | ⋯ | 11.88 | 22.94 | 78.28 | 424.8 | 0.1213 | 0.2515 | 0.1916 | 0.07926 | 0.2940 | 0.07587 |\n",
       "| 3 | B | 11.04 | 16.83 | 70.92 | 373.2 | 0.10770 | 0.07804 | 0.03046 | 0.02480 | 0.1714 | ⋯ | 12.41 | 26.44 | 79.93 | 471.4 | 0.1369 | 0.1482 | 0.1067 | 0.07431 | 0.2998 | 0.07881 |\n",
       "\n"
      ],
      "text/plain": [
       "  diagnosis radius_mean texture_mean perimeter_mean area_mean smoothness_mean\n",
       "1 B         12.32       12.39        78.85          464.1     0.10280        \n",
       "2 B         10.60       18.95        69.28          346.4     0.09688        \n",
       "3 B         11.04       16.83        70.92          373.2     0.10770        \n",
       "  compactness_mean concavity_mean points_mean symmetry_mean ⋯ radius_worst\n",
       "1 0.06981          0.03987        0.03700     0.1959        ⋯ 13.50       \n",
       "2 0.11470          0.06387        0.02642     0.1922        ⋯ 11.88       \n",
       "3 0.07804          0.03046        0.02480     0.1714        ⋯ 12.41       \n",
       "  texture_worst perimeter_worst area_worst smoothness_worst compactness_worst\n",
       "1 15.64         86.97           549.1      0.1385           0.1266           \n",
       "2 22.94         78.28           424.8      0.1213           0.2515           \n",
       "3 26.44         79.93           471.4      0.1369           0.1482           \n",
       "  concavity_worst points_worst symmetry_worst dimension_worst\n",
       "1 0.1242          0.09391      0.2827         0.06771        \n",
       "2 0.1916          0.07926      0.2940         0.07587        \n",
       "3 0.1067          0.07431      0.2998         0.07881        "
      ]
     },
     "metadata": {},
     "output_type": "display_data"
    }
   ],
   "source": [
    "head(wbcd, 3)"
   ]
  },
  {
   "cell_type": "code",
   "execution_count": 5,
   "id": "da80bc47-0748-448f-92d0-b746987f4e76",
   "metadata": {},
   "outputs": [
    {
     "data": {
      "text/plain": [
       "\n",
       "  B   M \n",
       "357 212 "
      ]
     },
     "metadata": {},
     "output_type": "display_data"
    },
    {
     "data": {
      "text/plain": [
       "\n",
       "   B    M \n",
       "62.7 37.3 "
      ]
     },
     "metadata": {},
     "output_type": "display_data"
    },
    {
     "data": {
      "text/plain": [
       "\n",
       "   B    M \n",
       "62.7 37.3 "
      ]
     },
     "metadata": {},
     "output_type": "display_data"
    }
   ],
   "source": [
    "table(wbcd$diagnosis)\n",
    "round(proportions(table(wbcd$diagnosis)) * 100, digits = 1)\n",
    "\n",
    "# Older version of 'proportions' is 'prop.table'\n",
    "round(prop.table(table(wbcd$diagnosis)) * 100, digits = 1)"
   ]
  },
  {
   "cell_type": "code",
   "execution_count": 6,
   "id": "1a6dcbb7-10f9-4e59-bf53-c0c7b6e6a2b6",
   "metadata": {},
   "outputs": [],
   "source": [
    "wbcd$diagnosis <- factor(wbcd$diagnosis, levels = c(\"B\", \"M\"), labels = c(\"Benign\", \"Malignant\"))"
   ]
  },
  {
   "cell_type": "code",
   "execution_count": 7,
   "id": "037f17c2-7535-48bd-b0dc-b94f757b1296",
   "metadata": {},
   "outputs": [
    {
     "data": {
      "text/html": [
       "<table class=\"dataframe\">\n",
       "<caption>A data.frame: 3 × 31</caption>\n",
       "<thead>\n",
       "\t<tr><th></th><th scope=col>diagnosis</th><th scope=col>radius_mean</th><th scope=col>texture_mean</th><th scope=col>perimeter_mean</th><th scope=col>area_mean</th><th scope=col>smoothness_mean</th><th scope=col>compactness_mean</th><th scope=col>concavity_mean</th><th scope=col>points_mean</th><th scope=col>symmetry_mean</th><th scope=col>⋯</th><th scope=col>radius_worst</th><th scope=col>texture_worst</th><th scope=col>perimeter_worst</th><th scope=col>area_worst</th><th scope=col>smoothness_worst</th><th scope=col>compactness_worst</th><th scope=col>concavity_worst</th><th scope=col>points_worst</th><th scope=col>symmetry_worst</th><th scope=col>dimension_worst</th></tr>\n",
       "\t<tr><th></th><th scope=col>&lt;fct&gt;</th><th scope=col>&lt;dbl&gt;</th><th scope=col>&lt;dbl&gt;</th><th scope=col>&lt;dbl&gt;</th><th scope=col>&lt;dbl&gt;</th><th scope=col>&lt;dbl&gt;</th><th scope=col>&lt;dbl&gt;</th><th scope=col>&lt;dbl&gt;</th><th scope=col>&lt;dbl&gt;</th><th scope=col>&lt;dbl&gt;</th><th scope=col>⋯</th><th scope=col>&lt;dbl&gt;</th><th scope=col>&lt;dbl&gt;</th><th scope=col>&lt;dbl&gt;</th><th scope=col>&lt;dbl&gt;</th><th scope=col>&lt;dbl&gt;</th><th scope=col>&lt;dbl&gt;</th><th scope=col>&lt;dbl&gt;</th><th scope=col>&lt;dbl&gt;</th><th scope=col>&lt;dbl&gt;</th><th scope=col>&lt;dbl&gt;</th></tr>\n",
       "</thead>\n",
       "<tbody>\n",
       "\t<tr><th scope=row>1</th><td>Benign</td><td>12.32</td><td>12.39</td><td>78.85</td><td>464.1</td><td>0.10280</td><td>0.06981</td><td>0.03987</td><td>0.03700</td><td>0.1959</td><td>⋯</td><td>13.50</td><td>15.64</td><td>86.97</td><td>549.1</td><td>0.1385</td><td>0.1266</td><td>0.1242</td><td>0.09391</td><td>0.2827</td><td>0.06771</td></tr>\n",
       "\t<tr><th scope=row>2</th><td>Benign</td><td>10.60</td><td>18.95</td><td>69.28</td><td>346.4</td><td>0.09688</td><td>0.11470</td><td>0.06387</td><td>0.02642</td><td>0.1922</td><td>⋯</td><td>11.88</td><td>22.94</td><td>78.28</td><td>424.8</td><td>0.1213</td><td>0.2515</td><td>0.1916</td><td>0.07926</td><td>0.2940</td><td>0.07587</td></tr>\n",
       "\t<tr><th scope=row>3</th><td>Benign</td><td>11.04</td><td>16.83</td><td>70.92</td><td>373.2</td><td>0.10770</td><td>0.07804</td><td>0.03046</td><td>0.02480</td><td>0.1714</td><td>⋯</td><td>12.41</td><td>26.44</td><td>79.93</td><td>471.4</td><td>0.1369</td><td>0.1482</td><td>0.1067</td><td>0.07431</td><td>0.2998</td><td>0.07881</td></tr>\n",
       "</tbody>\n",
       "</table>\n"
      ],
      "text/latex": [
       "A data.frame: 3 × 31\n",
       "\\begin{tabular}{r|lllllllllllllllllllll}\n",
       "  & diagnosis & radius\\_mean & texture\\_mean & perimeter\\_mean & area\\_mean & smoothness\\_mean & compactness\\_mean & concavity\\_mean & points\\_mean & symmetry\\_mean & ⋯ & radius\\_worst & texture\\_worst & perimeter\\_worst & area\\_worst & smoothness\\_worst & compactness\\_worst & concavity\\_worst & points\\_worst & symmetry\\_worst & dimension\\_worst\\\\\n",
       "  & <fct> & <dbl> & <dbl> & <dbl> & <dbl> & <dbl> & <dbl> & <dbl> & <dbl> & <dbl> & ⋯ & <dbl> & <dbl> & <dbl> & <dbl> & <dbl> & <dbl> & <dbl> & <dbl> & <dbl> & <dbl>\\\\\n",
       "\\hline\n",
       "\t1 & Benign & 12.32 & 12.39 & 78.85 & 464.1 & 0.10280 & 0.06981 & 0.03987 & 0.03700 & 0.1959 & ⋯ & 13.50 & 15.64 & 86.97 & 549.1 & 0.1385 & 0.1266 & 0.1242 & 0.09391 & 0.2827 & 0.06771\\\\\n",
       "\t2 & Benign & 10.60 & 18.95 & 69.28 & 346.4 & 0.09688 & 0.11470 & 0.06387 & 0.02642 & 0.1922 & ⋯ & 11.88 & 22.94 & 78.28 & 424.8 & 0.1213 & 0.2515 & 0.1916 & 0.07926 & 0.2940 & 0.07587\\\\\n",
       "\t3 & Benign & 11.04 & 16.83 & 70.92 & 373.2 & 0.10770 & 0.07804 & 0.03046 & 0.02480 & 0.1714 & ⋯ & 12.41 & 26.44 & 79.93 & 471.4 & 0.1369 & 0.1482 & 0.1067 & 0.07431 & 0.2998 & 0.07881\\\\\n",
       "\\end{tabular}\n"
      ],
      "text/markdown": [
       "\n",
       "A data.frame: 3 × 31\n",
       "\n",
       "| <!--/--> | diagnosis &lt;fct&gt; | radius_mean &lt;dbl&gt; | texture_mean &lt;dbl&gt; | perimeter_mean &lt;dbl&gt; | area_mean &lt;dbl&gt; | smoothness_mean &lt;dbl&gt; | compactness_mean &lt;dbl&gt; | concavity_mean &lt;dbl&gt; | points_mean &lt;dbl&gt; | symmetry_mean &lt;dbl&gt; | ⋯ ⋯ | radius_worst &lt;dbl&gt; | texture_worst &lt;dbl&gt; | perimeter_worst &lt;dbl&gt; | area_worst &lt;dbl&gt; | smoothness_worst &lt;dbl&gt; | compactness_worst &lt;dbl&gt; | concavity_worst &lt;dbl&gt; | points_worst &lt;dbl&gt; | symmetry_worst &lt;dbl&gt; | dimension_worst &lt;dbl&gt; |\n",
       "|---|---|---|---|---|---|---|---|---|---|---|---|---|---|---|---|---|---|---|---|---|---|\n",
       "| 1 | Benign | 12.32 | 12.39 | 78.85 | 464.1 | 0.10280 | 0.06981 | 0.03987 | 0.03700 | 0.1959 | ⋯ | 13.50 | 15.64 | 86.97 | 549.1 | 0.1385 | 0.1266 | 0.1242 | 0.09391 | 0.2827 | 0.06771 |\n",
       "| 2 | Benign | 10.60 | 18.95 | 69.28 | 346.4 | 0.09688 | 0.11470 | 0.06387 | 0.02642 | 0.1922 | ⋯ | 11.88 | 22.94 | 78.28 | 424.8 | 0.1213 | 0.2515 | 0.1916 | 0.07926 | 0.2940 | 0.07587 |\n",
       "| 3 | Benign | 11.04 | 16.83 | 70.92 | 373.2 | 0.10770 | 0.07804 | 0.03046 | 0.02480 | 0.1714 | ⋯ | 12.41 | 26.44 | 79.93 | 471.4 | 0.1369 | 0.1482 | 0.1067 | 0.07431 | 0.2998 | 0.07881 |\n",
       "\n"
      ],
      "text/plain": [
       "  diagnosis radius_mean texture_mean perimeter_mean area_mean smoothness_mean\n",
       "1 Benign    12.32       12.39        78.85          464.1     0.10280        \n",
       "2 Benign    10.60       18.95        69.28          346.4     0.09688        \n",
       "3 Benign    11.04       16.83        70.92          373.2     0.10770        \n",
       "  compactness_mean concavity_mean points_mean symmetry_mean ⋯ radius_worst\n",
       "1 0.06981          0.03987        0.03700     0.1959        ⋯ 13.50       \n",
       "2 0.11470          0.06387        0.02642     0.1922        ⋯ 11.88       \n",
       "3 0.07804          0.03046        0.02480     0.1714        ⋯ 12.41       \n",
       "  texture_worst perimeter_worst area_worst smoothness_worst compactness_worst\n",
       "1 15.64         86.97           549.1      0.1385           0.1266           \n",
       "2 22.94         78.28           424.8      0.1213           0.2515           \n",
       "3 26.44         79.93           471.4      0.1369           0.1482           \n",
       "  concavity_worst points_worst symmetry_worst dimension_worst\n",
       "1 0.1242          0.09391      0.2827         0.06771        \n",
       "2 0.1916          0.07926      0.2940         0.07587        \n",
       "3 0.1067          0.07431      0.2998         0.07881        "
      ]
     },
     "metadata": {},
     "output_type": "display_data"
    }
   ],
   "source": [
    "head(wbcd, 3)"
   ]
  },
  {
   "cell_type": "code",
   "execution_count": 8,
   "id": "07534b65-c58a-40e0-bb14-311a187fccee",
   "metadata": {},
   "outputs": [],
   "source": [
    "library(psych)"
   ]
  },
  {
   "cell_type": "code",
   "execution_count": 11,
   "id": "e9e49e3a-b987-407b-9366-8c52684db853",
   "metadata": {},
   "outputs": [],
   "source": [
    "normalize <- function(x) {\n",
    "        return ((x - min(x))/(max(x) - min(x)))\n",
    "}"
   ]
  },
  {
   "cell_type": "code",
   "execution_count": 13,
   "id": "fcbf1c02-8f63-4dde-8d65-effa5492d7fa",
   "metadata": {},
   "outputs": [
    {
     "data": {
      "text/html": [
       "<style>\n",
       ".list-inline {list-style: none; margin:0; padding: 0}\n",
       ".list-inline>li {display: inline-block}\n",
       ".list-inline>li:not(:last-child)::after {content: \"\\00b7\"; padding: 0 .5ex}\n",
       "</style>\n",
       "<ol class=list-inline><li>0</li><li>0.25</li><li>0.5</li><li>0.75</li><li>1</li></ol>\n"
      ],
      "text/latex": [
       "\\begin{enumerate*}\n",
       "\\item 0\n",
       "\\item 0.25\n",
       "\\item 0.5\n",
       "\\item 0.75\n",
       "\\item 1\n",
       "\\end{enumerate*}\n"
      ],
      "text/markdown": [
       "1. 0\n",
       "2. 0.25\n",
       "3. 0.5\n",
       "4. 0.75\n",
       "5. 1\n",
       "\n",
       "\n"
      ],
      "text/plain": [
       "[1] 0.00 0.25 0.50 0.75 1.00"
      ]
     },
     "metadata": {},
     "output_type": "display_data"
    },
    {
     "data": {
      "text/html": [
       "<style>\n",
       ".list-inline {list-style: none; margin:0; padding: 0}\n",
       ".list-inline>li {display: inline-block}\n",
       ".list-inline>li:not(:last-child)::after {content: \"\\00b7\"; padding: 0 .5ex}\n",
       "</style>\n",
       "<ol class=list-inline><li>0</li><li>0.25</li><li>0.5</li><li>0.75</li><li>1</li></ol>\n"
      ],
      "text/latex": [
       "\\begin{enumerate*}\n",
       "\\item 0\n",
       "\\item 0.25\n",
       "\\item 0.5\n",
       "\\item 0.75\n",
       "\\item 1\n",
       "\\end{enumerate*}\n"
      ],
      "text/markdown": [
       "1. 0\n",
       "2. 0.25\n",
       "3. 0.5\n",
       "4. 0.75\n",
       "5. 1\n",
       "\n",
       "\n"
      ],
      "text/plain": [
       "[1] 0.00 0.25 0.50 0.75 1.00"
      ]
     },
     "metadata": {},
     "output_type": "display_data"
    }
   ],
   "source": [
    "normalize(c(1, 2, 3, 4, 5))\n",
    "normalize(c(10, 20, 30, 40, 50))"
   ]
  },
  {
   "cell_type": "code",
   "execution_count": 14,
   "id": "cd746b61-ada3-42e4-9cef-fb55d905afcd",
   "metadata": {},
   "outputs": [],
   "source": [
    "wbcd_n <- as.data.frame(lapply(wbcd[2:31], normalize))"
   ]
  },
  {
   "cell_type": "code",
   "execution_count": 15,
   "id": "37b167a3-2ad7-417c-a91e-5ce52a2de6ff",
   "metadata": {},
   "outputs": [
    {
     "data": {
      "text/plain": [
       "  texture_mean    perimeter_mean     area_mean      smoothness_mean \n",
       " Min.   :0.0000   Min.   :0.0000   Min.   :0.0000   Min.   :0.0000  \n",
       " 1st Qu.:0.2185   1st Qu.:0.2168   1st Qu.:0.1174   1st Qu.:0.3046  \n",
       " Median :0.3088   Median :0.2933   Median :0.1729   Median :0.3904  \n",
       " Mean   :0.3240   Mean   :0.3329   Mean   :0.2169   Mean   :0.3948  \n",
       " 3rd Qu.:0.4089   3rd Qu.:0.4168   3rd Qu.:0.2711   3rd Qu.:0.4755  \n",
       " Max.   :1.0000   Max.   :1.0000   Max.   :1.0000   Max.   :1.0000  "
      ]
     },
     "metadata": {},
     "output_type": "display_data"
    }
   ],
   "source": [
    "summary(wbcd_n[2:5])"
   ]
  },
  {
   "cell_type": "code",
   "execution_count": 16,
   "id": "7728242e-3ef5-4d56-8471-911ed28dd5ab",
   "metadata": {},
   "outputs": [
    {
     "data": {
      "text/html": [
       "<table class=\"dataframe\">\n",
       "<caption>A data.frame: 10 × 30</caption>\n",
       "<thead>\n",
       "\t<tr><th></th><th scope=col>radius_mean</th><th scope=col>texture_mean</th><th scope=col>perimeter_mean</th><th scope=col>area_mean</th><th scope=col>smoothness_mean</th><th scope=col>compactness_mean</th><th scope=col>concavity_mean</th><th scope=col>points_mean</th><th scope=col>symmetry_mean</th><th scope=col>dimension_mean</th><th scope=col>⋯</th><th scope=col>radius_worst</th><th scope=col>texture_worst</th><th scope=col>perimeter_worst</th><th scope=col>area_worst</th><th scope=col>smoothness_worst</th><th scope=col>compactness_worst</th><th scope=col>concavity_worst</th><th scope=col>points_worst</th><th scope=col>symmetry_worst</th><th scope=col>dimension_worst</th></tr>\n",
       "\t<tr><th></th><th scope=col>&lt;dbl&gt;</th><th scope=col>&lt;dbl&gt;</th><th scope=col>&lt;dbl&gt;</th><th scope=col>&lt;dbl&gt;</th><th scope=col>&lt;dbl&gt;</th><th scope=col>&lt;dbl&gt;</th><th scope=col>&lt;dbl&gt;</th><th scope=col>&lt;dbl&gt;</th><th scope=col>&lt;dbl&gt;</th><th scope=col>&lt;dbl&gt;</th><th scope=col>⋯</th><th scope=col>&lt;dbl&gt;</th><th scope=col>&lt;dbl&gt;</th><th scope=col>&lt;dbl&gt;</th><th scope=col>&lt;dbl&gt;</th><th scope=col>&lt;dbl&gt;</th><th scope=col>&lt;dbl&gt;</th><th scope=col>&lt;dbl&gt;</th><th scope=col>&lt;dbl&gt;</th><th scope=col>&lt;dbl&gt;</th><th scope=col>&lt;dbl&gt;</th></tr>\n",
       "</thead>\n",
       "<tbody>\n",
       "\t<tr><th scope=row>1</th><td>0.2526859</td><td>0.0906324</td><td>0.2422777</td><td>0.13599152</td><td>0.4529205</td><td>0.1546838</td><td>0.09341612</td><td>0.18389662</td><td>0.4540404</td><td>0.2019798</td><td>⋯</td><td>0.1981501</td><td>0.09648188</td><td>0.1820808</td><td>0.08943669</td><td>0.4446279</td><td>0.09635106</td><td>0.09920128</td><td>0.3227148</td><td>0.2487680</td><td>0.08310376</td></tr>\n",
       "\t<tr><th scope=row>2</th><td>0.1712812</td><td>0.3124789</td><td>0.1761454</td><td>0.08606575</td><td>0.3994764</td><td>0.2923747</td><td>0.14964855</td><td>0.13131213</td><td>0.4353535</td><td>0.3148694</td><td>⋯</td><td>0.1405194</td><td>0.29104478</td><td>0.1388017</td><td>0.05888714</td><td>0.3310440</td><td>0.21752966</td><td>0.15303514</td><td>0.2723711</td><td>0.2710428</td><td>0.13662600</td></tr>\n",
       "\t<tr><th scope=row>3</th><td>0.1921056</td><td>0.2407846</td><td>0.1874784</td><td>0.09743372</td><td>0.4971563</td><td>0.1799276</td><td>0.07136832</td><td>0.12326044</td><td>0.3303030</td><td>0.2830666</td><td>⋯</td><td>0.1593739</td><td>0.38432836</td><td>0.1470193</td><td>0.07034015</td><td>0.4340619</td><td>0.11730749</td><td>0.08522364</td><td>0.2553608</td><td>0.2824759</td><td>0.15590975</td></tr>\n",
       "\t<tr><th scope=row>4</th><td>0.2034644</td><td>0.1244505</td><td>0.2018520</td><td>0.10235419</td><td>0.5756974</td><td>0.2890007</td><td>0.10859888</td><td>0.23836978</td><td>0.3590909</td><td>0.2266217</td><td>⋯</td><td>0.1419424</td><td>0.09994670</td><td>0.1300862</td><td>0.06114825</td><td>0.4327412</td><td>0.15029446</td><td>0.06924121</td><td>0.2959107</td><td>0.1058545</td><td>0.08395645</td></tr>\n",
       "\t<tr><th scope=row>5</th><td>0.3885182</td><td>0.1183632</td><td>0.3721927</td><td>0.24106045</td><td>0.2437483</td><td>0.1532421</td><td>0.07949859</td><td>0.13205765</td><td>0.3338384</td><td>0.1154170</td><td>⋯</td><td>0.2942014</td><td>0.09888060</td><td>0.2693859</td><td>0.15579532</td><td>0.2735918</td><td>0.14204771</td><td>0.10878594</td><td>0.2810309</td><td>0.1817465</td><td>0.08277581</td></tr>\n",
       "\t<tr><th scope=row>6</th><td>0.2171896</td><td>0.3155225</td><td>0.2101444</td><td>0.11291622</td><td>0.2963799</td><td>0.1774124</td><td>0.12851453</td><td>0.07097416</td><td>0.4904040</td><td>0.2676917</td><td>⋯</td><td>0.1828531</td><td>0.39872068</td><td>0.1793914</td><td>0.08240759</td><td>0.3548174</td><td>0.16145181</td><td>0.20447284</td><td>0.2290034</td><td>0.2897694</td><td>0.18234291</td></tr>\n",
       "\t<tr><th scope=row>7</th><td>0.2143499</td><td>0.4808928</td><td>0.2123557</td><td>0.11028632</td><td>0.3609280</td><td>0.2537268</td><td>0.26054358</td><td>0.20402584</td><td>0.1656566</td><td>0.3315080</td><td>⋯</td><td>0.1618641</td><td>0.67004264</td><td>0.1587230</td><td>0.07102831</td><td>0.3871756</td><td>0.21772371</td><td>0.28993610</td><td>0.3317182</td><td>0.1078257</td><td>0.21172767</td></tr>\n",
       "\t<tr><th scope=row>8</th><td>0.3232051</td><td>0.4748055</td><td>0.3301085</td><td>0.19270414</td><td>0.7192381</td><td>0.4828538</td><td>0.36504217</td><td>0.45606362</td><td>0.6015152</td><td>0.5107414</td><td>⋯</td><td>0.4009249</td><td>0.79504264</td><td>0.3889138</td><td>0.23785883</td><td>1.0000000</td><td>0.47890289</td><td>0.37108626</td><td>0.6917526</td><td>0.5651488</td><td>0.35130526</td></tr>\n",
       "\t<tr><th scope=row>9</th><td>0.1660751</td><td>0.3239770</td><td>0.1632230</td><td>0.08169671</td><td>0.4266498</td><td>0.2036685</td><td>0.07017338</td><td>0.05969185</td><td>0.5843434</td><td>0.3127633</td><td>⋯</td><td>0.1284240</td><td>0.30090618</td><td>0.1185816</td><td>0.05348014</td><td>0.3350063</td><td>0.11769557</td><td>0.06379393</td><td>0.1100687</td><td>0.2485709</td><td>0.13433032</td></tr>\n",
       "\t<tr><th scope=row>10</th><td>0.1930522</td><td>0.1775448</td><td>0.1914173</td><td>0.09773065</td><td>0.4574343</td><td>0.2195878</td><td>0.12645267</td><td>0.16605368</td><td>0.3616162</td><td>0.4024853</td><td>⋯</td><td>0.1419424</td><td>0.21002132</td><td>0.1461726</td><td>0.06262289</td><td>0.4664201</td><td>0.18793841</td><td>0.18362620</td><td>0.3694158</td><td>0.3422038</td><td>0.23455333</td></tr>\n",
       "</tbody>\n",
       "</table>\n"
      ],
      "text/latex": [
       "A data.frame: 10 × 30\n",
       "\\begin{tabular}{r|lllllllllllllllllllll}\n",
       "  & radius\\_mean & texture\\_mean & perimeter\\_mean & area\\_mean & smoothness\\_mean & compactness\\_mean & concavity\\_mean & points\\_mean & symmetry\\_mean & dimension\\_mean & ⋯ & radius\\_worst & texture\\_worst & perimeter\\_worst & area\\_worst & smoothness\\_worst & compactness\\_worst & concavity\\_worst & points\\_worst & symmetry\\_worst & dimension\\_worst\\\\\n",
       "  & <dbl> & <dbl> & <dbl> & <dbl> & <dbl> & <dbl> & <dbl> & <dbl> & <dbl> & <dbl> & ⋯ & <dbl> & <dbl> & <dbl> & <dbl> & <dbl> & <dbl> & <dbl> & <dbl> & <dbl> & <dbl>\\\\\n",
       "\\hline\n",
       "\t1 & 0.2526859 & 0.0906324 & 0.2422777 & 0.13599152 & 0.4529205 & 0.1546838 & 0.09341612 & 0.18389662 & 0.4540404 & 0.2019798 & ⋯ & 0.1981501 & 0.09648188 & 0.1820808 & 0.08943669 & 0.4446279 & 0.09635106 & 0.09920128 & 0.3227148 & 0.2487680 & 0.08310376\\\\\n",
       "\t2 & 0.1712812 & 0.3124789 & 0.1761454 & 0.08606575 & 0.3994764 & 0.2923747 & 0.14964855 & 0.13131213 & 0.4353535 & 0.3148694 & ⋯ & 0.1405194 & 0.29104478 & 0.1388017 & 0.05888714 & 0.3310440 & 0.21752966 & 0.15303514 & 0.2723711 & 0.2710428 & 0.13662600\\\\\n",
       "\t3 & 0.1921056 & 0.2407846 & 0.1874784 & 0.09743372 & 0.4971563 & 0.1799276 & 0.07136832 & 0.12326044 & 0.3303030 & 0.2830666 & ⋯ & 0.1593739 & 0.38432836 & 0.1470193 & 0.07034015 & 0.4340619 & 0.11730749 & 0.08522364 & 0.2553608 & 0.2824759 & 0.15590975\\\\\n",
       "\t4 & 0.2034644 & 0.1244505 & 0.2018520 & 0.10235419 & 0.5756974 & 0.2890007 & 0.10859888 & 0.23836978 & 0.3590909 & 0.2266217 & ⋯ & 0.1419424 & 0.09994670 & 0.1300862 & 0.06114825 & 0.4327412 & 0.15029446 & 0.06924121 & 0.2959107 & 0.1058545 & 0.08395645\\\\\n",
       "\t5 & 0.3885182 & 0.1183632 & 0.3721927 & 0.24106045 & 0.2437483 & 0.1532421 & 0.07949859 & 0.13205765 & 0.3338384 & 0.1154170 & ⋯ & 0.2942014 & 0.09888060 & 0.2693859 & 0.15579532 & 0.2735918 & 0.14204771 & 0.10878594 & 0.2810309 & 0.1817465 & 0.08277581\\\\\n",
       "\t6 & 0.2171896 & 0.3155225 & 0.2101444 & 0.11291622 & 0.2963799 & 0.1774124 & 0.12851453 & 0.07097416 & 0.4904040 & 0.2676917 & ⋯ & 0.1828531 & 0.39872068 & 0.1793914 & 0.08240759 & 0.3548174 & 0.16145181 & 0.20447284 & 0.2290034 & 0.2897694 & 0.18234291\\\\\n",
       "\t7 & 0.2143499 & 0.4808928 & 0.2123557 & 0.11028632 & 0.3609280 & 0.2537268 & 0.26054358 & 0.20402584 & 0.1656566 & 0.3315080 & ⋯ & 0.1618641 & 0.67004264 & 0.1587230 & 0.07102831 & 0.3871756 & 0.21772371 & 0.28993610 & 0.3317182 & 0.1078257 & 0.21172767\\\\\n",
       "\t8 & 0.3232051 & 0.4748055 & 0.3301085 & 0.19270414 & 0.7192381 & 0.4828538 & 0.36504217 & 0.45606362 & 0.6015152 & 0.5107414 & ⋯ & 0.4009249 & 0.79504264 & 0.3889138 & 0.23785883 & 1.0000000 & 0.47890289 & 0.37108626 & 0.6917526 & 0.5651488 & 0.35130526\\\\\n",
       "\t9 & 0.1660751 & 0.3239770 & 0.1632230 & 0.08169671 & 0.4266498 & 0.2036685 & 0.07017338 & 0.05969185 & 0.5843434 & 0.3127633 & ⋯ & 0.1284240 & 0.30090618 & 0.1185816 & 0.05348014 & 0.3350063 & 0.11769557 & 0.06379393 & 0.1100687 & 0.2485709 & 0.13433032\\\\\n",
       "\t10 & 0.1930522 & 0.1775448 & 0.1914173 & 0.09773065 & 0.4574343 & 0.2195878 & 0.12645267 & 0.16605368 & 0.3616162 & 0.4024853 & ⋯ & 0.1419424 & 0.21002132 & 0.1461726 & 0.06262289 & 0.4664201 & 0.18793841 & 0.18362620 & 0.3694158 & 0.3422038 & 0.23455333\\\\\n",
       "\\end{tabular}\n"
      ],
      "text/markdown": [
       "\n",
       "A data.frame: 10 × 30\n",
       "\n",
       "| <!--/--> | radius_mean &lt;dbl&gt; | texture_mean &lt;dbl&gt; | perimeter_mean &lt;dbl&gt; | area_mean &lt;dbl&gt; | smoothness_mean &lt;dbl&gt; | compactness_mean &lt;dbl&gt; | concavity_mean &lt;dbl&gt; | points_mean &lt;dbl&gt; | symmetry_mean &lt;dbl&gt; | dimension_mean &lt;dbl&gt; | ⋯ ⋯ | radius_worst &lt;dbl&gt; | texture_worst &lt;dbl&gt; | perimeter_worst &lt;dbl&gt; | area_worst &lt;dbl&gt; | smoothness_worst &lt;dbl&gt; | compactness_worst &lt;dbl&gt; | concavity_worst &lt;dbl&gt; | points_worst &lt;dbl&gt; | symmetry_worst &lt;dbl&gt; | dimension_worst &lt;dbl&gt; |\n",
       "|---|---|---|---|---|---|---|---|---|---|---|---|---|---|---|---|---|---|---|---|---|---|\n",
       "| 1 | 0.2526859 | 0.0906324 | 0.2422777 | 0.13599152 | 0.4529205 | 0.1546838 | 0.09341612 | 0.18389662 | 0.4540404 | 0.2019798 | ⋯ | 0.1981501 | 0.09648188 | 0.1820808 | 0.08943669 | 0.4446279 | 0.09635106 | 0.09920128 | 0.3227148 | 0.2487680 | 0.08310376 |\n",
       "| 2 | 0.1712812 | 0.3124789 | 0.1761454 | 0.08606575 | 0.3994764 | 0.2923747 | 0.14964855 | 0.13131213 | 0.4353535 | 0.3148694 | ⋯ | 0.1405194 | 0.29104478 | 0.1388017 | 0.05888714 | 0.3310440 | 0.21752966 | 0.15303514 | 0.2723711 | 0.2710428 | 0.13662600 |\n",
       "| 3 | 0.1921056 | 0.2407846 | 0.1874784 | 0.09743372 | 0.4971563 | 0.1799276 | 0.07136832 | 0.12326044 | 0.3303030 | 0.2830666 | ⋯ | 0.1593739 | 0.38432836 | 0.1470193 | 0.07034015 | 0.4340619 | 0.11730749 | 0.08522364 | 0.2553608 | 0.2824759 | 0.15590975 |\n",
       "| 4 | 0.2034644 | 0.1244505 | 0.2018520 | 0.10235419 | 0.5756974 | 0.2890007 | 0.10859888 | 0.23836978 | 0.3590909 | 0.2266217 | ⋯ | 0.1419424 | 0.09994670 | 0.1300862 | 0.06114825 | 0.4327412 | 0.15029446 | 0.06924121 | 0.2959107 | 0.1058545 | 0.08395645 |\n",
       "| 5 | 0.3885182 | 0.1183632 | 0.3721927 | 0.24106045 | 0.2437483 | 0.1532421 | 0.07949859 | 0.13205765 | 0.3338384 | 0.1154170 | ⋯ | 0.2942014 | 0.09888060 | 0.2693859 | 0.15579532 | 0.2735918 | 0.14204771 | 0.10878594 | 0.2810309 | 0.1817465 | 0.08277581 |\n",
       "| 6 | 0.2171896 | 0.3155225 | 0.2101444 | 0.11291622 | 0.2963799 | 0.1774124 | 0.12851453 | 0.07097416 | 0.4904040 | 0.2676917 | ⋯ | 0.1828531 | 0.39872068 | 0.1793914 | 0.08240759 | 0.3548174 | 0.16145181 | 0.20447284 | 0.2290034 | 0.2897694 | 0.18234291 |\n",
       "| 7 | 0.2143499 | 0.4808928 | 0.2123557 | 0.11028632 | 0.3609280 | 0.2537268 | 0.26054358 | 0.20402584 | 0.1656566 | 0.3315080 | ⋯ | 0.1618641 | 0.67004264 | 0.1587230 | 0.07102831 | 0.3871756 | 0.21772371 | 0.28993610 | 0.3317182 | 0.1078257 | 0.21172767 |\n",
       "| 8 | 0.3232051 | 0.4748055 | 0.3301085 | 0.19270414 | 0.7192381 | 0.4828538 | 0.36504217 | 0.45606362 | 0.6015152 | 0.5107414 | ⋯ | 0.4009249 | 0.79504264 | 0.3889138 | 0.23785883 | 1.0000000 | 0.47890289 | 0.37108626 | 0.6917526 | 0.5651488 | 0.35130526 |\n",
       "| 9 | 0.1660751 | 0.3239770 | 0.1632230 | 0.08169671 | 0.4266498 | 0.2036685 | 0.07017338 | 0.05969185 | 0.5843434 | 0.3127633 | ⋯ | 0.1284240 | 0.30090618 | 0.1185816 | 0.05348014 | 0.3350063 | 0.11769557 | 0.06379393 | 0.1100687 | 0.2485709 | 0.13433032 |\n",
       "| 10 | 0.1930522 | 0.1775448 | 0.1914173 | 0.09773065 | 0.4574343 | 0.2195878 | 0.12645267 | 0.16605368 | 0.3616162 | 0.4024853 | ⋯ | 0.1419424 | 0.21002132 | 0.1461726 | 0.06262289 | 0.4664201 | 0.18793841 | 0.18362620 | 0.3694158 | 0.3422038 | 0.23455333 |\n",
       "\n"
      ],
      "text/plain": [
       "   radius_mean texture_mean perimeter_mean area_mean  smoothness_mean\n",
       "1  0.2526859   0.0906324    0.2422777      0.13599152 0.4529205      \n",
       "2  0.1712812   0.3124789    0.1761454      0.08606575 0.3994764      \n",
       "3  0.1921056   0.2407846    0.1874784      0.09743372 0.4971563      \n",
       "4  0.2034644   0.1244505    0.2018520      0.10235419 0.5756974      \n",
       "5  0.3885182   0.1183632    0.3721927      0.24106045 0.2437483      \n",
       "6  0.2171896   0.3155225    0.2101444      0.11291622 0.2963799      \n",
       "7  0.2143499   0.4808928    0.2123557      0.11028632 0.3609280      \n",
       "8  0.3232051   0.4748055    0.3301085      0.19270414 0.7192381      \n",
       "9  0.1660751   0.3239770    0.1632230      0.08169671 0.4266498      \n",
       "10 0.1930522   0.1775448    0.1914173      0.09773065 0.4574343      \n",
       "   compactness_mean concavity_mean points_mean symmetry_mean dimension_mean ⋯\n",
       "1  0.1546838        0.09341612     0.18389662  0.4540404     0.2019798      ⋯\n",
       "2  0.2923747        0.14964855     0.13131213  0.4353535     0.3148694      ⋯\n",
       "3  0.1799276        0.07136832     0.12326044  0.3303030     0.2830666      ⋯\n",
       "4  0.2890007        0.10859888     0.23836978  0.3590909     0.2266217      ⋯\n",
       "5  0.1532421        0.07949859     0.13205765  0.3338384     0.1154170      ⋯\n",
       "6  0.1774124        0.12851453     0.07097416  0.4904040     0.2676917      ⋯\n",
       "7  0.2537268        0.26054358     0.20402584  0.1656566     0.3315080      ⋯\n",
       "8  0.4828538        0.36504217     0.45606362  0.6015152     0.5107414      ⋯\n",
       "9  0.2036685        0.07017338     0.05969185  0.5843434     0.3127633      ⋯\n",
       "10 0.2195878        0.12645267     0.16605368  0.3616162     0.4024853      ⋯\n",
       "   radius_worst texture_worst perimeter_worst area_worst smoothness_worst\n",
       "1  0.1981501    0.09648188    0.1820808       0.08943669 0.4446279       \n",
       "2  0.1405194    0.29104478    0.1388017       0.05888714 0.3310440       \n",
       "3  0.1593739    0.38432836    0.1470193       0.07034015 0.4340619       \n",
       "4  0.1419424    0.09994670    0.1300862       0.06114825 0.4327412       \n",
       "5  0.2942014    0.09888060    0.2693859       0.15579532 0.2735918       \n",
       "6  0.1828531    0.39872068    0.1793914       0.08240759 0.3548174       \n",
       "7  0.1618641    0.67004264    0.1587230       0.07102831 0.3871756       \n",
       "8  0.4009249    0.79504264    0.3889138       0.23785883 1.0000000       \n",
       "9  0.1284240    0.30090618    0.1185816       0.05348014 0.3350063       \n",
       "10 0.1419424    0.21002132    0.1461726       0.06262289 0.4664201       \n",
       "   compactness_worst concavity_worst points_worst symmetry_worst\n",
       "1  0.09635106        0.09920128      0.3227148    0.2487680     \n",
       "2  0.21752966        0.15303514      0.2723711    0.2710428     \n",
       "3  0.11730749        0.08522364      0.2553608    0.2824759     \n",
       "4  0.15029446        0.06924121      0.2959107    0.1058545     \n",
       "5  0.14204771        0.10878594      0.2810309    0.1817465     \n",
       "6  0.16145181        0.20447284      0.2290034    0.2897694     \n",
       "7  0.21772371        0.28993610      0.3317182    0.1078257     \n",
       "8  0.47890289        0.37108626      0.6917526    0.5651488     \n",
       "9  0.11769557        0.06379393      0.1100687    0.2485709     \n",
       "10 0.18793841        0.18362620      0.3694158    0.3422038     \n",
       "   dimension_worst\n",
       "1  0.08310376     \n",
       "2  0.13662600     \n",
       "3  0.15590975     \n",
       "4  0.08395645     \n",
       "5  0.08277581     \n",
       "6  0.18234291     \n",
       "7  0.21172767     \n",
       "8  0.35130526     \n",
       "9  0.13433032     \n",
       "10 0.23455333     "
      ]
     },
     "metadata": {},
     "output_type": "display_data"
    }
   ],
   "source": [
    "head(wbcd_n, 10)"
   ]
  },
  {
   "cell_type": "code",
   "execution_count": 19,
   "id": "63e4ab71-59c0-4767-8732-31f0952ceefe",
   "metadata": {},
   "outputs": [
    {
     "data": {
      "text/plain": [
       "\n",
       "   Benign Malignant \n",
       "     62.7      37.3 "
      ]
     },
     "metadata": {},
     "output_type": "display_data"
    },
    {
     "data": {
      "text/plain": [
       "wbcd_train_labels\n",
       "   Benign Malignant \n",
       "     63.1      36.9 "
      ]
     },
     "metadata": {},
     "output_type": "display_data"
    },
    {
     "data": {
      "text/plain": [
       "wbcd_test_labels\n",
       "   Benign Malignant \n",
       "       61        39 "
      ]
     },
     "metadata": {},
     "output_type": "display_data"
    }
   ],
   "source": [
    "# Define the training and test datasets (remember that the benign/malignant labels aren't part of the dataset wbcd_n)\n",
    "wbcd_train <- wbcd_n[1:469, ]\n",
    "wbcd_test <- wbcd_n[470:569, ]\n",
    "\n",
    "# Define the training and test labels (retrieving the first 469 values from the 1st column/list/feature of wbcd)\n",
    "wbcd_train_labels <- wbcd[1:469, 1]\n",
    "wbcd_test_labels <- wbcd[470:569, 1]\n",
    "\n",
    "# Verify that the benign/malignant proportions in each set are reasonable\n",
    "round(proportions(table(wbcd$diagnosis)) * 100, digits = 1)\n",
    "round(proportions(table(wbcd_train_labels)) * 100, digits = 1)\n",
    "round(proportions(table(wbcd_test_labels)) * 100, digits = 1)"
   ]
  },
  {
   "cell_type": "code",
   "execution_count": 20,
   "id": "f1bf545d-7e1d-4bc0-a537-00c7dff25ebc",
   "metadata": {},
   "outputs": [],
   "source": [
    "library(class)"
   ]
  },
  {
   "cell_type": "code",
   "execution_count": 21,
   "id": "049ce86f-a2b6-4d9b-b1eb-89ce163cc992",
   "metadata": {},
   "outputs": [
    {
     "data": {
      "text/html": [
       "<style>\n",
       ".dl-inline {width: auto; margin:0; padding: 0}\n",
       ".dl-inline>dt, .dl-inline>dd {float: none; width: auto; display: inline-block}\n",
       ".dl-inline>dt::after {content: \":\\0020\"; padding-right: .5ex}\n",
       ".dl-inline>dt:not(:first-of-type) {padding-left: .5ex}\n",
       "</style><dl class=dl-inline><dt>Benign</dt><dd>63</dd><dt>Malignant</dt><dd>37</dd></dl>\n"
      ],
      "text/latex": [
       "\\begin{description*}\n",
       "\\item[Benign] 63\n",
       "\\item[Malignant] 37\n",
       "\\end{description*}\n"
      ],
      "text/markdown": [
       "Benign\n",
       ":   63Malignant\n",
       ":   37\n",
       "\n"
      ],
      "text/plain": [
       "   Benign Malignant \n",
       "       63        37 "
      ]
     },
     "metadata": {},
     "output_type": "display_data"
    },
    {
     "data": {
      "text/html": [
       "<style>\n",
       ".list-inline {list-style: none; margin:0; padding: 0}\n",
       ".list-inline>li {display: inline-block}\n",
       ".list-inline>li:not(:last-child)::after {content: \"\\00b7\"; padding: 0 .5ex}\n",
       "</style>\n",
       "<ol class=list-inline><li>1</li><li>0.952380952380952</li><li>0.952380952380952</li><li>0.952380952380952</li><li>1</li><li>1</li><li>1</li><li>1</li><li>1</li><li>0.619047619047619</li><li>0.904761904761905</li><li>0.904761904761905</li><li>0.523809523809524</li><li>1</li><li>1</li><li>1</li><li>1</li><li>1</li><li>1</li><li>1</li><li>0.952380952380952</li><li>1</li><li>1</li><li>0.857142857142857</li><li>1</li><li>1</li><li>0.904761904761905</li><li>1</li><li>0.619047619047619</li><li>1</li><li>1</li><li>0.761904761904762</li><li>0.523809523809524</li><li>1</li><li>0.80952380952381</li><li>0.80952380952381</li><li>1</li><li>1</li><li>1</li><li>1</li><li>1</li><li>1</li><li>0.80952380952381</li><li>0.904761904761905</li><li>1</li><li>1</li><li>0.952380952380952</li><li>1</li><li>1</li><li>1</li><li>0.666666666666667</li><li>1</li><li>0.952380952380952</li><li>0.80952380952381</li><li>1</li><li>1</li><li>1</li><li>0.761904761904762</li><li>0.761904761904762</li><li>1</li><li>1</li><li>1</li><li>1</li><li>1</li><li>0.952380952380952</li><li>1</li><li>1</li><li>1</li><li>1</li><li>1</li><li>1</li><li>0.666666666666667</li><li>1</li><li>1</li><li>1</li><li>1</li><li>1</li><li>1</li><li>1</li><li>0.857142857142857</li><li>1</li><li>1</li><li>1</li><li>0.952380952380952</li><li>0.952380952380952</li><li>0.904761904761905</li><li>1</li><li>1</li><li>0.571428571428571</li><li>1</li><li>1</li><li>0.666666666666667</li><li>1</li><li>0.904761904761905</li><li>0.952380952380952</li><li>1</li><li>1</li><li>0.523809523809524</li><li>1</li><li>1</li></ol>\n"
      ],
      "text/latex": [
       "\\begin{enumerate*}\n",
       "\\item 1\n",
       "\\item 0.952380952380952\n",
       "\\item 0.952380952380952\n",
       "\\item 0.952380952380952\n",
       "\\item 1\n",
       "\\item 1\n",
       "\\item 1\n",
       "\\item 1\n",
       "\\item 1\n",
       "\\item 0.619047619047619\n",
       "\\item 0.904761904761905\n",
       "\\item 0.904761904761905\n",
       "\\item 0.523809523809524\n",
       "\\item 1\n",
       "\\item 1\n",
       "\\item 1\n",
       "\\item 1\n",
       "\\item 1\n",
       "\\item 1\n",
       "\\item 1\n",
       "\\item 0.952380952380952\n",
       "\\item 1\n",
       "\\item 1\n",
       "\\item 0.857142857142857\n",
       "\\item 1\n",
       "\\item 1\n",
       "\\item 0.904761904761905\n",
       "\\item 1\n",
       "\\item 0.619047619047619\n",
       "\\item 1\n",
       "\\item 1\n",
       "\\item 0.761904761904762\n",
       "\\item 0.523809523809524\n",
       "\\item 1\n",
       "\\item 0.80952380952381\n",
       "\\item 0.80952380952381\n",
       "\\item 1\n",
       "\\item 1\n",
       "\\item 1\n",
       "\\item 1\n",
       "\\item 1\n",
       "\\item 1\n",
       "\\item 0.80952380952381\n",
       "\\item 0.904761904761905\n",
       "\\item 1\n",
       "\\item 1\n",
       "\\item 0.952380952380952\n",
       "\\item 1\n",
       "\\item 1\n",
       "\\item 1\n",
       "\\item 0.666666666666667\n",
       "\\item 1\n",
       "\\item 0.952380952380952\n",
       "\\item 0.80952380952381\n",
       "\\item 1\n",
       "\\item 1\n",
       "\\item 1\n",
       "\\item 0.761904761904762\n",
       "\\item 0.761904761904762\n",
       "\\item 1\n",
       "\\item 1\n",
       "\\item 1\n",
       "\\item 1\n",
       "\\item 1\n",
       "\\item 0.952380952380952\n",
       "\\item 1\n",
       "\\item 1\n",
       "\\item 1\n",
       "\\item 1\n",
       "\\item 1\n",
       "\\item 1\n",
       "\\item 0.666666666666667\n",
       "\\item 1\n",
       "\\item 1\n",
       "\\item 1\n",
       "\\item 1\n",
       "\\item 1\n",
       "\\item 1\n",
       "\\item 1\n",
       "\\item 0.857142857142857\n",
       "\\item 1\n",
       "\\item 1\n",
       "\\item 1\n",
       "\\item 0.952380952380952\n",
       "\\item 0.952380952380952\n",
       "\\item 0.904761904761905\n",
       "\\item 1\n",
       "\\item 1\n",
       "\\item 0.571428571428571\n",
       "\\item 1\n",
       "\\item 1\n",
       "\\item 0.666666666666667\n",
       "\\item 1\n",
       "\\item 0.904761904761905\n",
       "\\item 0.952380952380952\n",
       "\\item 1\n",
       "\\item 1\n",
       "\\item 0.523809523809524\n",
       "\\item 1\n",
       "\\item 1\n",
       "\\end{enumerate*}\n"
      ],
      "text/markdown": [
       "1. 1\n",
       "2. 0.952380952380952\n",
       "3. 0.952380952380952\n",
       "4. 0.952380952380952\n",
       "5. 1\n",
       "6. 1\n",
       "7. 1\n",
       "8. 1\n",
       "9. 1\n",
       "10. 0.619047619047619\n",
       "11. 0.904761904761905\n",
       "12. 0.904761904761905\n",
       "13. 0.523809523809524\n",
       "14. 1\n",
       "15. 1\n",
       "16. 1\n",
       "17. 1\n",
       "18. 1\n",
       "19. 1\n",
       "20. 1\n",
       "21. 0.952380952380952\n",
       "22. 1\n",
       "23. 1\n",
       "24. 0.857142857142857\n",
       "25. 1\n",
       "26. 1\n",
       "27. 0.904761904761905\n",
       "28. 1\n",
       "29. 0.619047619047619\n",
       "30. 1\n",
       "31. 1\n",
       "32. 0.761904761904762\n",
       "33. 0.523809523809524\n",
       "34. 1\n",
       "35. 0.80952380952381\n",
       "36. 0.80952380952381\n",
       "37. 1\n",
       "38. 1\n",
       "39. 1\n",
       "40. 1\n",
       "41. 1\n",
       "42. 1\n",
       "43. 0.80952380952381\n",
       "44. 0.904761904761905\n",
       "45. 1\n",
       "46. 1\n",
       "47. 0.952380952380952\n",
       "48. 1\n",
       "49. 1\n",
       "50. 1\n",
       "51. 0.666666666666667\n",
       "52. 1\n",
       "53. 0.952380952380952\n",
       "54. 0.80952380952381\n",
       "55. 1\n",
       "56. 1\n",
       "57. 1\n",
       "58. 0.761904761904762\n",
       "59. 0.761904761904762\n",
       "60. 1\n",
       "61. 1\n",
       "62. 1\n",
       "63. 1\n",
       "64. 1\n",
       "65. 0.952380952380952\n",
       "66. 1\n",
       "67. 1\n",
       "68. 1\n",
       "69. 1\n",
       "70. 1\n",
       "71. 1\n",
       "72. 0.666666666666667\n",
       "73. 1\n",
       "74. 1\n",
       "75. 1\n",
       "76. 1\n",
       "77. 1\n",
       "78. 1\n",
       "79. 1\n",
       "80. 0.857142857142857\n",
       "81. 1\n",
       "82. 1\n",
       "83. 1\n",
       "84. 0.952380952380952\n",
       "85. 0.952380952380952\n",
       "86. 0.904761904761905\n",
       "87. 1\n",
       "88. 1\n",
       "89. 0.571428571428571\n",
       "90. 1\n",
       "91. 1\n",
       "92. 0.666666666666667\n",
       "93. 1\n",
       "94. 0.904761904761905\n",
       "95. 0.952380952380952\n",
       "96. 1\n",
       "97. 1\n",
       "98. 0.523809523809524\n",
       "99. 1\n",
       "100. 1\n",
       "\n",
       "\n"
      ],
      "text/plain": [
       "  [1] 1.0000000 0.9523810 0.9523810 0.9523810 1.0000000 1.0000000 1.0000000\n",
       "  [8] 1.0000000 1.0000000 0.6190476 0.9047619 0.9047619 0.5238095 1.0000000\n",
       " [15] 1.0000000 1.0000000 1.0000000 1.0000000 1.0000000 1.0000000 0.9523810\n",
       " [22] 1.0000000 1.0000000 0.8571429 1.0000000 1.0000000 0.9047619 1.0000000\n",
       " [29] 0.6190476 1.0000000 1.0000000 0.7619048 0.5238095 1.0000000 0.8095238\n",
       " [36] 0.8095238 1.0000000 1.0000000 1.0000000 1.0000000 1.0000000 1.0000000\n",
       " [43] 0.8095238 0.9047619 1.0000000 1.0000000 0.9523810 1.0000000 1.0000000\n",
       " [50] 1.0000000 0.6666667 1.0000000 0.9523810 0.8095238 1.0000000 1.0000000\n",
       " [57] 1.0000000 0.7619048 0.7619048 1.0000000 1.0000000 1.0000000 1.0000000\n",
       " [64] 1.0000000 0.9523810 1.0000000 1.0000000 1.0000000 1.0000000 1.0000000\n",
       " [71] 1.0000000 0.6666667 1.0000000 1.0000000 1.0000000 1.0000000 1.0000000\n",
       " [78] 1.0000000 1.0000000 0.8571429 1.0000000 1.0000000 1.0000000 0.9523810\n",
       " [85] 0.9523810 0.9047619 1.0000000 1.0000000 0.5714286 1.0000000 1.0000000\n",
       " [92] 0.6666667 1.0000000 0.9047619 0.9523810 1.0000000 1.0000000 0.5238095\n",
       " [99] 1.0000000 1.0000000"
      ]
     },
     "metadata": {},
     "output_type": "display_data"
    },
    {
     "data": {
      "image/png": "[encoded data removed]",
      "text/plain": [
       "Plot with title “Histogram of attributes(wbcd_test_pred)$prob”"
      ]
     },
     "metadata": {
      "image/png": {
       "height": 420,
       "width": 420
      }
     },
     "output_type": "display_data"
    },
    {
     "data": {
      "image/png": "[encoded data removed]",
      "text/plain": [
       "plot without title"
      ]
     },
     "metadata": {
      "image/png": {
       "height": 420,
       "width": 420
      }
     },
     "output_type": "display_data"
    }
   ],
   "source": [
    "# Generate the list of predictions for the test set\n",
    "wbcd_test_pred <- knn(train = wbcd_train, test = wbcd_test, cl = wbcd_train_labels, k = 21, prob = TRUE)\n",
    "\n",
    "# Quick check what the model predicted\n",
    "summary(wbcd_test_pred)\n",
    "\n",
    "# Since we also added `prob = TRUE` inside `knn(...)`, we could also type `attributes(wbcd_test_pred)$prob` to see the resulting probabilities,\n",
    "# or plot a histogram or a boxplot\n",
    "attributes(wbcd_test_pred)$prob\n",
    "hist(attributes(wbcd_test_pred)$prob)\n",
    "boxplot(attributes(wbcd_test_pred)$prob, xlab = \"Predicted probabilities\", horizontal = TRUE)"
   ]
  },
  {
   "cell_type": "code",
   "execution_count": 22,
   "id": "e2a27005-ab6a-4fb1-bc6e-f32ff0806930",
   "metadata": {},
   "outputs": [],
   "source": [
    "library(gmodels)"
   ]
  },
  {
   "cell_type": "code",
   "execution_count": 26,
   "id": "40504ad1-eab0-4f17-a61a-e0633f078e9d",
   "metadata": {},
   "outputs": [
    {
     "name": "stdout",
     "output_type": "stream",
     "text": [
      "\n",
      " \n",
      "   Cell Contents\n",
      "|-------------------------|\n",
      "|                       N |\n",
      "|-------------------------|\n",
      "\n",
      " \n",
      "Total Observations in Table:  100 \n",
      "\n",
      " \n",
      "             | Predictions \n",
      "      Actual |    Benign | Malignant | Row Total | \n",
      "-------------|-----------|-----------|-----------|\n",
      "      Benign |        61 |         0 |        61 | \n",
      "-------------|-----------|-----------|-----------|\n",
      "   Malignant |         2 |        37 |        39 | \n",
      "-------------|-----------|-----------|-----------|\n",
      "Column Total |        63 |        37 |       100 | \n",
      "-------------|-----------|-----------|-----------|\n",
      "\n",
      " \n"
     ]
    }
   ],
   "source": [
    "CrossTable(x = wbcd_test_labels, y = wbcd_test_pred, dnn = c(\"Actual\", \"Predictions\"), prop.chisq = FALSE, prop.c = FALSE, prop.r = FALSE, prop.t = FALSE)"
   ]
  },
  {
   "cell_type": "code",
   "execution_count": null,
   "id": "7eef5f8a-f668-4a98-a742-4b30760a0cb1",
   "metadata": {},
   "outputs": [],
   "source": []
  }
 ],
 "metadata": {
  "kernelspec": {
   "display_name": "R",
   "language": "R",
   "name": "ir"
  },
  "language_info": {
   "codemirror_mode": "r",
   "file_extension": ".r",
   "mimetype": "text/x-r-source",
   "name": "R",
   "pygments_lexer": "r",
   "version": "4.2.2"
  }
 },
 "nbformat": 4,
 "nbformat_minor": 5
}
